{
  "nbformat": 4,
  "nbformat_minor": 0,
  "metadata": {
    "colab": {
      "name": "abc018_b.ipynb",
      "provenance": [],
      "authorship_tag": "ABX9TyPzBmtevb/P4pEFQ9oquQTm"
    },
    "kernelspec": {
      "name": "python3",
      "display_name": "Python 3"
    },
    "language_info": {
      "name": "python"
    }
  },
  "cells": [
    {
      "cell_type": "code",
      "execution_count": 7,
      "metadata": {
        "colab": {
          "base_uri": "https://localhost:8080/"
        },
        "id": "q_36vSHpeico",
        "outputId": "9c74cb51-1611-4dd3-9bb6-fb7cdbbfb30e"
      },
      "outputs": [
        {
          "output_type": "stream",
          "name": "stdout",
          "text": [
            "abcdef\n",
            "2\n",
            "3 5\n",
            "1 4\n",
            "debacf\n"
          ]
        }
      ],
      "source": [
        "s = input()\n",
        "for i in range(int(input())):\n",
        "  l1, l2 = map(int, input().split())\n",
        "  s = s[:l1-1] + s[l1-1:l2][::-1] + s[l2:]\n",
        "print(s)"
      ]
    }
  ]
}