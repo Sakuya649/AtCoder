{
  "nbformat": 4,
  "nbformat_minor": 0,
  "metadata": {
    "colab": {
      "name": "abc018.ipynb",
      "provenance": [],
      "authorship_tag": "ABX9TyMMYAHYlmF6nPZ9GJFcVDMr"
    },
    "kernelspec": {
      "name": "python3",
      "display_name": "Python 3"
    },
    "language_info": {
      "name": "python"
    }
  },
  "cells": [
    {
      "cell_type": "code",
      "execution_count": 2,
      "metadata": {
        "colab": {
          "base_uri": "https://localhost:8080/"
        },
        "id": "YyzyVGemcW-l",
        "outputId": "9f712834-6dc9-4a85-86d5-a2eada783017"
      },
      "outputs": [
        {
          "output_type": "stream",
          "name": "stdout",
          "text": [
            "12\n",
            "18\n",
            "11\n",
            "2\n",
            "1\n",
            "3\n"
          ]
        }
      ],
      "source": [
        "s = [int(input()) for i in range(3)]\n",
        "for s_i in s:\n",
        "  if s_i == max(s):\n",
        "    print(1)\n",
        "  elif s_i == min(s):\n",
        "    print(3)\n",
        "  else:\n",
        "    print(2)"
      ]
    }
  ]
}