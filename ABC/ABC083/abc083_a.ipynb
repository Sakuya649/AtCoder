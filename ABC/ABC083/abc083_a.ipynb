{
  "nbformat": 4,
  "nbformat_minor": 0,
  "metadata": {
    "colab": {
      "name": "abc083_a.ipynb",
      "provenance": [],
      "authorship_tag": "ABX9TyPMrUs9uFMySHnDvyThr+pw"
    },
    "kernelspec": {
      "name": "python3",
      "display_name": "Python 3"
    },
    "language_info": {
      "name": "python"
    }
  },
  "cells": [
    {
      "cell_type": "code",
      "execution_count": 4,
      "metadata": {
        "colab": {
          "base_uri": "https://localhost:8080/"
        },
        "id": "IKGks0Pnaip4",
        "outputId": "3ffd181a-42ad-49d1-8385-df01a956a36f"
      },
      "outputs": [
        {
          "output_type": "stream",
          "name": "stdout",
          "text": [
            "1 7 6 4\n",
            "Right\n"
          ]
        }
      ],
      "source": [
        "a, b, c, d = map(int, input().split())\n",
        "if a+b > c+d:\n",
        "  print(\"Left\")\n",
        "elif a+b < c+d:\n",
        "  print(\"Right\")\n",
        "else:\n",
        "  print(\"Balanced\")"
      ]
    }
  ]
}