{
  "nbformat": 4,
  "nbformat_minor": 0,
  "metadata": {
    "colab": {
      "name": "abc083_c.ipynb",
      "provenance": [],
      "authorship_tag": "ABX9TyMoUW/OPGTrVLpfunYR6q4w"
    },
    "kernelspec": {
      "name": "python3",
      "display_name": "Python 3"
    },
    "language_info": {
      "name": "python"
    }
  },
  "cells": [
    {
      "cell_type": "code",
      "execution_count": 5,
      "metadata": {
        "colab": {
          "base_uri": "https://localhost:8080/"
        },
        "id": "n0uBc_up7r5T",
        "outputId": "2c5f6514-8d03-4f59-f716-46bb50372395"
      },
      "outputs": [
        {
          "output_type": "stream",
          "name": "stdout",
          "text": [
            "314159265 358979323846264338\n",
            "31\n"
          ]
        }
      ],
      "source": [
        "x , y = map(int, input().split())\n",
        "ans = 0\n",
        "while x <= y:\n",
        "  x *= 2\n",
        "  ans += 1\n",
        "print(ans)"
      ]
    }
  ]
}