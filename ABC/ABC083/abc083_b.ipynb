{
  "nbformat": 4,
  "nbformat_minor": 0,
  "metadata": {
    "colab": {
      "name": "abc083_b.ipynb",
      "provenance": [],
      "authorship_tag": "ABX9TyPzOcQ92xSAdIQp9PwwnIVB"
    },
    "kernelspec": {
      "name": "python3",
      "display_name": "Python 3"
    },
    "language_info": {
      "name": "python"
    }
  },
  "cells": [
    {
      "cell_type": "code",
      "execution_count": 10,
      "metadata": {
        "colab": {
          "base_uri": "https://localhost:8080/"
        },
        "id": "88UX-JCyvTJn",
        "outputId": "98924321-4224-4e7c-e4bc-357857879caf"
      },
      "outputs": [
        {
          "output_type": "stream",
          "name": "stdout",
          "text": [
            "100 4 16\n",
            "4554\n"
          ]
        }
      ],
      "source": [
        "n, a, b = map(int, input().split())\n",
        "ans = 0\n",
        "for i in range(1, n+1):\n",
        "  temp = sum(list(map(int, str(i))))\n",
        "  if a <= temp and temp <= b:\n",
        "    ans += i\n",
        "print(ans)"
      ]
    }
  ]
}