{
  "nbformat": 4,
  "nbformat_minor": 0,
  "metadata": {
    "colab": {
      "name": "abc014_a.ipynb",
      "provenance": [],
      "authorship_tag": "ABX9TyMrt23YCbmxkzPxYunQuCuq"
    },
    "kernelspec": {
      "name": "python3",
      "display_name": "Python 3"
    },
    "language_info": {
      "name": "python"
    }
  },
  "cells": [
    {
      "cell_type": "code",
      "execution_count": 3,
      "metadata": {
        "colab": {
          "base_uri": "https://localhost:8080/"
        },
        "id": "5nHG3gDlkux4",
        "outputId": "c59f7b98-eb59-47d7-ba31-67a32a6ebf55"
      },
      "outputs": [
        {
          "output_type": "stream",
          "name": "stdout",
          "text": [
            "25\n",
            "12\n",
            "11\n"
          ]
        }
      ],
      "source": [
        "a = int(input())\n",
        "b = int(input())\n",
        "if a % b == 0:\n",
        "  print(0)\n",
        "else:\n",
        "  print(b-(a%b))"
      ]
    }
  ]
}