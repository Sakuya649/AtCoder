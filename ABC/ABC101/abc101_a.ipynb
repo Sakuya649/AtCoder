{
  "nbformat": 4,
  "nbformat_minor": 0,
  "metadata": {
    "colab": {
      "name": "abc101_a.ipynb",
      "provenance": [],
      "authorship_tag": "ABX9TyPmC7EF4mkphtLra/UIwyJN"
    },
    "kernelspec": {
      "name": "python3",
      "display_name": "Python 3"
    },
    "language_info": {
      "name": "python"
    }
  },
  "cells": [
    {
      "cell_type": "code",
      "execution_count": 1,
      "metadata": {
        "colab": {
          "base_uri": "https://localhost:8080/"
        },
        "id": "1ZWNBla_7K_L",
        "outputId": "c9fb0f48-5212-4905-c07f-06970b7a1f93"
      },
      "outputs": [
        {
          "output_type": "stream",
          "name": "stdout",
          "text": [
            "+-++\n",
            "2\n"
          ]
        }
      ],
      "source": [
        "S = input()\n",
        "ans = 0\n",
        "for s in S:\n",
        "  if s == \"+\":\n",
        "    ans += 1\n",
        "  else:\n",
        "    ans -= 1\n",
        "print(ans)"
      ]
    }
  ]
}