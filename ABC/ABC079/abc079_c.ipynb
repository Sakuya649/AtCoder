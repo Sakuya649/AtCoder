{
  "nbformat": 4,
  "nbformat_minor": 0,
  "metadata": {
    "colab": {
      "name": "abc079_c.ipynb",
      "provenance": [],
      "authorship_tag": "ABX9TyODJ9UCAuIOf7hTgusSSjVR"
    },
    "kernelspec": {
      "name": "python3",
      "display_name": "Python 3"
    },
    "language_info": {
      "name": "python"
    }
  },
  "cells": [
    {
      "cell_type": "code",
      "execution_count": 4,
      "metadata": {
        "colab": {
          "base_uri": "https://localhost:8080/"
        },
        "id": "RJRXGeEO86nY",
        "outputId": "5a72bbcf-4a23-457d-c424-12efbaf2808a"
      },
      "outputs": [
        {
          "output_type": "stream",
          "name": "stdout",
          "text": [
            "1222\n",
            "1+2+2+2=7\n"
          ]
        }
      ],
      "source": [
        "a, b, c, d = input()\n",
        "op = [\"+\", \"-\"]\n",
        "for op1 in op:\n",
        "  for op2 in op:\n",
        "    for op3 in op:\n",
        "      if eval(a + op1 + b + op2 + c + op3 + d) == 7:\n",
        "        print(a + op1 + b + op2 + c + op3 + d + \"=7\")\n",
        "        exit()"
      ]
    }
  ]
}