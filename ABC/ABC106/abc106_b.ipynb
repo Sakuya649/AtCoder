{
  "nbformat": 4,
  "nbformat_minor": 0,
  "metadata": {
    "colab": {
      "name": "abc106_b.ipynb",
      "provenance": [],
      "authorship_tag": "ABX9TyNqFuykNIsULlMc3wRY9BeT"
    },
    "kernelspec": {
      "name": "python3",
      "display_name": "Python 3"
    },
    "language_info": {
      "name": "python"
    }
  },
  "cells": [
    {
      "cell_type": "code",
      "execution_count": 12,
      "metadata": {
        "colab": {
          "base_uri": "https://localhost:8080/"
        },
        "id": "UqoiPzXabrJg",
        "outputId": "d3a2afd6-323f-48f5-c624-fc78bf2363ba"
      },
      "outputs": [
        {
          "output_type": "stream",
          "name": "stdout",
          "text": [
            "7\n",
            "0\n"
          ]
        }
      ],
      "source": [
        "n = int(input())\n",
        "ans = 0\n",
        "for i in range(1, n+1, 2):\n",
        "  num = 0\n",
        "  for j in range(1, i+1):\n",
        "    if i % j == 0:\n",
        "      num += 1\n",
        "  if num == 8:\n",
        "    ans += 1\n",
        "print(ans)"
      ]
    }
  ]
}