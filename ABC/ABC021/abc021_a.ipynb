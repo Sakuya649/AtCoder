{
  "nbformat": 4,
  "nbformat_minor": 0,
  "metadata": {
    "colab": {
      "name": "abc021_a.ipynb",
      "provenance": [],
      "authorship_tag": "ABX9TyNdGd2ds0rZwX3vmN9MP2+a"
    },
    "kernelspec": {
      "name": "python3",
      "display_name": "Python 3"
    },
    "language_info": {
      "name": "python"
    }
  },
  "cells": [
    {
      "cell_type": "code",
      "execution_count": 3,
      "metadata": {
        "colab": {
          "base_uri": "https://localhost:8080/"
        },
        "id": "gBigVzNty5FI",
        "outputId": "36d0af94-d054-4c31-cc6b-d2d0735910aa"
      },
      "outputs": [
        {
          "output_type": "stream",
          "name": "stdout",
          "text": [
            "1\n",
            "1\n",
            "1\n"
          ]
        }
      ],
      "source": [
        "n = int(input())\n",
        "print(n)\n",
        "print(\"1\\n\" * n, end=\"\")"
      ]
    }
  ]
}