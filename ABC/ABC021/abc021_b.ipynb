{
  "nbformat": 4,
  "nbformat_minor": 0,
  "metadata": {
    "colab": {
      "name": "abc021_b.ipynb",
      "provenance": [],
      "authorship_tag": "ABX9TyOr0zAFR9IoIxrCLozycxnV"
    },
    "kernelspec": {
      "name": "python3",
      "display_name": "Python 3"
    },
    "language_info": {
      "name": "python"
    }
  },
  "cells": [
    {
      "cell_type": "code",
      "execution_count": 10,
      "metadata": {
        "colab": {
          "base_uri": "https://localhost:8080/"
        },
        "id": "HYG10HtO0ulb",
        "outputId": "9d4ea21c-9593-4afb-a64b-36a09fb8bbd0"
      },
      "outputs": [
        {
          "output_type": "stream",
          "name": "stdout",
          "text": [
            "4\n",
            "1 4\n",
            "3\n",
            "2 4 3\n",
            "NO\n"
          ]
        }
      ],
      "source": [
        "n = input()\n",
        "num = input().split()\n",
        "k = int(input())\n",
        "num += input().split()\n",
        "if len(set(num)) == len(num):\n",
        "  print(\"YES\")\n",
        "else:\n",
        "  print(\"NO\")"
      ]
    }
  ]
}