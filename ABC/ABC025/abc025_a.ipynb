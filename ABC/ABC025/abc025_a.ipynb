{
  "nbformat": 4,
  "nbformat_minor": 0,
  "metadata": {
    "colab": {
      "name": "abc025_a.ipynb",
      "provenance": [],
      "authorship_tag": "ABX9TyN5fdH/0SmX4OzX1lKE86ii"
    },
    "kernelspec": {
      "name": "python3",
      "display_name": "Python 3"
    },
    "language_info": {
      "name": "python"
    }
  },
  "cells": [
    {
      "cell_type": "code",
      "execution_count": 11,
      "metadata": {
        "colab": {
          "base_uri": "https://localhost:8080/"
        },
        "id": "A4pJKjp6oeVr",
        "outputId": "4f81d0ec-8128-4f9f-d4e0-53a02132e221"
      },
      "outputs": [
        {
          "output_type": "stream",
          "name": "stdout",
          "text": [
            "vwxyz\n",
            "25\n",
            "zz\n"
          ]
        }
      ],
      "source": [
        "s = list(input())\n",
        "n = int(input()) - 1\n",
        "s.sort()\n",
        "print(s[n//5] + s[(n%5)])"
      ]
    }
  ]
}