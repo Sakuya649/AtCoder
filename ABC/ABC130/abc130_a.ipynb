{
  "nbformat": 4,
  "nbformat_minor": 0,
  "metadata": {
    "colab": {
      "name": "abc130_a.ipynb",
      "provenance": [],
      "authorship_tag": "ABX9TyNAvfNyNhIJukA1E/qXJNyJ"
    },
    "kernelspec": {
      "name": "python3",
      "display_name": "Python 3"
    },
    "language_info": {
      "name": "python"
    }
  },
  "cells": [
    {
      "cell_type": "code",
      "execution_count": 3,
      "metadata": {
        "colab": {
          "base_uri": "https://localhost:8080/"
        },
        "id": "TvSCBTLnwZzH",
        "outputId": "188562f2-a6ac-4fcb-b171-7499e4563719"
      },
      "outputs": [
        {
          "output_type": "stream",
          "name": "stdout",
          "text": [
            "6 6\n",
            "10\n"
          ]
        }
      ],
      "source": [
        "x, a = map(int, input().split())\n",
        "print([0, 10][x >= a])"
      ]
    }
  ]
}