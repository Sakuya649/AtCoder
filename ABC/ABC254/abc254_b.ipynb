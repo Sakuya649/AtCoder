{
  "nbformat": 4,
  "nbformat_minor": 0,
  "metadata": {
    "colab": {
      "name": "abc254_b.ipynb",
      "provenance": [],
      "authorship_tag": "ABX9TyM++5Mqfgp07tbPCg1atU03"
    },
    "kernelspec": {
      "name": "python3",
      "display_name": "Python 3"
    },
    "language_info": {
      "name": "python"
    }
  },
  "cells": [
    {
      "cell_type": "code",
      "execution_count": 10,
      "metadata": {
        "colab": {
          "base_uri": "https://localhost:8080/"
        },
        "id": "MNaM8iIwmm1t",
        "outputId": "16c4fe67-5e17-4742-c5f4-2184a84e37fe"
      },
      "outputs": [
        {
          "output_type": "stream",
          "name": "stdout",
          "text": [
            "10\n",
            "1\n",
            "1 1\n",
            "1 2 1\n",
            "1 3 3 1\n",
            "1 4 6 4 1\n",
            "1 5 10 10 5 1\n",
            "1 6 15 20 15 6 1\n",
            "1 7 21 35 35 21 7 1\n",
            "1 8 28 56 70 56 28 8 1\n",
            "1 9 36 84 126 126 84 36 9 1\n"
          ]
        }
      ],
      "source": [
        "N=int(input())\n",
        "a=[[1]]\n",
        "for i in range(1,N):\n",
        "    tmp=[1]\n",
        "    if i >1:\n",
        "        for j in range(1,i):\n",
        "            tmp.append(a[i-1][j-1]+a[i-1][j])\n",
        "    tmp.append(1)\n",
        "    a.append(tmp)\n",
        "for i in a:\n",
        "  print(*i)"
      ]
    }
  ]
}