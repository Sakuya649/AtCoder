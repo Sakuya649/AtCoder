{
  "nbformat": 4,
  "nbformat_minor": 0,
  "metadata": {
    "colab": {
      "name": "abc254_a.ipynb",
      "provenance": [],
      "authorship_tag": "ABX9TyN8w46zTpqQCwO7KvFUbjWn"
    },
    "kernelspec": {
      "name": "python3",
      "display_name": "Python 3"
    },
    "language_info": {
      "name": "python"
    }
  },
  "cells": [
    {
      "cell_type": "code",
      "execution_count": 2,
      "metadata": {
        "colab": {
          "base_uri": "https://localhost:8080/"
        },
        "id": "RtcBJovMmPO1",
        "outputId": "94e65386-bb35-4b5d-d5c3-38dfb89a35cc"
      },
      "outputs": [
        {
          "output_type": "stream",
          "name": "stdout",
          "text": [
            "101\n",
            "01\n"
          ]
        }
      ],
      "source": [
        "n = input()\n",
        "print(n[-2:])"
      ]
    }
  ]
}