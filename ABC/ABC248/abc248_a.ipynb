{
  "nbformat": 4,
  "nbformat_minor": 0,
  "metadata": {
    "colab": {
      "name": "abc248_a.ipynb",
      "provenance": [],
      "authorship_tag": "ABX9TyN476+EwoOIZr7dSF0MjfKF"
    },
    "kernelspec": {
      "name": "python3",
      "display_name": "Python 3"
    },
    "language_info": {
      "name": "python"
    }
  },
  "cells": [
    {
      "cell_type": "code",
      "execution_count": null,
      "metadata": {
        "colab": {
          "base_uri": "https://localhost:8080/"
        },
        "id": "LfNX1FaQN5Af",
        "outputId": "15adef5f-c385-4013-b9eb-faaf04298c64"
      },
      "outputs": [
        {
          "output_type": "stream",
          "name": "stdout",
          "text": [
            "023456789\n",
            "1\n"
          ]
        }
      ],
      "source": [
        "S = input()\n",
        "for i in range(0, 10):\n",
        "  if str(i) not in S:\n",
        "    print(i)"
      ]
    }
  ]
}