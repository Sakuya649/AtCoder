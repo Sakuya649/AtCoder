{
  "nbformat": 4,
  "nbformat_minor": 0,
  "metadata": {
    "colab": {
      "name": "abc248_b.ipynb",
      "provenance": [],
      "authorship_tag": "ABX9TyMgEzPByXLhtSTEaEsMZ7Mf"
    },
    "kernelspec": {
      "name": "python3",
      "display_name": "Python 3"
    },
    "language_info": {
      "name": "python"
    }
  },
  "cells": [
    {
      "cell_type": "code",
      "execution_count": null,
      "metadata": {
        "colab": {
          "base_uri": "https://localhost:8080/"
        },
        "id": "6bhrw3t4QOcX",
        "outputId": "5bf44053-b4f6-45ca-cdce-6166a33c2885"
      },
      "outputs": [
        {
          "output_type": "stream",
          "name": "stdout",
          "text": [
            "7 7 10\n",
            "0\n"
          ]
        }
      ],
      "source": [
        "a, b, k = map(int, input().split())\n",
        "i = 0\n",
        "while a < b:\n",
        "  a *= k\n",
        "  i += 1\n",
        "print(i)"
      ]
    }
  ]
}