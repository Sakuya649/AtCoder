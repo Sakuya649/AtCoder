{
  "nbformat": 4,
  "nbformat_minor": 0,
  "metadata": {
    "colab": {
      "name": "abc006_b.ipynb",
      "provenance": [],
      "authorship_tag": "ABX9TyMNBcFppEqlroqW59A597+b"
    },
    "kernelspec": {
      "name": "python3",
      "display_name": "Python 3"
    },
    "language_info": {
      "name": "python"
    }
  },
  "cells": [
    {
      "cell_type": "code",
      "execution_count": 18,
      "metadata": {
        "colab": {
          "base_uri": "https://localhost:8080/"
        },
        "id": "o5PEo1qvmHWP",
        "outputId": "a10002b9-53ba-413a-bcc8-4a40a96d3588"
      },
      "outputs": [
        {
          "output_type": "stream",
          "name": "stdout",
          "text": [
            "100000\n",
            "7927\n"
          ]
        }
      ],
      "source": [
        "n = int(input())\n",
        "tori_list = [0] * (n+1)\n",
        "if n >= 3:\n",
        "  tori_list[3] = 1\n",
        "for i in range(4, n+1):\n",
        "  tori_list[i] = (tori_list[i-1] + tori_list[i-2] + tori_list[i-3]) % 10007\n",
        "print(tori_list[n])"
      ]
    }
  ]
}