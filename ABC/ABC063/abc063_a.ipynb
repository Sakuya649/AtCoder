{
  "nbformat": 4,
  "nbformat_minor": 0,
  "metadata": {
    "colab": {
      "name": "abc063_a.ipynb",
      "provenance": [],
      "authorship_tag": "ABX9TyPxVsPbAPFrhVSrwTBovEp6"
    },
    "kernelspec": {
      "name": "python3",
      "display_name": "Python 3"
    },
    "language_info": {
      "name": "python"
    }
  },
  "cells": [
    {
      "cell_type": "code",
      "execution_count": 2,
      "metadata": {
        "colab": {
          "base_uri": "https://localhost:8080/"
        },
        "id": "RLiSDVgwZH7-",
        "outputId": "f0173a37-ec44-43cd-f430-238476e14af3"
      },
      "outputs": [
        {
          "output_type": "stream",
          "name": "stdout",
          "text": [
            "6 4\n",
            "error\n"
          ]
        }
      ],
      "source": [
        "a, b = map(int, input().split())\n",
        "print([a+b, \"error\"][a+b>=10])"
      ]
    }
  ]
}