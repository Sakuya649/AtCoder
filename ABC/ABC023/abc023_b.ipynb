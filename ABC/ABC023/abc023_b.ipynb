{
  "nbformat": 4,
  "nbformat_minor": 0,
  "metadata": {
    "colab": {
      "name": "abc023_b.ipynb",
      "provenance": [],
      "authorship_tag": "ABX9TyPp+EEywD3U+q6K9J0qtMbn"
    },
    "kernelspec": {
      "name": "python3",
      "display_name": "Python 3"
    },
    "language_info": {
      "name": "python"
    }
  },
  "cells": [
    {
      "cell_type": "code",
      "execution_count": 17,
      "metadata": {
        "colab": {
          "base_uri": "https://localhost:8080/"
        },
        "id": "utAMIRQxBpBv",
        "outputId": "8a4ae718-e367-4855-e7d7-f04d166235cc"
      },
      "outputs": [
        {
          "output_type": "stream",
          "name": "stdout",
          "text": [
            "7\n",
            "atcoder\n",
            "-1\n"
          ]
        }
      ],
      "source": [
        "n = int(input())//2\n",
        "s = \"b\"\n",
        "for i in range(n):\n",
        "  s = \"acb\"[i%3] + s + \"cab\"[i%3]\n",
        "print([-1, n][s==input()])"
      ]
    }
  ]
}