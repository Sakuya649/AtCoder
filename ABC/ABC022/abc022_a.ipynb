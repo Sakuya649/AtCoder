{
  "nbformat": 4,
  "nbformat_minor": 0,
  "metadata": {
    "colab": {
      "name": "abc022_a.ipynb",
      "provenance": [],
      "authorship_tag": "ABX9TyOD4Q7N/7jAI+/LupsBVHLx"
    },
    "kernelspec": {
      "name": "python3",
      "display_name": "Python 3"
    },
    "language_info": {
      "name": "python"
    }
  },
  "cells": [
    {
      "cell_type": "code",
      "execution_count": 5,
      "metadata": {
        "colab": {
          "base_uri": "https://localhost:8080/"
        },
        "id": "s6eEh9KnUgsb",
        "outputId": "835f56f6-5af7-45d0-a6cc-3f74c4061636"
      },
      "outputs": [
        {
          "output_type": "stream",
          "name": "stdout",
          "text": [
            "5 50 100\n",
            "120\n",
            "-10\n",
            "-20\n",
            "-30\n",
            "70\n",
            "2\n"
          ]
        }
      ],
      "source": [
        "n, s, t = map(int, input().split())\n",
        "w = 0\n",
        "ans = 0\n",
        "for i in range(n):\n",
        "  w += int(input())\n",
        "  if s <= w and w <= t:\n",
        "    ans += 1\n",
        "print(ans)"
      ]
    }
  ]
}