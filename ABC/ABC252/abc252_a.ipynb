{
  "nbformat": 4,
  "nbformat_minor": 0,
  "metadata": {
    "colab": {
      "name": "abc252_a.ipynb",
      "provenance": [],
      "authorship_tag": "ABX9TyPYKrgBQ9yyuijKleQugdly"
    },
    "kernelspec": {
      "name": "python3",
      "display_name": "Python 3"
    },
    "language_info": {
      "name": "python"
    }
  },
  "cells": [
    {
      "cell_type": "code",
      "execution_count": 2,
      "metadata": {
        "colab": {
          "base_uri": "https://localhost:8080/"
        },
        "id": "h_rzIvpJe2-D",
        "outputId": "a5664aa2-cd69-4452-a8cb-6ab4704f5966"
      },
      "outputs": [
        {
          "output_type": "stream",
          "name": "stdout",
          "text": [
            "122\n",
            "z\n"
          ]
        }
      ],
      "source": [
        "n = int(input())\n",
        "print(chr(n))"
      ]
    }
  ]
}