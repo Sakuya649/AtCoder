{
  "nbformat": 4,
  "nbformat_minor": 0,
  "metadata": {
    "colab": {
      "name": "abc252_b.ipynb",
      "provenance": [],
      "authorship_tag": "ABX9TyMXXA4HGrt51C43a7wIgRc2"
    },
    "kernelspec": {
      "name": "python3",
      "display_name": "Python 3"
    },
    "language_info": {
      "name": "python"
    }
  },
  "cells": [
    {
      "cell_type": "code",
      "execution_count": 5,
      "metadata": {
        "colab": {
          "base_uri": "https://localhost:8080/"
        },
        "id": "CIxP_mYbe74-",
        "outputId": "f9702e73-ed41-465a-af80-08d5cbb28d4e"
      },
      "outputs": [
        {
          "output_type": "stream",
          "name": "stdout",
          "text": [
            "2 1\n",
            "100 1\n",
            "2\n",
            "No\n"
          ]
        }
      ],
      "source": [
        "n, k = map(int, input().split())\n",
        "A = list(map(int, input().split()))\n",
        "B = list(map(int, input().split()))\n",
        "max_A = max(A)\n",
        "for i in range(len(A)):\n",
        "  if A[i] == max_A and (i+1) in B:\n",
        "    print(\"Yes\")\n",
        "    break\n",
        "else:\n",
        "  print(\"No\")"
      ]
    }
  ]
}