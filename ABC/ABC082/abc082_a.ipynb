{
  "nbformat": 4,
  "nbformat_minor": 0,
  "metadata": {
    "colab": {
      "name": "abc082_a.ipynb",
      "provenance": [],
      "authorship_tag": "ABX9TyMpPWSkQIexws2yOZZLcyKJ"
    },
    "kernelspec": {
      "name": "python3",
      "display_name": "Python 3"
    },
    "language_info": {
      "name": "python"
    }
  },
  "cells": [
    {
      "cell_type": "code",
      "execution_count": 7,
      "metadata": {
        "colab": {
          "base_uri": "https://localhost:8080/"
        },
        "id": "RMtrECvxaNun",
        "outputId": "c0d5dd07-30ef-4f30-8060-58607471912c"
      },
      "outputs": [
        {
          "output_type": "stream",
          "name": "stdout",
          "text": [
            "7 4\n",
            "6\n"
          ]
        }
      ],
      "source": [
        "a, b = map(int, input().split())\n",
        "print([int((a+b)/2), int((a+b+1)/2)][(a+b)%2 == 1])"
      ]
    }
  ]
}