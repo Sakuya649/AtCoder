{
  "nbformat": 4,
  "nbformat_minor": 0,
  "metadata": {
    "colab": {
      "name": "abc082_c.ipynb",
      "provenance": [],
      "authorship_tag": "ABX9TyMlcd37KcdVHixfLO8/mDbd"
    },
    "kernelspec": {
      "name": "python3",
      "display_name": "Python 3"
    },
    "language_info": {
      "name": "python"
    }
  },
  "cells": [
    {
      "cell_type": "code",
      "execution_count": 17,
      "metadata": {
        "colab": {
          "base_uri": "https://localhost:8080/"
        },
        "id": "O-GPWmdWKkv1",
        "outputId": "f9137fca-72ff-465f-ff04-77093a34700a"
      },
      "outputs": [
        {
          "output_type": "stream",
          "name": "stdout",
          "text": [
            "8\n",
            "2 7 1 8 2 8 1 8\n",
            "5\n"
          ]
        }
      ],
      "source": [
        "import collections\n",
        "n = int(input())\n",
        "A = list(map(int, input().split()))\n",
        "c = collections.Counter(A)\n",
        "ans = 0\n",
        "for k, v in c.items():\n",
        "  if k < v:\n",
        "    ans += v - k\n",
        "  elif k > v:\n",
        "    ans += v\n",
        "print(ans)"
      ]
    }
  ]
}