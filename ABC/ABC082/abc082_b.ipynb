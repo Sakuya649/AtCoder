{
  "nbformat": 4,
  "nbformat_minor": 0,
  "metadata": {
    "colab": {
      "name": "abc082_b.ipynb",
      "provenance": [],
      "authorship_tag": "ABX9TyN8hYsT8TvWDVBYAZRhaNIq"
    },
    "kernelspec": {
      "name": "python3",
      "display_name": "Python 3"
    },
    "language_info": {
      "name": "python"
    }
  },
  "cells": [
    {
      "cell_type": "code",
      "execution_count": 8,
      "metadata": {
        "colab": {
          "base_uri": "https://localhost:8080/"
        },
        "id": "ClUxdWzZQaLo",
        "outputId": "f1f83b18-47b2-49a5-950b-ba34e5f300bd"
      },
      "outputs": [
        {
          "output_type": "stream",
          "name": "stdout",
          "text": [
            "zzz\n",
            "zzz\n",
            "No\n"
          ]
        }
      ],
      "source": [
        "s = sorted(input())\n",
        "t = sorted(input())\n",
        "t.reverse()\n",
        "if ''.join(s) < ''.join(t):\n",
        "  print(\"Yes\")\n",
        "else:\n",
        "  print(\"No\")"
      ]
    }
  ]
}