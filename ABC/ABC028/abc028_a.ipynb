{
  "nbformat": 4,
  "nbformat_minor": 0,
  "metadata": {
    "colab": {
      "name": "abc028_a.ipynb",
      "provenance": [],
      "authorship_tag": "ABX9TyP3ZGsxLWVeug6qcBbnBPpo"
    },
    "kernelspec": {
      "name": "python3",
      "display_name": "Python 3"
    },
    "language_info": {
      "name": "python"
    }
  },
  "cells": [
    {
      "cell_type": "code",
      "execution_count": 2,
      "metadata": {
        "colab": {
          "base_uri": "https://localhost:8080/"
        },
        "id": "YS5qEAroRp_k",
        "outputId": "602ca2ea-5dcd-4787-c693-1f2544b0d67e"
      },
      "outputs": [
        {
          "output_type": "stream",
          "name": "stdout",
          "text": [
            "59\n",
            "Bad\n"
          ]
        }
      ],
      "source": [
        "n = int(input())\n",
        "if n == 100:\n",
        "  print(\"Perfect\")\n",
        "elif n >= 90:\n",
        "  print(\"Great\")\n",
        "elif n >= 60:\n",
        "  print(\"Good\")\n",
        "else:\n",
        "  print(\"Bad\")"
      ]
    }
  ]
}