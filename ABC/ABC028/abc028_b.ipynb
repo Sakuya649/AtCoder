{
  "nbformat": 4,
  "nbformat_minor": 0,
  "metadata": {
    "colab": {
      "name": "abc028_b.ipynb",
      "provenance": [],
      "authorship_tag": "ABX9TyNILviUTRopCP8W3uWFPOkO"
    },
    "kernelspec": {
      "name": "python3",
      "display_name": "Python 3"
    },
    "language_info": {
      "name": "python"
    }
  },
  "cells": [
    {
      "cell_type": "code",
      "execution_count": 10,
      "metadata": {
        "colab": {
          "base_uri": "https://localhost:8080/"
        },
        "id": "SZlzBgJMSdHb",
        "outputId": "f77fd5ac-5d8e-4114-8b9f-9bf4a20b493b"
      },
      "outputs": [
        {
          "output_type": "stream",
          "name": "stdout",
          "text": [
            "BEAF\n",
            "1 1 0 0 1 1\n"
          ]
        }
      ],
      "source": [
        "print(*map(input().count, \"ABCDEF\"))"
      ]
    }
  ]
}