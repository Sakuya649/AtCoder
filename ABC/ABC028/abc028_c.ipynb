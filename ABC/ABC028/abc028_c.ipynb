{
  "nbformat": 4,
  "nbformat_minor": 0,
  "metadata": {
    "colab": {
      "name": "abc028_c.ipynb",
      "provenance": [],
      "authorship_tag": "ABX9TyMCwVzmD1poF5oPkBr4+y8e"
    },
    "kernelspec": {
      "name": "python3",
      "display_name": "Python 3"
    },
    "language_info": {
      "name": "python"
    }
  },
  "cells": [
    {
      "cell_type": "code",
      "execution_count": 4,
      "metadata": {
        "colab": {
          "base_uri": "https://localhost:8080/"
        },
        "id": "rEgHv6ztVOUk",
        "outputId": "79d3eb33-a14e-4bdb-ab07-cc9cee19d013"
      },
      "outputs": [
        {
          "output_type": "stream",
          "name": "stdout",
          "text": [
            "1 2 3 4 5\n",
            "10\n"
          ]
        }
      ],
      "source": [
        "a, b, c, d, e = map(int, input().split())\n",
        "print(max(a+d+e, b+c+e))"
      ]
    }
  ]
}