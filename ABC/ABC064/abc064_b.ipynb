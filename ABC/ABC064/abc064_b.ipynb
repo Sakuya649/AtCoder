{
  "nbformat": 4,
  "nbformat_minor": 0,
  "metadata": {
    "colab": {
      "name": "abc064_b.ipynb",
      "provenance": [],
      "authorship_tag": "ABX9TyMm3bKvC0ua+juBamal4AAA"
    },
    "kernelspec": {
      "name": "python3",
      "display_name": "Python 3"
    },
    "language_info": {
      "name": "python"
    }
  },
  "cells": [
    {
      "cell_type": "code",
      "execution_count": 3,
      "metadata": {
        "colab": {
          "base_uri": "https://localhost:8080/"
        },
        "id": "Iszc6AF4siag",
        "outputId": "b7a2854c-4b06-4bd3-9887-1bd8cc43d962"
      },
      "outputs": [
        {
          "output_type": "stream",
          "name": "stdout",
          "text": [
            "8\n",
            "3 1 4 1 5 9 2 6\n",
            "8\n"
          ]
        }
      ],
      "source": [
        "n = int(input())\n",
        "A = list(map(int, input().split()))\n",
        "A.sort()\n",
        "print(A[-1]-A[0])"
      ]
    }
  ]
}