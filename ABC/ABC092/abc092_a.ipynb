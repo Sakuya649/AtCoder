{
  "nbformat": 4,
  "nbformat_minor": 0,
  "metadata": {
    "colab": {
      "name": "abc092_a.ipynb",
      "provenance": [],
      "authorship_tag": "ABX9TyOgLyTHmhWlH19ssKSIeHXz"
    },
    "kernelspec": {
      "name": "python3",
      "display_name": "Python 3"
    },
    "language_info": {
      "name": "python"
    }
  },
  "cells": [
    {
      "cell_type": "code",
      "execution_count": 2,
      "metadata": {
        "colab": {
          "base_uri": "https://localhost:8080/"
        },
        "id": "ybcA9G57qDiK",
        "outputId": "81e8f1d2-19af-4f20-ee7e-97c28185e303"
      },
      "outputs": [
        {
          "output_type": "stream",
          "name": "stdout",
          "text": [
            "549\n",
            "817\n",
            "715\n",
            "603\n",
            "1152\n"
          ]
        }
      ],
      "source": [
        "a, b, c, d = [int(input()) for _ in range(4)]\n",
        "print(min(a,b) + min(c,d))"
      ]
    }
  ]
}