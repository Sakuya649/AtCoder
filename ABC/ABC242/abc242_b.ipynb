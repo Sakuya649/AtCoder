{
  "nbformat": 4,
  "nbformat_minor": 0,
  "metadata": {
    "colab": {
      "name": "abc242_b.ipynb",
      "provenance": [],
      "authorship_tag": "ABX9TyNyQ/MMbraF8/R7spA/Fpeh"
    },
    "kernelspec": {
      "name": "python3",
      "display_name": "Python 3"
    },
    "language_info": {
      "name": "python"
    }
  },
  "cells": [
    {
      "cell_type": "code",
      "execution_count": null,
      "metadata": {
        "colab": {
          "base_uri": "https://localhost:8080/"
        },
        "id": "WgvFr9B27Ytc",
        "outputId": "91b1b8ea-30d8-4bfb-a95e-a0eefa7e5925"
      },
      "outputs": [
        {
          "output_type": "stream",
          "name": "stdout",
          "text": [
            "aba\n",
            "aab\n"
          ]
        }
      ],
      "source": [
        "s = list(input())\n",
        "s.sort()\n",
        "print(*s, sep=\"\")"
      ]
    }
  ]
}