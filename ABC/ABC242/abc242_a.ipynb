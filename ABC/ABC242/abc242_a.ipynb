{
  "nbformat": 4,
  "nbformat_minor": 0,
  "metadata": {
    "colab": {
      "name": "abc242_a.ipynb",
      "provenance": [],
      "authorship_tag": "ABX9TyPPl9TRSaoG4ShtCqalTQ68"
    },
    "kernelspec": {
      "name": "python3",
      "display_name": "Python 3"
    },
    "language_info": {
      "name": "python"
    }
  },
  "cells": [
    {
      "cell_type": "code",
      "execution_count": null,
      "metadata": {
        "colab": {
          "base_uri": "https://localhost:8080/"
        },
        "id": "LJWuX9o66Y_q",
        "outputId": "e621fee8-68f3-4ab4-bc98-748f053b191a"
      },
      "outputs": [
        {
          "output_type": "stream",
          "name": "stdout",
          "text": [
            "1 2 1 1000\n",
            "0.0\n"
          ]
        }
      ],
      "source": [
        "a, b, c, x = map(int, input().split())\n",
        "ans = 0.0\n",
        "if x <= a:\n",
        "  ans = 1.0\n",
        "elif x <= b:\n",
        "  ans = c / (b-a)\n",
        "print(ans)"
      ]
    }
  ]
}