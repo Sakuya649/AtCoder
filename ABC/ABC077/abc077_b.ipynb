{
  "nbformat": 4,
  "nbformat_minor": 0,
  "metadata": {
    "colab": {
      "name": "abc077_b.ipynb",
      "provenance": [],
      "authorship_tag": "ABX9TyPCeWB+hesf5is5i085DUhR"
    },
    "kernelspec": {
      "name": "python3",
      "display_name": "Python 3"
    },
    "language_info": {
      "name": "python"
    }
  },
  "cells": [
    {
      "cell_type": "code",
      "execution_count": 3,
      "metadata": {
        "colab": {
          "base_uri": "https://localhost:8080/"
        },
        "id": "9eH1dgWXhxDN",
        "outputId": "d739d420-5163-4995-c5c7-b5cc0ae0def9"
      },
      "outputs": [
        {
          "output_type": "stream",
          "name": "stdout",
          "text": [
            "81\n",
            "81\n"
          ]
        }
      ],
      "source": [
        "import math\n",
        "n = int(input())\n",
        "print(int(math.sqrt(n)) ** 2)"
      ]
    }
  ]
}