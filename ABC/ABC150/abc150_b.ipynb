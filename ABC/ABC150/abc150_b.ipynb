{
  "nbformat": 4,
  "nbformat_minor": 0,
  "metadata": {
    "colab": {
      "name": "abc150_b.ipynb",
      "provenance": [],
      "authorship_tag": "ABX9TyOf2EG8Qb4GEUWctKI9fXdx"
    },
    "kernelspec": {
      "name": "python3",
      "display_name": "Python 3"
    },
    "language_info": {
      "name": "python"
    }
  },
  "cells": [
    {
      "cell_type": "code",
      "execution_count": 3,
      "metadata": {
        "colab": {
          "base_uri": "https://localhost:8080/"
        },
        "id": "ens6i7dQFlgM",
        "outputId": "99d6c421-a92b-4fd7-8378-5e023335efa5"
      },
      "outputs": [
        {
          "output_type": "stream",
          "name": "stdout",
          "text": [
            "33\n",
            "ABCCABCBABCCABACBCBBABCBCBCBCABCB\n",
            "5\n"
          ]
        }
      ],
      "source": [
        "n = int(input())\n",
        "s = input()\n",
        "print(s.count(\"ABC\"))"
      ]
    }
  ]
}