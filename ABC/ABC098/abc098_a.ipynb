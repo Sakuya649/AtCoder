{
  "nbformat": 4,
  "nbformat_minor": 0,
  "metadata": {
    "colab": {
      "name": "abc098_a.ipynb",
      "provenance": [],
      "authorship_tag": "ABX9TyM/K3NWetqYc7Xl7y+zACVu"
    },
    "kernelspec": {
      "name": "python3",
      "display_name": "Python 3"
    },
    "language_info": {
      "name": "python"
    }
  },
  "cells": [
    {
      "cell_type": "code",
      "execution_count": 3,
      "metadata": {
        "colab": {
          "base_uri": "https://localhost:8080/"
        },
        "id": "t3Ju1wDJzY53",
        "outputId": "e7069df9-bb50-48ac-fc53-c768bbbf6a97"
      },
      "outputs": [
        {
          "output_type": "stream",
          "name": "stdout",
          "text": [
            "0 0\n",
            "0\n"
          ]
        }
      ],
      "source": [
        "a, b = map(int, input().split())\n",
        "print(max(a+b, a-b, a*b))"
      ]
    }
  ]
}