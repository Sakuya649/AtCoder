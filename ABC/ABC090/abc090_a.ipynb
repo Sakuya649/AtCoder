{
  "nbformat": 4,
  "nbformat_minor": 0,
  "metadata": {
    "colab": {
      "name": "abc090_a.ipynb",
      "provenance": [],
      "authorship_tag": "ABX9TyPC69f9iBDc4aSbdRD9D3lq"
    },
    "kernelspec": {
      "name": "python3",
      "display_name": "Python 3"
    },
    "language_info": {
      "name": "python"
    }
  },
  "cells": [
    {
      "cell_type": "code",
      "execution_count": 3,
      "metadata": {
        "colab": {
          "base_uri": "https://localhost:8080/"
        },
        "id": "b9av5p98387P",
        "outputId": "2c461e00-492a-4a15-bf19-bca365a76ed0"
      },
      "outputs": [
        {
          "output_type": "stream",
          "name": "stdout",
          "text": [
            "ant\n",
            "obe\n",
            "rec\n",
            "abc\n"
          ]
        }
      ],
      "source": [
        "c1 = input()\n",
        "c2 = input()\n",
        "c3 = input()\n",
        "print(c1[0]+c2[1]+c3[2])"
      ]
    }
  ]
}