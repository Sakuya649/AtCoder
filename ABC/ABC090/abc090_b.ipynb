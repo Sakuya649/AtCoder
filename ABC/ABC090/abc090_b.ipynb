{
  "nbformat": 4,
  "nbformat_minor": 0,
  "metadata": {
    "colab": {
      "name": "abc090_b.ipynb",
      "provenance": [],
      "authorship_tag": "ABX9TyPvLtYiy9ccLuEvAQKL3NtI"
    },
    "kernelspec": {
      "name": "python3",
      "display_name": "Python 3"
    },
    "language_info": {
      "name": "python"
    }
  },
  "cells": [
    {
      "cell_type": "code",
      "execution_count": 3,
      "metadata": {
        "colab": {
          "base_uri": "https://localhost:8080/"
        },
        "id": "-sKp9sSFpvIL",
        "outputId": "8f6f3c2d-16d1-417e-9a5f-acb63dfccb6e"
      },
      "outputs": [
        {
          "output_type": "stream",
          "name": "stdout",
          "text": [
            "31415 92653\n",
            "612\n"
          ]
        }
      ],
      "source": [
        "a, b = map(int, input().split())\n",
        "ans = 0\n",
        "for i in range(a, b+1):\n",
        "  if str(i) == str(i)[::-1]:\n",
        "    ans += 1\n",
        "print(ans)"
      ]
    }
  ]
}