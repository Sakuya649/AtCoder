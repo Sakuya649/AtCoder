{
  "nbformat": 4,
  "nbformat_minor": 0,
  "metadata": {
    "colab": {
      "name": "abc090_c.ipynb",
      "provenance": [],
      "authorship_tag": "ABX9TyMRx9A63wqSsYbTppkPpXAU"
    },
    "kernelspec": {
      "name": "python3",
      "display_name": "Python 3"
    },
    "language_info": {
      "name": "python"
    }
  },
  "cells": [
    {
      "cell_type": "code",
      "execution_count": 3,
      "metadata": {
        "colab": {
          "base_uri": "https://localhost:8080/"
        },
        "id": "EyA1FPkQJaKu",
        "outputId": "40452008-1ed7-438d-d641-56a1e085da1a"
      },
      "outputs": [
        {
          "output_type": "stream",
          "name": "stdout",
          "text": [
            "314 1592\n",
            "496080\n"
          ]
        }
      ],
      "source": [
        "n, m = map(int, input().split())\n",
        "if n > m: n, m = m, n\n",
        "if n == 1 and m == 1: print(1)\n",
        "elif n == 1: print(m-2)\n",
        "else: print((n-2)*(m-2))"
      ]
    }
  ]
}