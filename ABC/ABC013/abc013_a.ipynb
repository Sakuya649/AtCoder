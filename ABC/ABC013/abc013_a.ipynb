{
  "nbformat": 4,
  "nbformat_minor": 0,
  "metadata": {
    "colab": {
      "name": "abc013_a.ipynb",
      "provenance": [],
      "authorship_tag": "ABX9TyNtvZiP9PU31n3xzV4IYtL3"
    },
    "kernelspec": {
      "name": "python3",
      "display_name": "Python 3"
    },
    "language_info": {
      "name": "python"
    }
  },
  "cells": [
    {
      "cell_type": "code",
      "execution_count": 3,
      "metadata": {
        "colab": {
          "base_uri": "https://localhost:8080/"
        },
        "id": "NKAtOQLtZuRe",
        "outputId": "89dd6f44-962d-4c09-e274-57bc403ff888"
      },
      "outputs": [
        {
          "output_type": "stream",
          "name": "stdout",
          "text": [
            "D\n",
            "4\n"
          ]
        }
      ],
      "source": [
        "x = input()\n",
        "print(ord(x) - 64)"
      ]
    }
  ]
}