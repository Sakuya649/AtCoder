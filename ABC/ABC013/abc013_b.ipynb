{
  "nbformat": 4,
  "nbformat_minor": 0,
  "metadata": {
    "colab": {
      "name": "abc013_b.ipynb",
      "provenance": [],
      "authorship_tag": "ABX9TyPKFUafyGn8K5AFBHZvbNV+"
    },
    "kernelspec": {
      "name": "python3",
      "display_name": "Python 3"
    },
    "language_info": {
      "name": "python"
    }
  },
  "cells": [
    {
      "cell_type": "code",
      "execution_count": 9,
      "metadata": {
        "colab": {
          "base_uri": "https://localhost:8080/"
        },
        "id": "c9CjgaffauBY",
        "outputId": "1f2b9537-910f-4375-b4ee-69b2c1a1a203"
      },
      "outputs": [
        {
          "output_type": "stream",
          "name": "stdout",
          "text": [
            "1\n",
            "7\n",
            "4\n"
          ]
        }
      ],
      "source": [
        "a = int(input())\n",
        "b = int(input())\n",
        "x = abs(a-b)\n",
        "print(min(x, 10-x))"
      ]
    }
  ]
}