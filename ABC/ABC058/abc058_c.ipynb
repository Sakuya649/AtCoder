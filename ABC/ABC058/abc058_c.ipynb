{
  "nbformat": 4,
  "nbformat_minor": 0,
  "metadata": {
    "colab": {
      "name": "abc058_c.ipynb",
      "provenance": [],
      "authorship_tag": "ABX9TyMCllJfBjIr396eK3I+v3wX"
    },
    "kernelspec": {
      "name": "python3",
      "display_name": "Python 3"
    },
    "language_info": {
      "name": "python"
    }
  },
  "cells": [
    {
      "cell_type": "code",
      "execution_count": 7,
      "metadata": {
        "colab": {
          "base_uri": "https://localhost:8080/"
        },
        "id": "N7mzsDBtSSJE",
        "outputId": "713ab368-a51f-40f2-f4ad-1946a91738ec"
      },
      "outputs": [
        {
          "output_type": "stream",
          "name": "stdout",
          "text": [
            "3\n",
            "cbaa\n",
            "daacc\n",
            "acacac\n",
            "aac"
          ]
        }
      ],
      "source": [
        "s_list = [input() for i in range(int(input()))]\n",
        "for c in map(chr, range(97+123)):\n",
        "  print(c*min(s.count(c) for s in s_list), end=\"\")"
      ]
    }
  ]
}