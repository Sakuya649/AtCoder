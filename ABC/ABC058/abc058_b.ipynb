{
  "nbformat": 4,
  "nbformat_minor": 0,
  "metadata": {
    "colab": {
      "name": "abc058_b.ipynb",
      "provenance": [],
      "authorship_tag": "ABX9TyP+N1v8kvEOXJPVskChPei1"
    },
    "kernelspec": {
      "name": "python3",
      "display_name": "Python 3"
    },
    "language_info": {
      "name": "python"
    }
  },
  "cells": [
    {
      "cell_type": "code",
      "execution_count": 11,
      "metadata": {
        "colab": {
          "base_uri": "https://localhost:8080/"
        },
        "id": "-DUi9VhIi244",
        "outputId": "79720b04-f592-420e-ff22-486dc4e36287"
      },
      "outputs": [
        {
          "output_type": "stream",
          "name": "stdout",
          "text": [
            "atcoderbeginnercontest\n",
            "atcoderregularcontest\n",
            "aattccooddeerrbreeggiunlnaerrccoonntteesstt\n"
          ]
        }
      ],
      "source": [
        "o = input()\n",
        "e = input()\n",
        "for i in range(len(e)):\n",
        "  print(o[i]+e[i], end=\"\")\n",
        "print(o[i+1:])"
      ]
    }
  ]
}