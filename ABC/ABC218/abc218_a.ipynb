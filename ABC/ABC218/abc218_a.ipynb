{
  "nbformat": 4,
  "nbformat_minor": 0,
  "metadata": {
    "colab": {
      "name": "abc218_a.ipynb",
      "provenance": [],
      "authorship_tag": "ABX9TyM+U3WiG7XYwybuEpBxvmQ6"
    },
    "kernelspec": {
      "name": "python3",
      "display_name": "Python 3"
    },
    "language_info": {
      "name": "python"
    }
  },
  "cells": [
    {
      "cell_type": "code",
      "execution_count": 1,
      "metadata": {
        "colab": {
          "base_uri": "https://localhost:8080/"
        },
        "id": "1ighbRFEbyxO",
        "outputId": "47f1d20b-d080-4cbf-8588-d3c7508d4cdb"
      },
      "outputs": [
        {
          "output_type": "stream",
          "name": "stdout",
          "text": [
            "4\n",
            "oooxoox\n",
            "No\n"
          ]
        }
      ],
      "source": [
        "n = int(input())\n",
        "s = input()\n",
        "print([\"Yes\", \"No\"][s[n-1] == \"x\"])"
      ]
    }
  ]
}