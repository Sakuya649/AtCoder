{
  "nbformat": 4,
  "nbformat_minor": 0,
  "metadata": {
    "colab": {
      "name": "abc037_b.ipynb",
      "provenance": [],
      "authorship_tag": "ABX9TyPWlcx1FHykC9hAoKzYnbzJ"
    },
    "kernelspec": {
      "name": "python3",
      "display_name": "Python 3"
    },
    "language_info": {
      "name": "python"
    }
  },
  "cells": [
    {
      "cell_type": "code",
      "execution_count": 9,
      "metadata": {
        "colab": {
          "base_uri": "https://localhost:8080/"
        },
        "id": "G5PaIrJNEUTZ",
        "outputId": "2b89963b-fcf1-473b-cc54-5ab3bd307f5b"
      },
      "outputs": [
        {
          "output_type": "stream",
          "name": "stdout",
          "text": [
            "10 4\n",
            "2 7 22\n",
            "3 5 4\n",
            "6 10 1\n",
            "4 4 12\n",
            "0\n",
            "22\n",
            "4\n",
            "12\n",
            "4\n",
            "1\n",
            "1\n",
            "1\n",
            "1\n",
            "1\n"
          ]
        }
      ],
      "source": [
        "n, q = map(int, input().split())\n",
        "a = [0] * n\n",
        "for _ in range(q):\n",
        "  l, r, t = map(int, input().split())\n",
        "  a[l-1:r] = [t]*(r-l+1)\n",
        "print(*a, sep=\"\\n\")"
      ]
    }
  ]
}