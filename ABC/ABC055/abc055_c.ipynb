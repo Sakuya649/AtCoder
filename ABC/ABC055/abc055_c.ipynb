{
  "nbformat": 4,
  "nbformat_minor": 0,
  "metadata": {
    "colab": {
      "name": "abc055_c.ipynb",
      "provenance": [],
      "authorship_tag": "ABX9TyNhHtPZ7HpGw/s6yVRF+d8F"
    },
    "kernelspec": {
      "name": "python3",
      "display_name": "Python 3"
    },
    "language_info": {
      "name": "python"
    }
  },
  "cells": [
    {
      "cell_type": "code",
      "execution_count": 4,
      "metadata": {
        "colab": {
          "base_uri": "https://localhost:8080/"
        },
        "id": "Q8OY6aJKfRhG",
        "outputId": "afd6c3fb-f06c-4c54-bd1d-6a73fe4c0209"
      },
      "outputs": [
        {
          "output_type": "stream",
          "name": "stdout",
          "text": [
            "12345 678901\n",
            "175897\n"
          ]
        }
      ],
      "source": [
        "n, m = map(int, input().split())\n",
        "if n > m//2:\n",
        "  print(m//2)\n",
        "else:\n",
        "  print((n*2+m)//4)"
      ]
    }
  ]
}