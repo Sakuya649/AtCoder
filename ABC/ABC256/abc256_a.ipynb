{
  "nbformat": 4,
  "nbformat_minor": 0,
  "metadata": {
    "colab": {
      "name": "abc256_a.ipynb",
      "provenance": [],
      "authorship_tag": "ABX9TyP5iaooO89WnMHN9o5wnLap"
    },
    "kernelspec": {
      "name": "python3",
      "display_name": "Python 3"
    },
    "language_info": {
      "name": "python"
    }
  },
  "cells": [
    {
      "cell_type": "code",
      "execution_count": 2,
      "metadata": {
        "colab": {
          "base_uri": "https://localhost:8080/"
        },
        "id": "d2Y5tnlujhd5",
        "outputId": "ac0a1c93-b2d2-402d-f09a-8c2bf847e82c"
      },
      "outputs": [
        {
          "output_type": "stream",
          "name": "stdout",
          "text": [
            "30\n",
            "1073741824\n"
          ]
        }
      ],
      "source": [
        "n = int(input())\n",
        "print(2**n)"
      ]
    }
  ]
}