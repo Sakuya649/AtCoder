{
  "nbformat": 4,
  "nbformat_minor": 0,
  "metadata": {
    "colab": {
      "name": "abc244_b.ipynb",
      "provenance": [],
      "authorship_tag": "ABX9TyPa+6csph5H/Ggjd2s5gAf9"
    },
    "kernelspec": {
      "name": "python3",
      "display_name": "Python 3"
    },
    "language_info": {
      "name": "python"
    }
  },
  "cells": [
    {
      "cell_type": "code",
      "execution_count": 34,
      "metadata": {
        "colab": {
          "base_uri": "https://localhost:8080/"
        },
        "id": "tn6hXtzALLBF",
        "outputId": "3a324a63-5416-4f51-f8f7-ed7c23528542"
      },
      "outputs": [
        {
          "output_type": "stream",
          "name": "stdout",
          "text": [
            "20\n",
            "SRSRSSRSSSRSRRRRRSRR\n",
            "0 1\n"
          ]
        }
      ],
      "source": [
        "N = int(input())\n",
        "T = input()\n",
        "x, y = 0, 0\n",
        "k, h, n, m = False, True, False, False\n",
        "for i in range(N):\n",
        "  if T[i] == \"S\":\n",
        "    if k: y += 1\n",
        "    elif h: x += 1\n",
        "    elif n: x -= 1\n",
        "    elif m: y -= 1\n",
        "  else:\n",
        "    if k: k, h, n, m = False, True, False, False\n",
        "    elif h: k, h, n, m = False, False, False, True\n",
        "    elif n: k, h, n, m = True, False, False, False\n",
        "    elif m: k, h, n, m = False, False, True, False\n",
        "print(x, y)"
      ]
    }
  ]
}