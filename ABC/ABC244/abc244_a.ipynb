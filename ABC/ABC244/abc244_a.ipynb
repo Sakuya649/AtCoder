{
  "nbformat": 4,
  "nbformat_minor": 0,
  "metadata": {
    "colab": {
      "name": "abc244_a.ipynb",
      "provenance": [],
      "authorship_tag": "ABX9TyMIzJYaTGGoAvjBVO/mYCwG"
    },
    "kernelspec": {
      "name": "python3",
      "display_name": "Python 3"
    },
    "language_info": {
      "name": "python"
    }
  },
  "cells": [
    {
      "cell_type": "code",
      "execution_count": null,
      "metadata": {
        "colab": {
          "base_uri": "https://localhost:8080/"
        },
        "id": "x0aiH5YBLDcF",
        "outputId": "a03d5de1-c323-4c1e-daba-831d5e84daf9"
      },
      "outputs": [
        {
          "output_type": "stream",
          "name": "stdout",
          "text": [
            "1\n",
            "a\n",
            "a\n"
          ]
        }
      ],
      "source": [
        "n = input()\n",
        "s = input()\n",
        "print(s[-1])"
      ]
    }
  ]
}