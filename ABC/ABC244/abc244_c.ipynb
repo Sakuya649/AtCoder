{
  "nbformat": 4,
  "nbformat_minor": 0,
  "metadata": {
    "colab": {
      "name": "abc244_c.ipynb",
      "provenance": [],
      "authorship_tag": "ABX9TyPRRXNZUBpaqQZ5A9marywm"
    },
    "kernelspec": {
      "name": "python3",
      "display_name": "Python 3"
    },
    "language_info": {
      "name": "python"
    }
  },
  "cells": [
    {
      "cell_type": "code",
      "execution_count": 1,
      "metadata": {
        "colab": {
          "base_uri": "https://localhost:8080/"
        },
        "id": "0mrMWv7BTzCM",
        "outputId": "b6b84239-8962-40dd-b4ab-c79ae64eda77"
      },
      "outputs": [
        {
          "name": "stdout",
          "output_type": "stream",
          "text": [
            "2\n",
            "1\n",
            "3\n",
            "2\n",
            "4\n",
            "5\n",
            "0\n"
          ]
        }
      ],
      "source": [
        "N = int(input())\n",
        "num_list = [(i+1) for i in range(2*N+1)]\n",
        "while True:\n",
        "  print(num_list[0], flush=True)\n",
        "  num_list.remove(num_list[0])\n",
        "  num = int(input())\n",
        "  if num == 0:\n",
        "    break\n",
        "  else:\n",
        "    num_list.remove(num)"
      ]
    }
  ]
}