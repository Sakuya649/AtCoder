{
  "nbformat": 4,
  "nbformat_minor": 0,
  "metadata": {
    "colab": {
      "name": "abc107_a.ipynb",
      "provenance": [],
      "authorship_tag": "ABX9TyPHT53hUuUQXPAJo+7hbuvW"
    },
    "kernelspec": {
      "name": "python3",
      "display_name": "Python 3"
    },
    "language_info": {
      "name": "python"
    }
  },
  "cells": [
    {
      "cell_type": "code",
      "execution_count": 1,
      "metadata": {
        "colab": {
          "base_uri": "https://localhost:8080/"
        },
        "id": "Qfa1bdbcNJxj",
        "outputId": "ce4bd110-079c-4407-b91f-2c04f7302f7d"
      },
      "outputs": [
        {
          "output_type": "stream",
          "name": "stdout",
          "text": [
            "15 11\n",
            "5\n"
          ]
        }
      ],
      "source": [
        "n, i = map(int, input().split())\n",
        "print(n-i+1)"
      ]
    }
  ]
}