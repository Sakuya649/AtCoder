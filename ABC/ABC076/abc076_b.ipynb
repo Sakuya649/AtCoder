{
  "nbformat": 4,
  "nbformat_minor": 0,
  "metadata": {
    "colab": {
      "name": "abc076_b.ipynb",
      "provenance": [],
      "authorship_tag": "ABX9TyNPAHnw5tA8zzGhF3awzrb0"
    },
    "kernelspec": {
      "name": "python3",
      "display_name": "Python 3"
    },
    "language_info": {
      "name": "python"
    }
  },
  "cells": [
    {
      "cell_type": "code",
      "execution_count": 3,
      "metadata": {
        "colab": {
          "base_uri": "https://localhost:8080/"
        },
        "id": "H4TksklYLS7X",
        "outputId": "cab2d4bf-8def-4274-f1f3-25f0b0835c8a"
      },
      "outputs": [
        {
          "output_type": "stream",
          "name": "stdout",
          "text": [
            "10\n",
            "10\n",
            "76\n"
          ]
        }
      ],
      "source": [
        "n = int(input())\n",
        "k = int(input())\n",
        "ans = 1\n",
        "for i in range(n):\n",
        "  if ans * 2 < ans + k:\n",
        "    ans *= 2\n",
        "  else:\n",
        "    ans += k\n",
        "print(ans)"
      ]
    }
  ]
}