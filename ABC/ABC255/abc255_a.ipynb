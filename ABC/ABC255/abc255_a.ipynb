{
  "nbformat": 4,
  "nbformat_minor": 0,
  "metadata": {
    "colab": {
      "name": "abc255_a.ipynb",
      "provenance": [],
      "authorship_tag": "ABX9TyPYiwaCe301/41XTyxdc0oB"
    },
    "kernelspec": {
      "name": "python3",
      "display_name": "Python 3"
    },
    "language_info": {
      "name": "python"
    }
  },
  "cells": [
    {
      "cell_type": "code",
      "execution_count": 2,
      "metadata": {
        "colab": {
          "base_uri": "https://localhost:8080/"
        },
        "id": "prvTZ1Cho-22",
        "outputId": "33c6b110-7313-4dd1-9d48-dac8b3bd141b"
      },
      "outputs": [
        {
          "output_type": "stream",
          "name": "stdout",
          "text": [
            "1 2\n",
            "1 0\n",
            "0 1\n",
            "0\n"
          ]
        }
      ],
      "source": [
        "r, c = map(int, input().split())\n",
        "A1 = list(map(int, input().split()))\n",
        "A2 = list(map(int, input().split()))\n",
        "if r == 1:\n",
        "  print(A1[c-1])\n",
        "else:\n",
        "  print(A2[c-1])"
      ]
    }
  ]
}