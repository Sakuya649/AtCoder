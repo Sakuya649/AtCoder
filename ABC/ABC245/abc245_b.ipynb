{
  "nbformat": 4,
  "nbformat_minor": 0,
  "metadata": {
    "colab": {
      "name": "abc245_b.ipynb",
      "provenance": [],
      "authorship_tag": "ABX9TyOOg+2kaFm89KL1ePOx8gDx"
    },
    "kernelspec": {
      "name": "python3",
      "display_name": "Python 3"
    },
    "language_info": {
      "name": "python"
    }
  },
  "cells": [
    {
      "cell_type": "code",
      "execution_count": 3,
      "metadata": {
        "colab": {
          "base_uri": "https://localhost:8080/"
        },
        "id": "AkoIxDSzF16-",
        "outputId": "38c97313-e50d-4ca1-86f9-fb08763d7175"
      },
      "outputs": [
        {
          "output_type": "stream",
          "name": "stdout",
          "text": [
            "3\n",
            "200 200 200\n",
            "0\n"
          ]
        }
      ],
      "source": [
        "n = int(input())\n",
        "A = list(map(int, input().split()))\n",
        "for i in range(n+1):\n",
        "  if i not in A:\n",
        "    print(i)\n",
        "    break"
      ]
    }
  ]
}