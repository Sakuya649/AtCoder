{
  "nbformat": 4,
  "nbformat_minor": 0,
  "metadata": {
    "colab": {
      "name": "abc032_a.ipynb",
      "provenance": [],
      "authorship_tag": "ABX9TyMMVClMlt2e0NyvvgDUkMWC"
    },
    "kernelspec": {
      "name": "python3",
      "display_name": "Python 3"
    },
    "language_info": {
      "name": "python"
    }
  },
  "cells": [
    {
      "cell_type": "code",
      "execution_count": 8,
      "metadata": {
        "colab": {
          "base_uri": "https://localhost:8080/"
        },
        "id": "gthXJlhz6keX",
        "outputId": "bfbee06a-5750-4272-ec79-05aed48f8b0d"
      },
      "outputs": [
        {
          "output_type": "stream",
          "name": "stdout",
          "text": [
            "12\n",
            "8\n",
            "25\n",
            "48\n"
          ]
        }
      ],
      "source": [
        "a, b, n = [int(input()) for i in range(3)]\n",
        "while n%a+n%b:\n",
        "  n += 1\n",
        "print(n)"
      ]
    }
  ]
}