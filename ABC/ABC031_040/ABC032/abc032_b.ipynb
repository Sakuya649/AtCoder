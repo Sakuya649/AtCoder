{
  "nbformat": 4,
  "nbformat_minor": 0,
  "metadata": {
    "colab": {
      "name": "abc032_b.ipynb",
      "provenance": [],
      "collapsed_sections": [],
      "authorship_tag": "ABX9TyN6dbgYH7UMuGOTY10wcPsb"
    },
    "kernelspec": {
      "name": "python3",
      "display_name": "Python 3"
    },
    "language_info": {
      "name": "python"
    }
  },
  "cells": [
    {
      "cell_type": "code",
      "execution_count": 4,
      "metadata": {
        "colab": {
          "base_uri": "https://localhost:8080/"
        },
        "id": "wHw02kSAGoyk",
        "outputId": "e1cfdf40-d87e-4b6f-f691-e07d481209ed"
      },
      "outputs": [
        {
          "output_type": "stream",
          "name": "stdout",
          "text": [
            "hello\n",
            "10\n",
            "0\n"
          ]
        }
      ],
      "source": [
        "s = input()\n",
        "k = int(input())\n",
        "print(len(set([s[i:i+k] for i in range(len(s)-k+1)])))"
      ]
    }
  ]
}