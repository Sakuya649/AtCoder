{
  "nbformat": 4,
  "nbformat_minor": 0,
  "metadata": {
    "colab": {
      "name": "abc039_a.ipynb",
      "provenance": [],
      "authorship_tag": "ABX9TyOOm/SiHxF3+rCGW7th0mjv"
    },
    "kernelspec": {
      "name": "python3",
      "display_name": "Python 3"
    },
    "language_info": {
      "name": "python"
    }
  },
  "cells": [
    {
      "cell_type": "code",
      "execution_count": 6,
      "metadata": {
        "colab": {
          "base_uri": "https://localhost:8080/"
        },
        "id": "FjTxEwNj2xGq",
        "outputId": "207ba6a1-e9d0-462b-b56a-9f3dce6e8614"
      },
      "outputs": [
        {
          "output_type": "stream",
          "name": "stdout",
          "text": [
            "1 1 1\n",
            "6\n"
          ]
        }
      ],
      "source": [
        "a, b, c = map(int, input().split())\n",
        "print(2*(a*b + b*c + c*a))"
      ]
    }
  ]
}