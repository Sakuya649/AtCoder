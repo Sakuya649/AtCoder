{
  "nbformat": 4,
  "nbformat_minor": 0,
  "metadata": {
    "colab": {
      "name": "abc035_a.ipynb",
      "provenance": [],
      "authorship_tag": "ABX9TyMmGSRpJlAgweLhZE3x7RCs"
    },
    "kernelspec": {
      "name": "python3",
      "display_name": "Python 3"
    },
    "language_info": {
      "name": "python"
    }
  },
  "cells": [
    {
      "cell_type": "code",
      "execution_count": 2,
      "metadata": {
        "colab": {
          "base_uri": "https://localhost:8080/"
        },
        "id": "lSbPV4qeIwA3",
        "outputId": "78fd70c2-5d7d-4138-86c0-723871af47ec"
      },
      "outputs": [
        {
          "output_type": "stream",
          "name": "stdout",
          "text": [
            "28 21\n",
            "4:3\n"
          ]
        }
      ],
      "source": [
        "w, h = map(int, input().split())\n",
        "if w % 16 == 0 and h % 9 == 0:\n",
        "  print(\"16:9\")\n",
        "else:\n",
        "  print(\"4:3\")"
      ]
    }
  ]
}