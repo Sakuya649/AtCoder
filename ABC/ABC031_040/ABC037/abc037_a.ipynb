{
  "nbformat": 4,
  "nbformat_minor": 0,
  "metadata": {
    "colab": {
      "name": "abc037_a.ipynb",
      "provenance": [],
      "authorship_tag": "ABX9TyMDTGcVrPoorH+jdbspT4tV"
    },
    "kernelspec": {
      "name": "python3",
      "display_name": "Python 3"
    },
    "language_info": {
      "name": "python"
    }
  },
  "cells": [
    {
      "cell_type": "code",
      "execution_count": 3,
      "metadata": {
        "colab": {
          "base_uri": "https://localhost:8080/"
        },
        "id": "KHK8kHGsDRvH",
        "outputId": "5e1f9a7b-faec-4364-bd71-57bc76cb8605"
      },
      "outputs": [
        {
          "output_type": "stream",
          "name": "stdout",
          "text": [
            "8 6 20\n",
            "3\n"
          ]
        }
      ],
      "source": [
        "a, b, c = map(int, input().split())\n",
        "print([int(c/a), int(c/b)][a > b])"
      ]
    }
  ]
}