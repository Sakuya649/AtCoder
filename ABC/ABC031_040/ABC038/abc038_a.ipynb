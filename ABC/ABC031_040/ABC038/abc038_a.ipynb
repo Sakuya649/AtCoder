{
  "nbformat": 4,
  "nbformat_minor": 0,
  "metadata": {
    "colab": {
      "name": "abc038_a.ipynb",
      "provenance": [],
      "authorship_tag": "ABX9TyM8lU61yfk/KA+eLA5/sHAX"
    },
    "kernelspec": {
      "name": "python3",
      "display_name": "Python 3"
    },
    "language_info": {
      "name": "python"
    }
  },
  "cells": [
    {
      "cell_type": "code",
      "execution_count": 2,
      "metadata": {
        "colab": {
          "base_uri": "https://localhost:8080/"
        },
        "id": "wRWc_zAzyS3B",
        "outputId": "5c98ac40-45c6-4e8c-ea53-26736ed91114"
      },
      "outputs": [
        {
          "output_type": "stream",
          "name": "stdout",
          "text": [
            "TEA\n",
            "NO\n"
          ]
        }
      ],
      "source": [
        "s = input()\n",
        "print([\"NO\",\"YES\"][s[-1]==\"T\"])"
      ]
    }
  ]
}