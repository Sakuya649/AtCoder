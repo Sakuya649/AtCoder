{
  "nbformat": 4,
  "nbformat_minor": 0,
  "metadata": {
    "colab": {
      "name": "abc038_b.ipynb",
      "provenance": [],
      "authorship_tag": "ABX9TyOU4XJCBFFEys/b9YXUCjUl"
    },
    "kernelspec": {
      "name": "python3",
      "display_name": "Python 3"
    },
    "language_info": {
      "name": "python"
    }
  },
  "cells": [
    {
      "cell_type": "code",
      "execution_count": 11,
      "metadata": {
        "colab": {
          "base_uri": "https://localhost:8080/"
        },
        "id": "ToJG6jM-zQp4",
        "outputId": "5ac1bcc7-b8cf-4152-a925-975aeccbc696"
      },
      "outputs": [
        {
          "output_type": "stream",
          "name": "stdout",
          "text": [
            "120 120\n",
            "240 240\n",
            "NO\n"
          ]
        }
      ],
      "source": [
        "a = input().split()\n",
        "b = input().split()\n",
        "if a[0] in b or a[1] in b:\n",
        "  print(\"YES\")\n",
        "else:\n",
        "  print(\"NO\")"
      ]
    }
  ]
}