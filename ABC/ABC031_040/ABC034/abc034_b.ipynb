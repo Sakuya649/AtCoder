{
  "nbformat": 4,
  "nbformat_minor": 0,
  "metadata": {
    "colab": {
      "name": "abc034_b.ipynb",
      "provenance": [],
      "authorship_tag": "ABX9TyPHnFe8owMacGbFan2cBm+q"
    },
    "kernelspec": {
      "name": "python3",
      "display_name": "Python 3"
    },
    "language_info": {
      "name": "python"
    }
  },
  "cells": [
    {
      "cell_type": "code",
      "execution_count": 2,
      "metadata": {
        "colab": {
          "base_uri": "https://localhost:8080/"
        },
        "id": "nsXlY8PiHihX",
        "outputId": "3c007a4c-405d-4379-d348-3c53daa27c5d"
      },
      "outputs": [
        {
          "output_type": "stream",
          "name": "stdout",
          "text": [
            "123456789\n",
            "123456790\n"
          ]
        }
      ],
      "source": [
        "n = int(input())\n",
        "if n % 2 == 0:\n",
        "  print(n-1)\n",
        "else:\n",
        "  print(n+1)"
      ]
    }
  ]
}