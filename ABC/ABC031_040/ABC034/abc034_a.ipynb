{
  "nbformat": 4,
  "nbformat_minor": 0,
  "metadata": {
    "colab": {
      "name": "abc034_a.ipynb",
      "provenance": [],
      "authorship_tag": "ABX9TyPKgamgbvq1ruU+W9s8EAwe"
    },
    "kernelspec": {
      "name": "python3",
      "display_name": "Python 3"
    },
    "language_info": {
      "name": "python"
    }
  },
  "cells": [
    {
      "cell_type": "code",
      "source": [
        "x, y = map(int, input().split())\n",
        "print([\"Better\", \"Worse\"][x > y])"
      ],
      "metadata": {
        "colab": {
          "base_uri": "https://localhost:8080/"
        },
        "id": "rQUhcI8CGV-y",
        "outputId": "da4b9e6d-bacb-428a-d3f0-08c57d8fde87"
      },
      "execution_count": 23,
      "outputs": [
        {
          "output_type": "stream",
          "name": "stdout",
          "text": [
            "98 56\n",
            "Worse\n"
          ]
        }
      ]
    }
  ]
}