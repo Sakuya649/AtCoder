{
  "nbformat": 4,
  "nbformat_minor": 0,
  "metadata": {
    "colab": {
      "name": "abc031_a.ipynb",
      "provenance": [],
      "collapsed_sections": [],
      "authorship_tag": "ABX9TyO24kXLbLvzuUNEgwCdQtqM"
    },
    "kernelspec": {
      "name": "python3",
      "display_name": "Python 3"
    },
    "language_info": {
      "name": "python"
    }
  },
  "cells": [
    {
      "cell_type": "code",
      "execution_count": 4,
      "metadata": {
        "colab": {
          "base_uri": "https://localhost:8080/"
        },
        "id": "gg5xGF0k3MJa",
        "outputId": "04c7e052-88da-4689-c983-abd3b32df854"
      },
      "outputs": [
        {
          "output_type": "stream",
          "name": "stdout",
          "text": [
            "3 3\n",
            "12\n"
          ]
        }
      ],
      "source": [
        "a, d = map(int, input().split())\n",
        "print(max((a+1)*d, a*(d+1)))"
      ]
    }
  ]
}