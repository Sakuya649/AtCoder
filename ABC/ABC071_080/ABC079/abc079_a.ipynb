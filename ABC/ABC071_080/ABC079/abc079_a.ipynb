{
  "nbformat": 4,
  "nbformat_minor": 0,
  "metadata": {
    "colab": {
      "name": "abc079_a.ipynb",
      "provenance": [],
      "authorship_tag": "ABX9TyNy1eZfsnQlyabIwTHiqD8W"
    },
    "kernelspec": {
      "name": "python3",
      "display_name": "Python 3"
    },
    "language_info": {
      "name": "python"
    }
  },
  "cells": [
    {
      "cell_type": "code",
      "execution_count": 7,
      "metadata": {
        "colab": {
          "base_uri": "https://localhost:8080/"
        },
        "id": "GAwBFe2bmzzA",
        "outputId": "15e65efd-5efe-47e9-aac4-68aab551d0e0"
      },
      "outputs": [
        {
          "output_type": "stream",
          "name": "stdout",
          "text": [
            "1118\n",
            "Yes\n"
          ]
        }
      ],
      "source": [
        "n = input()\n",
        "if n[0]==n[1]==n[2] or n[1]==n[2]==n[3]:\n",
        "  print(\"Yes\")\n",
        "else:\n",
        "  print(\"No\")"
      ]
    }
  ]
}