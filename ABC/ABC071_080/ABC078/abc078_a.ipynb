{
  "nbformat": 4,
  "nbformat_minor": 0,
  "metadata": {
    "colab": {
      "name": "abc078_a.ipynb",
      "provenance": [],
      "authorship_tag": "ABX9TyN2CnySG6/fpxScrIuy38ZT"
    },
    "kernelspec": {
      "name": "python3",
      "display_name": "Python 3"
    },
    "language_info": {
      "name": "python"
    }
  },
  "cells": [
    {
      "cell_type": "code",
      "execution_count": 4,
      "metadata": {
        "colab": {
          "base_uri": "https://localhost:8080/"
        },
        "id": "ymH8Fa6tWxJ_",
        "outputId": "b828530c-b2c8-43bd-8c81-983c503870ac"
      },
      "outputs": [
        {
          "output_type": "stream",
          "name": "stdout",
          "text": [
            "F F\n",
            "=\n"
          ]
        }
      ],
      "source": [
        "x, y = input().split()\n",
        "if x < y: print(\"<\")\n",
        "elif x > y: print(\">\")\n",
        "else: print(\"=\")"
      ]
    }
  ]
}