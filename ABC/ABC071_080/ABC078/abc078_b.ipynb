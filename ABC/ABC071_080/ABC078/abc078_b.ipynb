{
  "nbformat": 4,
  "nbformat_minor": 0,
  "metadata": {
    "colab": {
      "name": "abc078_b.ipynb",
      "provenance": [],
      "authorship_tag": "ABX9TyOwJ1GppjA00fIqM4JDuhuW"
    },
    "kernelspec": {
      "name": "python3",
      "display_name": "Python 3"
    },
    "language_info": {
      "name": "python"
    }
  },
  "cells": [
    {
      "cell_type": "code",
      "execution_count": 6,
      "metadata": {
        "colab": {
          "base_uri": "https://localhost:8080/"
        },
        "id": "Yd5gZM7Zi3DX",
        "outputId": "120a7586-e68f-47df-c4fb-794398aa9b92"
      },
      "outputs": [
        {
          "output_type": "stream",
          "name": "stdout",
          "text": [
            "64145 123 456\n",
            "109\n"
          ]
        }
      ],
      "source": [
        "x, y, z = map(int, input().split())\n",
        "print((x-z) // (y+z))"
      ]
    }
  ]
}