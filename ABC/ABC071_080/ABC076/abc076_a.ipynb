{
  "nbformat": 4,
  "nbformat_minor": 0,
  "metadata": {
    "colab": {
      "name": "abc076_a.ipynb",
      "provenance": [],
      "authorship_tag": "ABX9TyN/SaMHCONU85q6rADc5sdX"
    },
    "kernelspec": {
      "name": "python3",
      "display_name": "Python 3"
    },
    "language_info": {
      "name": "python"
    }
  },
  "cells": [
    {
      "cell_type": "code",
      "execution_count": 3,
      "metadata": {
        "colab": {
          "base_uri": "https://localhost:8080/"
        },
        "id": "iz0zgQ28xl4p",
        "outputId": "ffa9ed33-6394-4502-b252-d3a7ff4e758e"
      },
      "outputs": [
        {
          "output_type": "stream",
          "name": "stdout",
          "text": [
            "4500\n",
            "0\n",
            "-4500\n"
          ]
        }
      ],
      "source": [
        "r = int(input())\n",
        "g = int(input())\n",
        "print(2*g-r)"
      ]
    }
  ]
}