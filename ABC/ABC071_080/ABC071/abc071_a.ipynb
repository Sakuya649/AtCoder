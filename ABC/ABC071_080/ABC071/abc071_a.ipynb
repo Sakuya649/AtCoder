{
  "nbformat": 4,
  "nbformat_minor": 0,
  "metadata": {
    "colab": {
      "name": "abc071_a.ipynb",
      "provenance": [],
      "collapsed_sections": [],
      "authorship_tag": "ABX9TyMFhrCRtJtoNi7of660CtDU"
    },
    "kernelspec": {
      "name": "python3",
      "display_name": "Python 3"
    },
    "language_info": {
      "name": "python"
    }
  },
  "cells": [
    {
      "cell_type": "code",
      "execution_count": null,
      "metadata": {
        "colab": {
          "base_uri": "https://localhost:8080/"
        },
        "id": "nC-8ikZbO09P",
        "outputId": "c7522056-9ea2-4a43-f451-2a602fe2f632"
      },
      "outputs": [
        {
          "output_type": "stream",
          "name": "stdout",
          "text": [
            "1 999 1000\n",
            "A\n"
          ]
        }
      ],
      "source": [
        "x, a, b = map(int, input().split())\n",
        "print([\"B\", \"A\"][abs(a-x) < abs(b-x)])"
      ]
    }
  ]
}