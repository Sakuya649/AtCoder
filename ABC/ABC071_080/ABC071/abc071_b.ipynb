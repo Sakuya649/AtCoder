{
  "nbformat": 4,
  "nbformat_minor": 0,
  "metadata": {
    "colab": {
      "name": "abc071_b.ipynb",
      "provenance": [],
      "authorship_tag": "ABX9TyNXOdHmZ2kp+nhjKLNAvXT6"
    },
    "kernelspec": {
      "name": "python3",
      "display_name": "Python 3"
    },
    "language_info": {
      "name": "python"
    }
  },
  "cells": [
    {
      "cell_type": "code",
      "execution_count": 36,
      "metadata": {
        "colab": {
          "base_uri": "https://localhost:8080/"
        },
        "id": "O8wk8e-vowuk",
        "outputId": "af316960-5462-4306-d56a-ccd3998415dd"
      },
      "outputs": [
        {
          "output_type": "stream",
          "name": "stdout",
          "text": [
            "fajsonlslfepbjtsaayxbymeskptcumtwrmkkinjxnnucagfrg\n",
            "d\n"
          ]
        }
      ],
      "source": [
        "s = set(input())\n",
        "ans = sorted(set(\"abcdefghijklmnopqrstuvwxyz\") ^ s)\n",
        "if len(ans) == 0: print(\"None\")\n",
        "else: print(ans[0])"
      ]
    }
  ]
}