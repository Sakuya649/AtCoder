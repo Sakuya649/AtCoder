{
  "nbformat": 4,
  "nbformat_minor": 0,
  "metadata": {
    "colab": {
      "name": "abc071_c.ipynb",
      "provenance": [],
      "authorship_tag": "ABX9TyOfB2XPBBIWoo+URFIwzgre"
    },
    "kernelspec": {
      "name": "python3",
      "display_name": "Python 3"
    },
    "language_info": {
      "name": "python"
    }
  },
  "cells": [
    {
      "cell_type": "code",
      "execution_count": 6,
      "metadata": {
        "colab": {
          "base_uri": "https://localhost:8080/"
        },
        "id": "k46G-VE4gBaq",
        "outputId": "31e9a256-02c6-443c-d6c3-b7ad4482e917"
      },
      "outputs": [
        {
          "output_type": "stream",
          "name": "stdout",
          "text": [
            "10\n",
            "3 3 3 3 4 4 4 5 5 5\n",
            "20\n"
          ]
        }
      ],
      "source": [
        "import collections\n",
        "n = int(input())\n",
        "A = sorted(list(map(int, input().split())))\n",
        "x, y, i = 0, 0, 1\n",
        "while i < n:\n",
        "  if A[i] == A[i-1]:\n",
        "    x, y = y, A[i]\n",
        "    i += 1\n",
        "  i += 1\n",
        "print(x*y)"
      ]
    }
  ]
}