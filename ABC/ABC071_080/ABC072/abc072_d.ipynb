{
  "nbformat": 4,
  "nbformat_minor": 0,
  "metadata": {
    "colab": {
      "name": "abc072_d.ipynb",
      "provenance": [],
      "collapsed_sections": [],
      "authorship_tag": "ABX9TyNWWS2siwore+aGvCTv2Lq3"
    },
    "kernelspec": {
      "name": "python3",
      "display_name": "Python 3"
    },
    "language_info": {
      "name": "python"
    }
  },
  "cells": [
    {
      "cell_type": "code",
      "execution_count": 5,
      "metadata": {
        "colab": {
          "base_uri": "https://localhost:8080/"
        },
        "id": "mi_v3K-cplmZ",
        "outputId": "a7c5d323-3a90-4723-86c2-6cdbe6d9715c"
      },
      "outputs": [
        {
          "output_type": "stream",
          "name": "stdout",
          "text": [
            "9\n",
            "1 2 4 9 5 8 7 3 6\n",
            "3\n"
          ]
        }
      ],
      "source": [
        "n = int(input())\n",
        "P = list(map(int, input().split()))\n",
        "ans, i = 0, 0\n",
        "while i < n:\n",
        "  if i == P[i]-1:\n",
        "    ans += 1\n",
        "    i += 1\n",
        "  i += 1\n",
        "print(ans)"
      ]
    }
  ]
}