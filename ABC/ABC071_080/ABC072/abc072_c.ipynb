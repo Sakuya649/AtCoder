{
  "nbformat": 4,
  "nbformat_minor": 0,
  "metadata": {
    "colab": {
      "name": "abc072_c.ipynb",
      "provenance": [],
      "authorship_tag": "ABX9TyNMYgwTP6tjRBqEn7Fnotnj"
    },
    "kernelspec": {
      "name": "python3",
      "display_name": "Python 3"
    },
    "language_info": {
      "name": "python"
    }
  },
  "cells": [
    {
      "cell_type": "code",
      "execution_count": 25,
      "metadata": {
        "colab": {
          "base_uri": "https://localhost:8080/"
        },
        "id": "AvAKa7plJllp",
        "outputId": "08366f09-5486-4d17-f99f-a373ec140054"
      },
      "outputs": [
        {
          "output_type": "stream",
          "name": "stdout",
          "text": [
            "1\n",
            "99999\n",
            "1\n"
          ]
        }
      ],
      "source": [
        "n = int(input())\n",
        "A = list(map(int, input().split()))\n",
        "ans = [0 for i in range(max(A)+2)]\n",
        "for a in A:\n",
        "  if a != 0:\n",
        "    ans[a-1] += 1\n",
        "    ans[a] += 1\n",
        "    ans[a+1] += 1\n",
        "  else:\n",
        "    ans[a] += 1\n",
        "    ans[a+1] += 1\n",
        "print(max(ans))"
      ]
    }
  ]
}