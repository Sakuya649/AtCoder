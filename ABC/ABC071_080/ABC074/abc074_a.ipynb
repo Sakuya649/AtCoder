{
  "nbformat": 4,
  "nbformat_minor": 0,
  "metadata": {
    "colab": {
      "name": "abc074_a.ipynb",
      "provenance": [],
      "authorship_tag": "ABX9TyPzDvPC2ez1Jbpg7gEAzIgu"
    },
    "kernelspec": {
      "name": "python3",
      "display_name": "Python 3"
    },
    "language_info": {
      "name": "python"
    }
  },
  "cells": [
    {
      "cell_type": "code",
      "execution_count": 1,
      "metadata": {
        "colab": {
          "base_uri": "https://localhost:8080/"
        },
        "id": "xyceG32WMcsz",
        "outputId": "9d934da3-d700-4539-e103-87cc39f5e47b"
      },
      "outputs": [
        {
          "output_type": "stream",
          "name": "stdout",
          "text": [
            "3\n",
            "5\n",
            "4\n"
          ]
        }
      ],
      "source": [
        "n = int(input())\n",
        "a = int(input())\n",
        "print(n**2 - a)"
      ]
    }
  ]
}