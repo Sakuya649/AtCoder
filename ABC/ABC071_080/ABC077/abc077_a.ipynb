{
  "nbformat": 4,
  "nbformat_minor": 0,
  "metadata": {
    "colab": {
      "name": "abc077_a.ipynb",
      "provenance": [],
      "authorship_tag": "ABX9TyNcGayTvMHXO8t6Hc/b0Jp5"
    },
    "kernelspec": {
      "name": "python3",
      "display_name": "Python 3"
    },
    "language_info": {
      "name": "python"
    }
  },
  "cells": [
    {
      "cell_type": "code",
      "execution_count": 2,
      "metadata": {
        "colab": {
          "base_uri": "https://localhost:8080/"
        },
        "id": "DxKSFZ5LS6UW",
        "outputId": "4227a632-7d0d-4ede-dabb-c0937b80e188"
      },
      "outputs": [
        {
          "output_type": "stream",
          "name": "stdout",
          "text": [
            "eye\n",
            "eel\n",
            "NO\n"
          ]
        }
      ],
      "source": [
        "c1 = input()\n",
        "c2 = input()\n",
        "print([\"NO\", \"YES\"][c1[::-1]==c2])"
      ]
    }
  ]
}