{
  "nbformat": 4,
  "nbformat_minor": 0,
  "metadata": {
    "colab": {
      "name": "abc073_c.ipynb",
      "provenance": [],
      "authorship_tag": "ABX9TyMEyDNVR8r1W0FjOGXYMP/4"
    },
    "kernelspec": {
      "name": "python3",
      "display_name": "Python 3"
    },
    "language_info": {
      "name": "python"
    }
  },
  "cells": [
    {
      "cell_type": "code",
      "execution_count": 7,
      "metadata": {
        "colab": {
          "base_uri": "https://localhost:8080/"
        },
        "id": "61n4oR1pzUM4",
        "outputId": "ac7e2527-6ef5-41aa-b4b8-afd32f144381"
      },
      "outputs": [
        {
          "output_type": "stream",
          "name": "stdout",
          "text": [
            "6\n",
            "12\n",
            "22\n",
            "16\n",
            "22\n",
            "18\n",
            "12\n",
            "2\n"
          ]
        }
      ],
      "source": [
        "import collections\n",
        "n = int(input())\n",
        "ans = 0\n",
        "A = [int(input()) for i in range(n)]\n",
        "c = collections.Counter(A)\n",
        "for i in c.values():\n",
        "  if i % 2 == 1:\n",
        "    ans += 1\n",
        "print(ans)"
      ]
    }
  ]
}