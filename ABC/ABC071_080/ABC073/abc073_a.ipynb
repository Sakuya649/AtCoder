{
  "nbformat": 4,
  "nbformat_minor": 0,
  "metadata": {
    "colab": {
      "name": "abc073_a.ipynb",
      "provenance": [],
      "authorship_tag": "ABX9TyNkwZb18iiVXxBhZLOOhbot",
      "include_colab_link": true
    },
    "kernelspec": {
      "name": "python3",
      "display_name": "Python 3"
    },
    "language_info": {
      "name": "python"
    }
  },
  "cells": [
    {
      "cell_type": "markdown",
      "metadata": {
        "id": "view-in-github",
        "colab_type": "text"
      },
      "source": [
        "<a href=\"https://colab.research.google.com/github/Sakuya649/AtCoder/blob/main/ABC/ABC073/abc073_a.ipynb\" target=\"_parent\"><img src=\"https://colab.research.google.com/assets/colab-badge.svg\" alt=\"Open In Colab\"/></a>"
      ]
    },
    {
      "cell_type": "code",
      "execution_count": 1,
      "metadata": {
        "colab": {
          "base_uri": "https://localhost:8080/"
        },
        "id": "magKcBbTkx_Z",
        "outputId": "dbc81bc5-d74e-42c2-f821-8ef6be586c94"
      },
      "outputs": [
        {
          "output_type": "stream",
          "name": "stdout",
          "text": [
            "99\n",
            "Yes\n"
          ]
        }
      ],
      "source": [
        "n = input()\n",
        "print([\"No\", \"Yes\"][\"9\" in n])"
      ]
    }
  ]
}