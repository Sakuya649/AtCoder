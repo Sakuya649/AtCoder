{
  "nbformat": 4,
  "nbformat_minor": 0,
  "metadata": {
    "colab": {
      "name": "abc012_a.ipynb",
      "provenance": [],
      "authorship_tag": "ABX9TyPX+7ar1UA4LYM+JRlFAjzE"
    },
    "kernelspec": {
      "name": "python3",
      "display_name": "Python 3"
    },
    "language_info": {
      "name": "python"
    }
  },
  "cells": [
    {
      "cell_type": "code",
      "execution_count": 1,
      "metadata": {
        "id": "x4_bLi94ondV",
        "outputId": "f304e31d-72dd-4966-df30-b3942c26da89",
        "colab": {
          "base_uri": "https://localhost:8080/"
        }
      },
      "outputs": [
        {
          "output_type": "stream",
          "name": "stdout",
          "text": [
            "1 2\n",
            "2 1\n"
          ]
        }
      ],
      "source": [
        "a, b = map(int, input().split())\n",
        "print(b, a)"
      ]
    }
  ]
}