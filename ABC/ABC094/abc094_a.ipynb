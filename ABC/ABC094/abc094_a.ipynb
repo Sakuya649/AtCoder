{
  "nbformat": 4,
  "nbformat_minor": 0,
  "metadata": {
    "colab": {
      "name": "abc094_a.ipynb",
      "provenance": [],
      "authorship_tag": "ABX9TyPr+uEn37VdBVx3TANeD3LV"
    },
    "kernelspec": {
      "name": "python3",
      "display_name": "Python 3"
    },
    "language_info": {
      "name": "python"
    }
  },
  "cells": [
    {
      "cell_type": "code",
      "execution_count": 4,
      "metadata": {
        "colab": {
          "base_uri": "https://localhost:8080/"
        },
        "id": "R_7xhdsG9-PK",
        "outputId": "0412af17-126e-4f55-cac2-44d9da4f0164"
      },
      "outputs": [
        {
          "output_type": "stream",
          "name": "stdout",
          "text": [
            "5 3 2\n",
            "NO\n"
          ]
        }
      ],
      "source": [
        "a, b, x = map(int, input().split())\n",
        "if a == x or ((a+b) - x >= 0 and a < x):\n",
        "  print(\"YES\")\n",
        "else:\n",
        "  print(\"NO\")"
      ]
    }
  ]
}