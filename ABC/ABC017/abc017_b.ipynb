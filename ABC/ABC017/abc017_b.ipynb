{
  "nbformat": 4,
  "nbformat_minor": 0,
  "metadata": {
    "colab": {
      "name": "abc017_b.ipynb",
      "provenance": [],
      "authorship_tag": "ABX9TyMIMPos/sktdT2WTOJPZuNj"
    },
    "kernelspec": {
      "name": "python3",
      "display_name": "Python 3"
    },
    "language_info": {
      "name": "python"
    }
  },
  "cells": [
    {
      "cell_type": "code",
      "execution_count": 5,
      "metadata": {
        "colab": {
          "base_uri": "https://localhost:8080/"
        },
        "id": "1RgsCOdQvrSL",
        "outputId": "4b4848c7-4c22-4efb-e429-de718aeabbd2"
      },
      "outputs": [
        {
          "output_type": "stream",
          "name": "stdout",
          "text": [
            "chokuou\n",
            "YES\n"
          ]
        }
      ],
      "source": [
        "import re\n",
        "s = input()\n",
        "if re.match(r'^(?:ch|o|k|u)*$', s):\n",
        "  print(\"YES\")\n",
        "else:\n",
        "  print(\"NO\")"
      ]
    }
  ]
}