{
  "nbformat": 4,
  "nbformat_minor": 0,
  "metadata": {
    "colab": {
      "name": "abc004_a.ipynb",
      "provenance": [],
      "authorship_tag": "ABX9TyNcpVDwXt3FEkIMZOME1h5h"
    },
    "kernelspec": {
      "name": "python3",
      "display_name": "Python 3"
    },
    "language_info": {
      "name": "python"
    }
  },
  "cells": [
    {
      "cell_type": "code",
      "execution_count": null,
      "metadata": {
        "colab": {
          "base_uri": "https://localhost:8080/"
        },
        "id": "SRAao4wU2JN2",
        "outputId": "d6b3356b-46ff-4dc8-f105-2d99ef0a49e6"
      },
      "outputs": [
        {
          "output_type": "stream",
          "name": "stdout",
          "text": [
            "1000\n",
            "2000\n"
          ]
        }
      ],
      "source": [
        "n = int(input())\n",
        "print(2 * n)"
      ]
    }
  ]
}