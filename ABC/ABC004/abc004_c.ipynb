{
  "nbformat": 4,
  "nbformat_minor": 0,
  "metadata": {
    "colab": {
      "name": "abc004_c.ipynb",
      "provenance": [],
      "authorship_tag": "ABX9TyNt3kAmigzU3H0/uMx6BTf4"
    },
    "kernelspec": {
      "name": "python3",
      "display_name": "Python 3"
    },
    "language_info": {
      "name": "python"
    }
  },
  "cells": [
    {
      "cell_type": "code",
      "execution_count": 5,
      "metadata": {
        "colab": {
          "base_uri": "https://localhost:8080/"
        },
        "id": "OCcQJSlJFCPQ",
        "outputId": "7620c851-4999-46f3-dac7-765c830ede6b"
      },
      "outputs": [
        {
          "output_type": "stream",
          "name": "stdout",
          "text": [
            "5\n",
            "234561\n"
          ]
        }
      ],
      "source": [
        "n = int(input()) % 30\n",
        "s = list(\"123456\")\n",
        "for i in range(n):\n",
        "  s[i%5], s[i%5+1] = s[i%5+1], s[i%5]\n",
        "print(''.join(s))"
      ]
    }
  ]
}