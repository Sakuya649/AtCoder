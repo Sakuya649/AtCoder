{
  "nbformat": 4,
  "nbformat_minor": 0,
  "metadata": {
    "colab": {
      "name": "abc004_b.ipynb",
      "provenance": [],
      "authorship_tag": "ABX9TyMQFeuENrZwZshNwaFjh/6+"
    },
    "kernelspec": {
      "name": "python3",
      "display_name": "Python 3"
    },
    "language_info": {
      "name": "python"
    }
  },
  "cells": [
    {
      "cell_type": "code",
      "execution_count": 5,
      "metadata": {
        "colab": {
          "base_uri": "https://localhost:8080/"
        },
        "id": "eSUbGknc_EHK",
        "outputId": "9a1aba36-00ee-430b-b5af-46ca63bdda0c"
      },
      "outputs": [
        {
          "output_type": "stream",
          "name": "stdout",
          "text": [
            ". . . .\n",
            ". o o .\n",
            ". x x .\n",
            ". . . .\n",
            ". . . .\n",
            ". x x .\n",
            ". o o .\n",
            ". . . .\n"
          ]
        }
      ],
      "source": [
        "s = [input()[::-1] for _ in range(4)]\n",
        "for i in s[::-1]:\n",
        "  print(i)"
      ]
    }
  ]
}