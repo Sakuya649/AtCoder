{
  "nbformat": 4,
  "nbformat_minor": 0,
  "metadata": {
    "colab": {
      "name": "abc008_a.ipynb",
      "provenance": [],
      "authorship_tag": "ABX9TyPanUfz2By4ABlzEJ4AhdED"
    },
    "kernelspec": {
      "name": "python3",
      "display_name": "Python 3"
    },
    "language_info": {
      "name": "python"
    }
  },
  "cells": [
    {
      "cell_type": "code",
      "execution_count": 4,
      "metadata": {
        "colab": {
          "base_uri": "https://localhost:8080/"
        },
        "id": "Cvjt3anRxo-l",
        "outputId": "04438602-2c23-4ee2-d19f-bcd920073943"
      },
      "outputs": [
        {
          "output_type": "stream",
          "name": "stdout",
          "text": [
            "4 7\n",
            "4\n"
          ]
        }
      ],
      "source": [
        "s, t = map(int, input().split())\n",
        "print(t-s+1)"
      ]
    }
  ]
}