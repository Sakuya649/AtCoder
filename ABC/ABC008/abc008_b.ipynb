{
  "nbformat": 4,
  "nbformat_minor": 0,
  "metadata": {
    "colab": {
      "name": "abc008_b.ipynb",
      "provenance": [],
      "authorship_tag": "ABX9TyPIuo6liXjOCKbM3OXCibfD"
    },
    "kernelspec": {
      "name": "python3",
      "display_name": "Python 3"
    },
    "language_info": {
      "name": "python"
    }
  },
  "cells": [
    {
      "cell_type": "code",
      "execution_count": 9,
      "metadata": {
        "colab": {
          "base_uri": "https://localhost:8080/"
        },
        "id": "zNbrGkutyhF-",
        "outputId": "209a6f5f-e85e-49ff-f2cf-a389460c65a3"
      },
      "outputs": [
        {
          "output_type": "stream",
          "name": "stdout",
          "text": [
            "4\n",
            "taro\n",
            "taro\n",
            "jiro\n",
            "ichiro\n",
            "taro\n"
          ]
        }
      ],
      "source": [
        "s_i = [input() for i in range(int(input()))]\n",
        "print(max(s_i, key=s_i.count))"
      ]
    }
  ]
}