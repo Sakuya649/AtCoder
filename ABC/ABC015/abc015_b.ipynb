{
  "nbformat": 4,
  "nbformat_minor": 0,
  "metadata": {
    "colab": {
      "name": "abc015_b.ipynb",
      "provenance": [],
      "authorship_tag": "ABX9TyOZMW6DNYYWCFv7JmdoDAc8"
    },
    "kernelspec": {
      "name": "python3",
      "display_name": "Python 3"
    },
    "language_info": {
      "name": "python"
    }
  },
  "cells": [
    {
      "cell_type": "code",
      "execution_count": 6,
      "metadata": {
        "colab": {
          "base_uri": "https://localhost:8080/"
        },
        "id": "5K_kl1VGkcJk",
        "outputId": "28a60eb8-d1dd-4492-91d5-3569cad01e68"
      },
      "outputs": [
        {
          "output_type": "stream",
          "name": "stdout",
          "text": [
            "5\n",
            "1 4 9 10 15\n",
            "8\n"
          ]
        }
      ],
      "source": [
        "import math\n",
        "n = int(input())\n",
        "a = list(map(int, input().split()))\n",
        "print(math.ceil(sum(a) / (n - a.count(0))))"
      ]
    }
  ]
}