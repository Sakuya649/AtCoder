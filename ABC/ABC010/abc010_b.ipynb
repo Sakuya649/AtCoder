{
  "nbformat": 4,
  "nbformat_minor": 0,
  "metadata": {
    "colab": {
      "name": "abc010_b.ipynb",
      "provenance": [],
      "authorship_tag": "ABX9TyO6Ly8fbX48zQPzdFQx8Jm+"
    },
    "kernelspec": {
      "name": "python3",
      "display_name": "Python 3"
    },
    "language_info": {
      "name": "python"
    }
  },
  "cells": [
    {
      "cell_type": "code",
      "execution_count": 9,
      "metadata": {
        "colab": {
          "base_uri": "https://localhost:8080/"
        },
        "id": "mv7lDcLdlTZ9",
        "outputId": "26126c7e-2d76-47c6-9145-556076264ae0"
      },
      "outputs": [
        {
          "output_type": "stream",
          "name": "stdout",
          "text": [
            "3\n",
            "5 8 2\n",
            "4\n"
          ]
        }
      ],
      "source": [
        "n = int(input())\n",
        "a = map(int, input().split())\n",
        "ans = 0\n",
        "num_list = [3, 0, 1, 0, 1, 2]\n",
        "for i in a:\n",
        "  ans += num_list[i%6]\n",
        "print(ans)"
      ]
    }
  ]
}