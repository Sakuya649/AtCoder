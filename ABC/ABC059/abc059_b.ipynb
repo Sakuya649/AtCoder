{
  "nbformat": 4,
  "nbformat_minor": 0,
  "metadata": {
    "colab": {
      "name": "abc059_b.ipynb",
      "provenance": [],
      "authorship_tag": "ABX9TyNFZgWltxzh7eP1vuO3vrNL"
    },
    "kernelspec": {
      "name": "python3",
      "display_name": "Python 3"
    },
    "language_info": {
      "name": "python"
    }
  },
  "cells": [
    {
      "cell_type": "code",
      "execution_count": 1,
      "metadata": {
        "colab": {
          "base_uri": "https://localhost:8080/"
        },
        "id": "__bvEMWJnf3C",
        "outputId": "0ede7901-e531-4f9a-f998-5da4b7a51b95"
      },
      "outputs": [
        {
          "output_type": "stream",
          "name": "stdout",
          "text": [
            "123456789012345678901234567890\n",
            "234567890123456789012345678901\n",
            "LESS\n"
          ]
        }
      ],
      "source": [
        "a = int(input())\n",
        "b = int(input())\n",
        "if a > b: print(\"GREATER\")\n",
        "elif a < b: print(\"LESS\")\n",
        "else: print(\"EQUAL\")"
      ]
    }
  ]
}