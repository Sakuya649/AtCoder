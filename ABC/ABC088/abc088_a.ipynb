{
  "nbformat": 4,
  "nbformat_minor": 0,
  "metadata": {
    "colab": {
      "name": "abc088_a.ipynb",
      "provenance": [],
      "authorship_tag": "ABX9TyN9RvPjZX0eQBaUqB/VoRsQ"
    },
    "kernelspec": {
      "name": "python3",
      "display_name": "Python 3"
    },
    "language_info": {
      "name": "python"
    }
  },
  "cells": [
    {
      "cell_type": "code",
      "execution_count": 3,
      "metadata": {
        "colab": {
          "base_uri": "https://localhost:8080/"
        },
        "id": "eO16d_x07uhA",
        "outputId": "990b2553-0bee-4b41-82f9-6907aa64b17e"
      },
      "outputs": [
        {
          "output_type": "stream",
          "name": "stdout",
          "text": [
            "57\n",
            "514\n",
            "Yes\n"
          ]
        }
      ],
      "source": [
        "n = int(input())\n",
        "a = int(input())\n",
        "b = n % 500\n",
        "print([\"No\", \"Yes\"][b <= a])"
      ]
    }
  ]
}