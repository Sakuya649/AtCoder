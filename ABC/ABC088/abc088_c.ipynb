{
  "nbformat": 4,
  "nbformat_minor": 0,
  "metadata": {
    "colab": {
      "name": "abc088_c.ipynb",
      "provenance": [],
      "authorship_tag": "ABX9TyNUc0jQ6Vo4BjTJbU/9TpBv"
    },
    "kernelspec": {
      "name": "python3",
      "display_name": "Python 3"
    },
    "language_info": {
      "name": "python"
    }
  },
  "cells": [
    {
      "cell_type": "code",
      "execution_count": 2,
      "metadata": {
        "colab": {
          "base_uri": "https://localhost:8080/"
        },
        "id": "uMnYfykI7YoN",
        "outputId": "4a3b0c88-14ad-483e-aa17-21f3e0d697c6"
      },
      "outputs": [
        {
          "output_type": "stream",
          "name": "stdout",
          "text": [
            "1 0 1\n",
            "2 1 2\n",
            "1 0 1\n",
            "Yes\n"
          ]
        }
      ],
      "source": [
        "a, b, c = map(int, input().split())\n",
        "d, e, f = map(int, input().split())\n",
        "g, h, i = map(int, input().split())\n",
        "print([\"No\", \"Yes\"][a+e+i == b+f+g == c+d+h])"
      ]
    }
  ]
}