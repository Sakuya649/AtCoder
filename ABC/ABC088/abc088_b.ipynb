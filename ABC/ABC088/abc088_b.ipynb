{
  "nbformat": 4,
  "nbformat_minor": 0,
  "metadata": {
    "colab": {
      "name": "abc088_b.ipynb",
      "provenance": [],
      "authorship_tag": "ABX9TyP97xOwEiF+hNfRDt3hqdAp"
    },
    "kernelspec": {
      "name": "python3",
      "display_name": "Python 3"
    },
    "language_info": {
      "name": "python"
    }
  },
  "cells": [
    {
      "cell_type": "code",
      "execution_count": 6,
      "metadata": {
        "colab": {
          "base_uri": "https://localhost:8080/"
        },
        "id": "Y2EvV11LdI1G",
        "outputId": "fc6164b2-763b-47b1-c6ec-c04df6917b91"
      },
      "outputs": [
        {
          "output_type": "stream",
          "name": "stdout",
          "text": [
            "4\n",
            "20 18 2 18\n",
            "18\n"
          ]
        }
      ],
      "source": [
        "n = int(input())\n",
        "A = sorted(list(map(int, input().split())), reverse=True)\n",
        "alice, bob = 0, 0\n",
        "for i in range(n):\n",
        "  if i % 2 == 1:\n",
        "    alice += A[i]\n",
        "  else:\n",
        "    bob += A[i]\n",
        "print(abs(alice-bob))"
      ]
    }
  ]
}