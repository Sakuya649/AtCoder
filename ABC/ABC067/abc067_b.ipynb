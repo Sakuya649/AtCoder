{
  "nbformat": 4,
  "nbformat_minor": 0,
  "metadata": {
    "colab": {
      "name": "abc067_b.ipynb",
      "provenance": [],
      "authorship_tag": "ABX9TyOPn3GCFXzTTWYVZYQkE54s"
    },
    "kernelspec": {
      "name": "python3",
      "display_name": "Python 3"
    },
    "language_info": {
      "name": "python"
    }
  },
  "cells": [
    {
      "cell_type": "code",
      "execution_count": 5,
      "metadata": {
        "colab": {
          "base_uri": "https://localhost:8080/"
        },
        "id": "rr3kJ2p70Nxc",
        "outputId": "a43d0755-6932-4bc0-f4a4-47ecc8d8c788"
      },
      "outputs": [
        {
          "output_type": "stream",
          "name": "stdout",
          "text": [
            "15 14\n",
            "50 26 27 21 41 7 42 35 7 5 5 36 39 1 45\n",
            "386\n"
          ]
        }
      ],
      "source": [
        "n, k = map(int, input().split())\n",
        "L = sorted(list(map(int, input().split())), reverse=True)\n",
        "ans = 0\n",
        "for i in range(k):\n",
        "  ans += L[i]\n",
        "print(ans)"
      ]
    }
  ]
}