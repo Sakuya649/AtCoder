{
  "nbformat": 4,
  "nbformat_minor": 0,
  "metadata": {
    "colab": {
      "name": "abc067_c.ipynb",
      "provenance": [],
      "authorship_tag": "ABX9TyPhc0PTD+9WE/sPwRzwsoTt"
    },
    "kernelspec": {
      "name": "python3",
      "display_name": "Python 3"
    },
    "language_info": {
      "name": "python"
    }
  },
  "cells": [
    {
      "cell_type": "code",
      "execution_count": 2,
      "metadata": {
        "colab": {
          "base_uri": "https://localhost:8080/"
        },
        "id": "UFglys3i3DJv",
        "outputId": "ce7f479c-e5f6-4282-d03b-7aa6dbe18846"
      },
      "outputs": [
        {
          "output_type": "stream",
          "name": "stdout",
          "text": [
            "2\n",
            "10 -10\n",
            "20\n"
          ]
        }
      ],
      "source": [
        "n = int(input())\n",
        "A = list(map(int,input().split()))\n",
        "x, y = A.pop(0), sum(A)\n",
        "ans = 10**10\n",
        "for a in A:\n",
        "  if ans > abs(x-y):\n",
        "    ans = abs(x-y)\n",
        "  x, y = x+a, y-a\n",
        "print(ans)"
      ]
    }
  ]
}