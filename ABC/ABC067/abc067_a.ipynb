{
  "nbformat": 4,
  "nbformat_minor": 0,
  "metadata": {
    "colab": {
      "name": "abc067_a.ipynb",
      "provenance": [],
      "authorship_tag": "ABX9TyNxnorUPwtSaGIUXN6xDpfb"
    },
    "kernelspec": {
      "name": "python3",
      "display_name": "Python 3"
    },
    "language_info": {
      "name": "python"
    }
  },
  "cells": [
    {
      "cell_type": "code",
      "execution_count": 2,
      "metadata": {
        "colab": {
          "base_uri": "https://localhost:8080/"
        },
        "id": "IrnukibIc_dw",
        "outputId": "d38c6364-b4d4-4a05-b1f0-fe7cf86323a4"
      },
      "outputs": [
        {
          "output_type": "stream",
          "name": "stdout",
          "text": [
            "1 1\n",
            "Impossible\n"
          ]
        }
      ],
      "source": [
        "a, b = map(int, input().split())\n",
        "print([\"Impossible\", \"Possible\"][a%3==0 or b%3==0 or (a+b)%3==0])"
      ]
    }
  ]
}