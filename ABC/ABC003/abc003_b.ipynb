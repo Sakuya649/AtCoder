{
  "nbformat": 4,
  "nbformat_minor": 0,
  "metadata": {
    "colab": {
      "name": "abc003_b.ipynb",
      "provenance": [],
      "authorship_tag": "ABX9TyNT1KT1PN7grfu1FPtSq5UB"
    },
    "kernelspec": {
      "name": "python3",
      "display_name": "Python 3"
    },
    "language_info": {
      "name": "python"
    }
  },
  "cells": [
    {
      "cell_type": "code",
      "execution_count": 11,
      "metadata": {
        "colab": {
          "base_uri": "https://localhost:8080/"
        },
        "id": "yot8iA8dLrKi",
        "outputId": "85302345-6e9b-4a67-f237-812d9455b190"
      },
      "outputs": [
        {
          "output_type": "stream",
          "name": "stdout",
          "text": [
            "ch@ku@ai\n",
            "choku@@i\n",
            "You can win\n"
          ]
        }
      ],
      "source": [
        "s = input()\n",
        "t = input()\n",
        "at_str = \"@a@t@c@o@d@e@r@\"\n",
        "ans = \"You can win\"\n",
        "for i, j in zip(s, t):\n",
        "  if i != j and i+j not in at_str:\n",
        "    ans = \"You will lose\"\n",
        "print(ans)"
      ]
    }
  ]
}