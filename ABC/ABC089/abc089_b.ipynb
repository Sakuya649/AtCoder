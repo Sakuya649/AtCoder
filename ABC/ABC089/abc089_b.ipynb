{
  "nbformat": 4,
  "nbformat_minor": 0,
  "metadata": {
    "colab": {
      "name": "abc089_b.ipynb",
      "provenance": [],
      "authorship_tag": "ABX9TyMZrO+Q6jiuRg24VaUwew3e"
    },
    "kernelspec": {
      "name": "python3",
      "display_name": "Python 3"
    },
    "language_info": {
      "name": "python"
    }
  },
  "cells": [
    {
      "cell_type": "code",
      "execution_count": 4,
      "metadata": {
        "colab": {
          "base_uri": "https://localhost:8080/"
        },
        "id": "_nIKetgb2hnN",
        "outputId": "800ecd88-6fe9-477b-d2a9-2047e25c918a"
      },
      "outputs": [
        {
          "output_type": "stream",
          "name": "stdout",
          "text": [
            "8\n",
            "P Y W G Y W Y Y\n",
            "Four\n"
          ]
        }
      ],
      "source": [
        "n = int(input())\n",
        "S = input().split()\n",
        "a = len(set(S))\n",
        "print([\"Three\", \"Four\"][a == 4])"
      ]
    }
  ]
}