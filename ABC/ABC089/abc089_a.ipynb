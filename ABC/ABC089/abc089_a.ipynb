{
  "nbformat": 4,
  "nbformat_minor": 0,
  "metadata": {
    "colab": {
      "name": "abc089_a.ipynb",
      "provenance": [],
      "authorship_tag": "ABX9TyPuiWZn+3NwZVd4RYZi+Ikj"
    },
    "kernelspec": {
      "name": "python3",
      "display_name": "Python 3"
    },
    "language_info": {
      "name": "python"
    }
  },
  "cells": [
    {
      "cell_type": "code",
      "execution_count": 3,
      "metadata": {
        "colab": {
          "base_uri": "https://localhost:8080/"
        },
        "id": "ucpxWDzL14ym",
        "outputId": "0f941dfc-ee32-45d9-d1cb-6a6fe34e726b"
      },
      "outputs": [
        {
          "output_type": "stream",
          "name": "stdout",
          "text": [
            "9\n",
            "3\n"
          ]
        }
      ],
      "source": [
        "n = int(input())\n",
        "print(n//3)"
      ]
    }
  ]
}