{
  "nbformat": 4,
  "nbformat_minor": 0,
  "metadata": {
    "colab": {
      "name": "abc089_c.ipynb",
      "provenance": [],
      "authorship_tag": "ABX9TyPK3lMaK8peGRPAjdGTlCN0"
    },
    "kernelspec": {
      "name": "python3",
      "display_name": "Python 3"
    },
    "language_info": {
      "name": "python"
    }
  },
  "cells": [
    {
      "cell_type": "code",
      "execution_count": 7,
      "metadata": {
        "colab": {
          "base_uri": "https://localhost:8080/"
        },
        "id": "p4RpPYjknITk",
        "outputId": "eebe5bfc-4423-479e-e64d-5a279f693c27"
      },
      "outputs": [
        {
          "output_type": "stream",
          "name": "stdout",
          "text": [
            "5\n",
            "MASHIKE\n",
            "RUMOI\n",
            "OBIRA\n",
            "HABORO\n",
            "HOROKANAI\n",
            "2\n"
          ]
        }
      ],
      "source": [
        "from itertools import combinations\n",
        "n = int(input())\n",
        "S = [input()[0] for _ in range(n)]\n",
        "ans = sum(x * y * z for x, y, z in combinations([S.count(i) for i in \"MARCH\"], 3))\n",
        "print(ans)"
      ]
    }
  ]
}