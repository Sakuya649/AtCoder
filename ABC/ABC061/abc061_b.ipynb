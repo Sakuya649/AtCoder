{
  "nbformat": 4,
  "nbformat_minor": 0,
  "metadata": {
    "colab": {
      "name": "abc061_b.ipynb",
      "provenance": [],
      "authorship_tag": "ABX9TyNUupPHV66BYctu9g1vGIuM"
    },
    "kernelspec": {
      "name": "python3",
      "display_name": "Python 3"
    },
    "language_info": {
      "name": "python"
    }
  },
  "cells": [
    {
      "cell_type": "code",
      "execution_count": 10,
      "metadata": {
        "colab": {
          "base_uri": "https://localhost:8080/"
        },
        "id": "yy10UR6sGrqz",
        "outputId": "58c265d6-c62e-469c-d6cf-1e3b0815071d"
      },
      "outputs": [
        {
          "output_type": "stream",
          "name": "stdout",
          "text": [
            "8 8\n",
            "1 2\n",
            "3 4\n",
            "1 5\n",
            "2 8\n",
            "3 7\n",
            "5 2\n",
            "4 1\n",
            "6 8\n",
            "3\n",
            "3\n",
            "2\n",
            "2\n",
            "2\n",
            "1\n",
            "1\n",
            "2\n"
          ]
        }
      ],
      "source": [
        "n, m = map(int, input().split())\n",
        "ab = []\n",
        "for _ in range(m):\n",
        "  a, b = map(int, input().split())\n",
        "  ab.append(a)\n",
        "  ab.append(b)\n",
        "for i in range(1, n+1):\n",
        "  print(ab.count(i))"
      ]
    }
  ]
}