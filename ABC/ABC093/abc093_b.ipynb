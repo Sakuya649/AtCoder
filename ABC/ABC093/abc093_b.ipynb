{
  "nbformat": 4,
  "nbformat_minor": 0,
  "metadata": {
    "colab": {
      "name": "abc093_b.ipynb",
      "provenance": [],
      "authorship_tag": "ABX9TyM6MpyIGJycuq6OiJRwvKj6"
    },
    "kernelspec": {
      "name": "python3",
      "display_name": "Python 3"
    },
    "language_info": {
      "name": "python"
    }
  },
  "cells": [
    {
      "cell_type": "code",
      "execution_count": 3,
      "metadata": {
        "colab": {
          "base_uri": "https://localhost:8080/"
        },
        "id": "imsHbvtqRzKx",
        "outputId": "e8454f77-fc45-409f-a2ca-f82ff81e26d6"
      },
      "outputs": [
        {
          "output_type": "stream",
          "name": "stdout",
          "text": [
            "3 8 2\n",
            "3\n",
            "4\n",
            "7\n",
            "8\n"
          ]
        }
      ],
      "source": [
        "a, b, k = map(int, input().split())\n",
        "r = range(a, b+1)\n",
        "for i in sorted(set(r[:k])|set(r[-k:])):\n",
        "  print(i)"
      ]
    }
  ]
}