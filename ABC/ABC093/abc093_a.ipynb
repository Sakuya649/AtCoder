{
  "nbformat": 4,
  "nbformat_minor": 0,
  "metadata": {
    "colab": {
      "name": "abc093_a.ipynb",
      "provenance": [],
      "authorship_tag": "ABX9TyODnkIZ/pQEHP6J7uyTxSjr"
    },
    "kernelspec": {
      "name": "python3",
      "display_name": "Python 3"
    },
    "language_info": {
      "name": "python"
    }
  },
  "cells": [
    {
      "cell_type": "code",
      "execution_count": 5,
      "metadata": {
        "colab": {
          "base_uri": "https://localhost:8080/"
        },
        "id": "azRK3R6kB1Wz",
        "outputId": "bc801873-9aad-4a3b-b6e4-fd99cf452a93"
      },
      "outputs": [
        {
          "output_type": "stream",
          "name": "stdout",
          "text": [
            "bab\n",
            "No\n"
          ]
        }
      ],
      "source": [
        "s = ''.join(sorted(input()))\n",
        "print([\"No\", \"Yes\"][s == \"abc\"])"
      ]
    }
  ]
}