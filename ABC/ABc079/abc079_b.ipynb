{
  "nbformat": 4,
  "nbformat_minor": 0,
  "metadata": {
    "colab": {
      "name": "abc079_b.ipynb",
      "provenance": [],
      "authorship_tag": "ABX9TyM7xOmt+Ajd3AJVpmipvLXQ"
    },
    "kernelspec": {
      "name": "python3",
      "display_name": "Python 3"
    },
    "language_info": {
      "name": "python"
    }
  },
  "cells": [
    {
      "cell_type": "code",
      "execution_count": null,
      "metadata": {
        "colab": {
          "base_uri": "https://localhost:8080/"
        },
        "id": "EZ-EdSI155ld",
        "outputId": "0a33b869-a999-4f39-f8ef-65cb03b73644"
      },
      "outputs": [
        {
          "output_type": "stream",
          "name": "stdout",
          "text": [
            "0\n",
            "2\n"
          ]
        }
      ],
      "source": [
        "n = int(input())\n",
        "l_i = [2, 1]\n",
        "if n == 1 or n ==0:\n",
        "  print(l_i[n])\n",
        "else:\n",
        "  for i in range(2, n+1):\n",
        "    l_i.append(l_i[i-1] + l_i[i-2])\n",
        "  else:\n",
        "    print(l_i[-1])"
      ]
    }
  ]
}