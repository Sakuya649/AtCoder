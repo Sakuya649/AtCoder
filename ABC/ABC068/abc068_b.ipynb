{
  "nbformat": 4,
  "nbformat_minor": 0,
  "metadata": {
    "colab": {
      "name": "abc068_b.ipynb",
      "provenance": [],
      "authorship_tag": "ABX9TyMYo/67o/ICDgi6kcHAWTNs"
    },
    "kernelspec": {
      "name": "python3",
      "display_name": "Python 3"
    },
    "language_info": {
      "name": "python"
    }
  },
  "cells": [
    {
      "cell_type": "code",
      "execution_count": 5,
      "metadata": {
        "colab": {
          "base_uri": "https://localhost:8080/"
        },
        "id": "meWW9kyYTk9O",
        "outputId": "522d6a7e-198d-4d0c-a5d9-ac18fb3c9a59"
      },
      "outputs": [
        {
          "output_type": "stream",
          "name": "stdout",
          "text": [
            "100\n",
            "64\n"
          ]
        }
      ],
      "source": [
        "n = int(input())\n",
        "count_max = 0\n",
        "ans = 1\n",
        "for i in range(1, n+1):\n",
        "  count = 0\n",
        "  j = i\n",
        "  while j%2 == 0:\n",
        "    j /= 2\n",
        "    count += 1\n",
        "  if count_max < count:\n",
        "    count_max = count\n",
        "    ans = i\n",
        "print(ans)"
      ]
    }
  ]
}