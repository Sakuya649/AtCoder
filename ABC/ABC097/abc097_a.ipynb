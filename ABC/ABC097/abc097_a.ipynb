{
  "nbformat": 4,
  "nbformat_minor": 0,
  "metadata": {
    "colab": {
      "name": "abc097_a.ipynb",
      "provenance": [],
      "authorship_tag": "ABX9TyOJoI1Wb+CVroFChnnGI3me"
    },
    "kernelspec": {
      "name": "python3",
      "display_name": "Python 3"
    },
    "language_info": {
      "name": "python"
    }
  },
  "cells": [
    {
      "cell_type": "code",
      "execution_count": 4,
      "metadata": {
        "colab": {
          "base_uri": "https://localhost:8080/"
        },
        "id": "LiawHjEH3mlo",
        "outputId": "a1bc70f3-1f85-45d8-a5d9-9d2229a320e5"
      },
      "outputs": [
        {
          "output_type": "stream",
          "name": "stdout",
          "text": [
            "1 100 2 10\n",
            "Yes\n"
          ]
        }
      ],
      "source": [
        "a, b, c, d = map(int, input().split())\n",
        "print([\"No\", \"Yes\"][(abs(a-b) <= d and abs(b-c) <= d) or abs(a-c) <= d])"
      ]
    }
  ]
}