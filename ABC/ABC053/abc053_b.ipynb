{
  "nbformat": 4,
  "nbformat_minor": 0,
  "metadata": {
    "colab": {
      "name": "abc053_b.ipynb",
      "provenance": [],
      "authorship_tag": "ABX9TyPdpIrFT2jIjdG+SgqkpUkN"
    },
    "kernelspec": {
      "name": "python3",
      "display_name": "Python 3"
    },
    "language_info": {
      "name": "python"
    }
  },
  "cells": [
    {
      "cell_type": "code",
      "execution_count": 7,
      "metadata": {
        "colab": {
          "base_uri": "https://localhost:8080/"
        },
        "id": "BOIakKcTJWZR",
        "outputId": "5431fc6c-2d6c-47bb-d4a5-1eef35a7be59"
      },
      "outputs": [
        {
          "output_type": "stream",
          "name": "stdout",
          "text": [
            "HASFJGHOGAKZZFEGA\n",
            "12\n"
          ]
        }
      ],
      "source": [
        "s = input()\n",
        "x = s.rfind(\"Z\")\n",
        "y = s.find(\"A\")\n",
        "print(x-y+1)"
      ]
    }
  ]
}