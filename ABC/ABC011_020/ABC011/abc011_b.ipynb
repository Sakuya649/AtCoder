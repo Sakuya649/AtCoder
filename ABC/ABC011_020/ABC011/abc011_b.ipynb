{
  "nbformat": 4,
  "nbformat_minor": 0,
  "metadata": {
    "colab": {
      "name": "abc011_b.ipynb",
      "provenance": [],
      "authorship_tag": "ABX9TyP0tH9VLrkEtbLqncpzeJp4"
    },
    "kernelspec": {
      "name": "python3",
      "display_name": "Python 3"
    },
    "language_info": {
      "name": "python"
    }
  },
  "cells": [
    {
      "cell_type": "code",
      "execution_count": 1,
      "metadata": {
        "colab": {
          "base_uri": "https://localhost:8080/"
        },
        "id": "JDBad0LQEgnR",
        "outputId": "3d110a14-2b46-4e97-bf88-84c0024db128"
      },
      "outputs": [
        {
          "output_type": "stream",
          "name": "stdout",
          "text": [
            "taKahAshI\n",
            "Takahashi\n"
          ]
        }
      ],
      "source": [
        "s = input()\n",
        "print(s.capitalize())"
      ]
    }
  ]
}