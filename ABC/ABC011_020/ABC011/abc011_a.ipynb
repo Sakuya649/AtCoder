{
  "nbformat": 4,
  "nbformat_minor": 0,
  "metadata": {
    "colab": {
      "name": "abc011_a.ipynb",
      "provenance": [],
      "authorship_tag": "ABX9TyO8VQxPoNb0EaAV9+k8HBF6"
    },
    "kernelspec": {
      "name": "python3",
      "display_name": "Python 3"
    },
    "language_info": {
      "name": "python"
    }
  },
  "cells": [
    {
      "cell_type": "code",
      "execution_count": null,
      "metadata": {
        "colab": {
          "base_uri": "https://localhost:8080/"
        },
        "id": "nPvSsr6VDxgs",
        "outputId": "0e9eff2b-848c-42cf-b3f0-86058f5fb913"
      },
      "outputs": [
        {
          "output_type": "stream",
          "name": "stdout",
          "text": [
            "12\n",
            "1\n"
          ]
        }
      ],
      "source": [
        "n = int(input())\n",
        "if n < 12:\n",
        "  print(n+1)\n",
        "else:\n",
        "  print(1)"
      ]
    }
  ]
}