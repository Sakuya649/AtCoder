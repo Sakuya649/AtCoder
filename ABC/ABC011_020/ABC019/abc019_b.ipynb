{
  "nbformat": 4,
  "nbformat_minor": 0,
  "metadata": {
    "colab": {
      "name": "abc019_b.ipynb",
      "provenance": [],
      "authorship_tag": "ABX9TyPWMKTj1uUojs0foV/pHDhh"
    },
    "kernelspec": {
      "name": "python3",
      "display_name": "Python 3"
    },
    "language_info": {
      "name": "python"
    }
  },
  "cells": [
    {
      "cell_type": "code",
      "execution_count": 6,
      "metadata": {
        "colab": {
          "base_uri": "https://localhost:8080/"
        },
        "id": "t0wLSOyfsm5S",
        "outputId": "14817916-eb3b-473d-c745-84bd0aea82b6"
      },
      "outputs": [
        {
          "output_type": "stream",
          "name": "stdout",
          "text": [
            "aabbbbbbbbbbbbxyza\n",
            "a2b12x1y1z1a1\n"
          ]
        }
      ],
      "source": [
        "s = input()\n",
        "s = s + \"$\"\n",
        "num = 1\n",
        "ans = ''\n",
        "for i in range(1, len(s)):\n",
        "  if s[i-1] == s[i]:\n",
        "    num += 1\n",
        "  else:\n",
        "    ans += s[i-1] + str(num)\n",
        "    num = 1\n",
        "print(ans)"
      ]
    }
  ]
}