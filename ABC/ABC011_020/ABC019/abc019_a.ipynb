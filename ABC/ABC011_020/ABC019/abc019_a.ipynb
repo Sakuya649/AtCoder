{
  "nbformat": 4,
  "nbformat_minor": 0,
  "metadata": {
    "colab": {
      "name": "abc019_a.ipynb",
      "provenance": [],
      "authorship_tag": "ABX9TyMTWtKScNAI97NzESYu8gDg"
    },
    "kernelspec": {
      "name": "python3",
      "display_name": "Python 3"
    },
    "language_info": {
      "name": "python"
    }
  },
  "cells": [
    {
      "cell_type": "code",
      "execution_count": 2,
      "metadata": {
        "colab": {
          "base_uri": "https://localhost:8080/"
        },
        "id": "bns8q02-rcRZ",
        "outputId": "82177528-cef3-4dd1-ad4c-db001cae9a90"
      },
      "outputs": [
        {
          "output_type": "stream",
          "name": "stdout",
          "text": [
            "5 100 5\n",
            "5\n"
          ]
        }
      ],
      "source": [
        "import statistics\n",
        "num_list = list(map(int, input().split()))\n",
        "print(statistics.median(num_list))"
      ]
    }
  ]
}