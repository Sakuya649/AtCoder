{
  "nbformat": 4,
  "nbformat_minor": 0,
  "metadata": {
    "colab": {
      "name": "abc017_a.ipynb",
      "provenance": [],
      "authorship_tag": "ABX9TyN3hjTDnBi3LHyPWpPSJ7wo"
    },
    "kernelspec": {
      "name": "python3",
      "display_name": "Python 3"
    },
    "language_info": {
      "name": "python"
    }
  },
  "cells": [
    {
      "cell_type": "code",
      "execution_count": 2,
      "metadata": {
        "colab": {
          "base_uri": "https://localhost:8080/"
        },
        "id": "YQJTbA-UHO5F",
        "outputId": "9b4fc9c5-9b1b-408f-d911-476b2fd20ba1"
      },
      "outputs": [
        {
          "output_type": "stream",
          "name": "stdout",
          "text": [
            "50 7\n",
            "40 8\n",
            "30 9\n",
            "94\n"
          ]
        }
      ],
      "source": [
        "s1, e1 =map(int, input().split())\n",
        "s2, e2 =map(int, input().split())\n",
        "s3, e3 =map(int, input().split())\n",
        "print(int((s1*e1 + s2*e2 + s3*e3) / 10))"
      ]
    }
  ]
}