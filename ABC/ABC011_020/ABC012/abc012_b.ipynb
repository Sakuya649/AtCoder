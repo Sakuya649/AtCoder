{
  "nbformat": 4,
  "nbformat_minor": 0,
  "metadata": {
    "colab": {
      "name": "abc012_b.ipynb",
      "provenance": [],
      "authorship_tag": "ABX9TyNWSiux2qLX3hWrUTJibS11"
    },
    "kernelspec": {
      "name": "python3",
      "display_name": "Python 3"
    },
    "language_info": {
      "name": "python"
    }
  },
  "cells": [
    {
      "cell_type": "code",
      "source": [
        "n = int(input())\n",
        "h, m = divmod(n, 3600)\n",
        "m, s = divmod(m, 60)\n",
        "print(\"{:02d}:{:02d}:{:02d}\".format(h, m, s))"
      ],
      "metadata": {
        "colab": {
          "base_uri": "https://localhost:8080/"
        },
        "id": "tvKbkY7mVkN3",
        "outputId": "a006922e-b395-46e1-c636-19155ccf6f06"
      },
      "execution_count": 5,
      "outputs": [
        {
          "output_type": "stream",
          "name": "stdout",
          "text": [
            "86399\n",
            "23:59:59\n"
          ]
        }
      ]
    }
  ]
}