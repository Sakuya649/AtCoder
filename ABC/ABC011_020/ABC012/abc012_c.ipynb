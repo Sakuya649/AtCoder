{
  "nbformat": 4,
  "nbformat_minor": 0,
  "metadata": {
    "colab": {
      "name": "abc012_c.ipynb",
      "provenance": [],
      "authorship_tag": "ABX9TyPGG1uTqU3jWvKAMIAv+xvl"
    },
    "kernelspec": {
      "name": "python3",
      "display_name": "Python 3"
    },
    "language_info": {
      "name": "python"
    }
  },
  "cells": [
    {
      "cell_type": "code",
      "execution_count": 5,
      "metadata": {
        "colab": {
          "base_uri": "https://localhost:8080/"
        },
        "id": "YKcWxXCsXMOr",
        "outputId": "4655365a-0f90-4273-c65f-49c101127caf"
      },
      "outputs": [
        {
          "output_type": "stream",
          "name": "stdout",
          "text": [
            "2013\n",
            "2 x 6\n",
            "3 x 4\n",
            "4 x 3\n",
            "6 x 2\n"
          ]
        }
      ],
      "source": [
        "n = int(input())\n",
        "a = 2025 - n\n",
        "for i in range(1, 10):\n",
        "  for j in range(1, 10):\n",
        "    if i * j == a:\n",
        "      print(str(i) + \" x \" + str(j))"
      ]
    }
  ]
}