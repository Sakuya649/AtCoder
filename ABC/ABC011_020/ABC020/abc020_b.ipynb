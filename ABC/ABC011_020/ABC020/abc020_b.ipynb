{
  "nbformat": 4,
  "nbformat_minor": 0,
  "metadata": {
    "colab": {
      "name": "abc020_b.ipynb",
      "provenance": [],
      "authorship_tag": "ABX9TyNGENo1PjaIlyAKSHgKflFJ"
    },
    "kernelspec": {
      "name": "python3",
      "display_name": "Python 3"
    },
    "language_info": {
      "name": "python"
    }
  },
  "cells": [
    {
      "cell_type": "code",
      "execution_count": 2,
      "metadata": {
        "colab": {
          "base_uri": "https://localhost:8080/"
        },
        "id": "U9ctmBwWv7cp",
        "outputId": "a0bd0b4d-e658-4648-ff5e-86724ff2af74"
      },
      "outputs": [
        {
          "output_type": "stream",
          "name": "stdout",
          "text": [
            "999 999\n",
            "1999998\n"
          ]
        }
      ],
      "source": [
        "a, b = input().split()\n",
        "print(int(a+b)*2)"
      ]
    }
  ]
}