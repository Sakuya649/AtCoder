{
  "nbformat": 4,
  "nbformat_minor": 0,
  "metadata": {
    "colab": {
      "name": "abc014_b.ipynb",
      "provenance": [],
      "authorship_tag": "ABX9TyONTogcv8sX4lEJGUP8M2vb"
    },
    "kernelspec": {
      "name": "python3",
      "display_name": "Python 3"
    },
    "language_info": {
      "name": "python"
    }
  },
  "cells": [
    {
      "cell_type": "code",
      "execution_count": 28,
      "metadata": {
        "colab": {
          "base_uri": "https://localhost:8080/"
        },
        "id": "IFygSNzhmLhu",
        "outputId": "83fa0ee5-cfa3-4f1a-a51b-4975a7721ac3"
      },
      "outputs": [
        {
          "output_type": "stream",
          "name": "stdout",
          "text": [
            "4 5\n",
            "1 10 100 1000\n",
            "101\n"
          ]
        }
      ],
      "source": [
        "n, x = map(int, input().split())\n",
        "a = list(map(int, input().split()))\n",
        "print(sum(a[i] for i in range(n) if (x>>i)&1))"
      ]
    }
  ]
}