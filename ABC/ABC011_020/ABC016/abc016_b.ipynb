{
  "nbformat": 4,
  "nbformat_minor": 0,
  "metadata": {
    "colab": {
      "name": "abc016_b.ipynb",
      "provenance": [],
      "mount_file_id": "14V4jv9kxzledZRy2U8NpRmtN-PNP_rYc",
      "authorship_tag": "ABX9TyP5hGqfsb5WOC13x2leQ7jM"
    },
    "kernelspec": {
      "name": "python3",
      "display_name": "Python 3"
    },
    "language_info": {
      "name": "python"
    }
  },
  "cells": [
    {
      "cell_type": "code",
      "execution_count": 7,
      "metadata": {
        "colab": {
          "base_uri": "https://localhost:8080/"
        },
        "id": "0w9Wg3_-pDru",
        "outputId": "1e52a194-7e1a-4baa-c7f3-babf44b1a5d5"
      },
      "outputs": [
        {
          "output_type": "stream",
          "name": "stdout",
          "text": [
            "1 1 1\n",
            "!\n"
          ]
        }
      ],
      "source": [
        "a, b, c = map(int, input().split())\n",
        "if a+b == c and a-b == c:\n",
        "  print('?')\n",
        "elif a+b != c and a-b != c:\n",
        "  print('!')\n",
        "elif a+b == c:\n",
        "  print('+')\n",
        "else:\n",
        "  print('-')"
      ]
    }
  ]
}