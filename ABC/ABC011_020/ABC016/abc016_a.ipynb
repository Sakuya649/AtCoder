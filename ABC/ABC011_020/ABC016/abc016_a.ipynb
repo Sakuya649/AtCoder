{
  "nbformat": 4,
  "nbformat_minor": 0,
  "metadata": {
    "colab": {
      "name": "abc016_a.ipynb",
      "provenance": [],
      "authorship_tag": "ABX9TyP6QwpOtsDMa52t47c4MN1X"
    },
    "kernelspec": {
      "name": "python3",
      "display_name": "Python 3"
    },
    "language_info": {
      "name": "python"
    }
  },
  "cells": [
    {
      "cell_type": "code",
      "execution_count": 2,
      "metadata": {
        "colab": {
          "base_uri": "https://localhost:8080/"
        },
        "id": "IZV35YTOoYFI",
        "outputId": "c8001bf8-93f7-49a8-809d-b09d55ecd692"
      },
      "outputs": [
        {
          "output_type": "stream",
          "name": "stdout",
          "text": [
            "2 29\n",
            "NO\n"
          ]
        }
      ],
      "source": [
        "m, d = map(int, input().split())\n",
        "if m % d == 0:\n",
        "  print(\"YES\")\n",
        "else:\n",
        "  print(\"NO\")"
      ]
    }
  ]
}