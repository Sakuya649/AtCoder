{
  "nbformat": 4,
  "nbformat_minor": 0,
  "metadata": {
    "colab": {
      "name": "abc015_a.ipynb",
      "provenance": [],
      "authorship_tag": "ABX9TyPJqQD2A7VFIA2dnV11Oh8Y"
    },
    "kernelspec": {
      "name": "python3",
      "display_name": "Python 3"
    },
    "language_info": {
      "name": "python"
    }
  },
  "cells": [
    {
      "cell_type": "code",
      "execution_count": 1,
      "metadata": {
        "colab": {
          "base_uri": "https://localhost:8080/"
        },
        "id": "vO24hg0yjaOu",
        "outputId": "b4006d3b-180b-40ba-9e43-64baea5e79e6"
      },
      "outputs": [
        {
          "output_type": "stream",
          "name": "stdout",
          "text": [
            "Isuruu\n",
            "Islaeapyer\n",
            "Islaeapyer\n"
          ]
        }
      ],
      "source": [
        "print(max(input(), input(), key=len))"
      ]
    }
  ]
}