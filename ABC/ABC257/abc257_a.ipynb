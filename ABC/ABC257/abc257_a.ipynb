{
  "nbformat": 4,
  "nbformat_minor": 0,
  "metadata": {
    "colab": {
      "name": "abc257_a.ipynb",
      "provenance": [],
      "authorship_tag": "ABX9TyMo1y3wr45Rv3SYzt9UPKyd"
    },
    "kernelspec": {
      "name": "python3",
      "display_name": "Python 3"
    },
    "language_info": {
      "name": "python"
    }
  },
  "cells": [
    {
      "cell_type": "code",
      "execution_count": 2,
      "metadata": {
        "colab": {
          "base_uri": "https://localhost:8080/"
        },
        "id": "wvc0xX7Ytk7T",
        "outputId": "2b6c1a13-f00c-48fc-9ae6-fede85783be1"
      },
      "outputs": [
        {
          "output_type": "stream",
          "name": "stdout",
          "text": [
            "2 12\n",
            "F\n"
          ]
        }
      ],
      "source": [
        "alpha = \"ABCDEFGHIJKLMNOPQRSTUVWXYZ\"\n",
        "n, x = map(int, input().split())\n",
        "ans = \"\"\n",
        "for a in alpha:\n",
        "  ans += a*n\n",
        "print(ans[x-1])"
      ]
    }
  ]
}