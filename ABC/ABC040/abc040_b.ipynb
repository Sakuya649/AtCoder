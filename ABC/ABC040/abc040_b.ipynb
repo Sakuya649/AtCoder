{
  "nbformat": 4,
  "nbformat_minor": 0,
  "metadata": {
    "colab": {
      "name": "abc040_b.ipynb",
      "provenance": [],
      "authorship_tag": "ABX9TyNJ8LkGf1q2sWwnNF2DU5z+"
    },
    "kernelspec": {
      "name": "python3",
      "display_name": "Python 3"
    },
    "language_info": {
      "name": "python"
    }
  },
  "cells": [
    {
      "cell_type": "code",
      "execution_count": 7,
      "metadata": {
        "colab": {
          "base_uri": "https://localhost:8080/"
        },
        "id": "4FaPlxvZnGSo",
        "outputId": "2d27f2f4-b721-4913-8611-5179810c00c6"
      },
      "outputs": [
        {
          "output_type": "stream",
          "name": "stdout",
          "text": [
            "100000\n",
            "37\n"
          ]
        }
      ],
      "source": [
        "n = int(input())\n",
        "print(min(n%i + abs(n//i-i) for i in range(1, n+1)))"
      ]
    }
  ]
}