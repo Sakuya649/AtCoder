{
  "nbformat": 4,
  "nbformat_minor": 0,
  "metadata": {
    "colab": {
      "name": "abc040_a.ipynb",
      "provenance": [],
      "authorship_tag": "ABX9TyONmav1kHeO2dZm69naldM1"
    },
    "kernelspec": {
      "name": "python3",
      "display_name": "Python 3"
    },
    "language_info": {
      "name": "python"
    }
  },
  "cells": [
    {
      "cell_type": "code",
      "execution_count": 5,
      "metadata": {
        "colab": {
          "base_uri": "https://localhost:8080/"
        },
        "id": "DToC_yR_lqHc",
        "outputId": "cb75131c-cc33-4b18-8c9a-773d042d41db"
      },
      "outputs": [
        {
          "output_type": "stream",
          "name": "stdout",
          "text": [
            "90 30\n",
            "29\n"
          ]
        }
      ],
      "source": [
        "n, x = map(int, input().split())\n",
        "print([x-1, n-x][int(n/2)<x])"
      ]
    }
  ]
}