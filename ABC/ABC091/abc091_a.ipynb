{
  "nbformat": 4,
  "nbformat_minor": 0,
  "metadata": {
    "colab": {
      "name": "abc091_a.ipynb",
      "provenance": [],
      "authorship_tag": "ABX9TyNDcm2DGMl57KBv451tYHFA"
    },
    "kernelspec": {
      "name": "python3",
      "display_name": "Python 3"
    },
    "language_info": {
      "name": "python"
    }
  },
  "cells": [
    {
      "cell_type": "code",
      "execution_count": 4,
      "metadata": {
        "colab": {
          "base_uri": "https://localhost:8080/"
        },
        "id": "KE6DHKrSciog",
        "outputId": "215fa24f-5f5b-4130-9657-6a671e897451"
      },
      "outputs": [
        {
          "output_type": "stream",
          "name": "stdout",
          "text": [
            "19 123 142\n",
            "Yes\n"
          ]
        }
      ],
      "source": [
        "a, b, c = map(int, input().split())\n",
        "print([\"No\", \"Yes\"][a+b >= c])"
      ]
    }
  ]
}