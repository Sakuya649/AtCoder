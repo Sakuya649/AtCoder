{
  "nbformat": 4,
  "nbformat_minor": 0,
  "metadata": {
    "colab": {
      "name": "abc091_b.ipynb",
      "provenance": [],
      "authorship_tag": "ABX9TyNvaQ+Qp5xVVWJrDBr2r9J8"
    },
    "kernelspec": {
      "name": "python3",
      "display_name": "Python 3"
    },
    "language_info": {
      "name": "python"
    }
  },
  "cells": [
    {
      "cell_type": "code",
      "execution_count": 18,
      "metadata": {
        "colab": {
          "base_uri": "https://localhost:8080/"
        },
        "id": "wik2q-9lFvs5",
        "outputId": "8d8ff394-c3f6-48ad-9b65-4d0a7510f199"
      },
      "outputs": [
        {
          "output_type": "stream",
          "name": "stdout",
          "text": [
            "1\n",
            "apple\n",
            "3\n",
            "apple\n",
            "apple\n",
            "apple\n",
            "0\n"
          ]
        }
      ],
      "source": [
        "n = int(input())\n",
        "S = [input() for _ in range(n)]\n",
        "m = int(input())\n",
        "T = [input() for _ in range(m)]\n",
        "ans = []\n",
        "for s in S:\n",
        "  ans.append(S.count(s) - T.count(s))\n",
        "ans.append(0)\n",
        "print(max(ans))"
      ]
    }
  ]
}