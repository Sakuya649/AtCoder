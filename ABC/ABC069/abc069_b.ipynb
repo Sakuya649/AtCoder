{
  "nbformat": 4,
  "nbformat_minor": 0,
  "metadata": {
    "colab": {
      "name": "abc069_b.ipynb",
      "provenance": [],
      "authorship_tag": "ABX9TyNEtRDY+1IDvQ88MGZgyx+q"
    },
    "kernelspec": {
      "name": "python3",
      "display_name": "Python 3"
    },
    "language_info": {
      "name": "python"
    }
  },
  "cells": [
    {
      "cell_type": "code",
      "execution_count": 2,
      "metadata": {
        "colab": {
          "base_uri": "https://localhost:8080/"
        },
        "id": "6PUPn0KFSLA4",
        "outputId": "a69db841-bacb-4e2a-9e42-086f3ebddfb3"
      },
      "outputs": [
        {
          "output_type": "stream",
          "name": "stdout",
          "text": [
            "xyz\n",
            "x1z\n"
          ]
        }
      ],
      "source": [
        "s = input()\n",
        "print(s[0]+str(len(s)-2)+s[-1])"
      ]
    }
  ]
}