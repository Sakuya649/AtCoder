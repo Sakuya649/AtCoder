{
  "nbformat": 4,
  "nbformat_minor": 0,
  "metadata": {
    "colab": {
      "name": "abc026_b.ipynb",
      "provenance": [],
      "authorship_tag": "ABX9TyOldQjiAg/151lYl8McZmRd"
    },
    "kernelspec": {
      "name": "python3",
      "display_name": "Python 3"
    },
    "language_info": {
      "name": "python"
    }
  },
  "cells": [
    {
      "cell_type": "code",
      "execution_count": 6,
      "metadata": {
        "colab": {
          "base_uri": "https://localhost:8080/"
        },
        "id": "9lEziwba0RRC",
        "outputId": "dab1b0db-1d9d-4b92-94bb-1de5774fba26"
      },
      "outputs": [
        {
          "output_type": "stream",
          "name": "stdout",
          "text": [
            "6\n",
            "15\n",
            "2\n",
            "3\n",
            "7\n",
            "6\n",
            "9\n",
            "508.93800988154646\n"
          ]
        }
      ],
      "source": [
        "import math\n",
        "r_list = [int(input()) for i in range(int(input()))]\n",
        "r_list.sort()\n",
        "ans = 0\n",
        "for r in range(len(r_list)):\n",
        "  if r % 2 == 1:\n",
        "    ans -= r_list[r] ** 2\n",
        "  else:\n",
        "    ans += r_list[r] ** 2\n",
        "print(abs(ans * math.pi))"
      ]
    }
  ]
}