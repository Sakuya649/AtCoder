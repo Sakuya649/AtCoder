{
  "nbformat": 4,
  "nbformat_minor": 0,
  "metadata": {
    "colab": {
      "name": "abc022_b.ipynb",
      "provenance": [],
      "authorship_tag": "ABX9TyPyur31rggq6FnCQnyLrwHq"
    },
    "kernelspec": {
      "name": "python3",
      "display_name": "Python 3"
    },
    "language_info": {
      "name": "python"
    }
  },
  "cells": [
    {
      "cell_type": "code",
      "execution_count": 3,
      "metadata": {
        "colab": {
          "base_uri": "https://localhost:8080/"
        },
        "id": "TNqaBh8sw4q0",
        "outputId": "ce4bc50b-08ce-4caf-f1e1-d6ecb7841394"
      },
      "outputs": [
        {
          "output_type": "stream",
          "name": "stdout",
          "text": [
            "5\n",
            "1\n",
            "2\n",
            "3\n",
            "2\n",
            "1\n",
            "2\n"
          ]
        }
      ],
      "source": [
        "n = int(input())\n",
        "a = set([input() for i in range(n)])\n",
        "print(n - len(a))"
      ]
    }
  ]
}