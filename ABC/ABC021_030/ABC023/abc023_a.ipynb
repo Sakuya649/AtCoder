{
  "nbformat": 4,
  "nbformat_minor": 0,
  "metadata": {
    "colab": {
      "name": "abc023_a.ipynb",
      "provenance": [],
      "authorship_tag": "ABX9TyMErMJnXb0a3CtTzmgS2pT/"
    },
    "kernelspec": {
      "name": "python3",
      "display_name": "Python 3"
    },
    "language_info": {
      "name": "python"
    }
  },
  "cells": [
    {
      "cell_type": "code",
      "execution_count": 4,
      "metadata": {
        "colab": {
          "base_uri": "https://localhost:8080/"
        },
        "id": "NFUu5pJj4jCv",
        "outputId": "4415cbde-60e6-4333-bd4f-3be36e6fcd23"
      },
      "outputs": [
        {
          "output_type": "stream",
          "name": "stdout",
          "text": [
            "99\n",
            "18\n"
          ]
        }
      ],
      "source": [
        "x = input()\n",
        "print(int(x[0]) + int(x[1]))"
      ]
    }
  ]
}