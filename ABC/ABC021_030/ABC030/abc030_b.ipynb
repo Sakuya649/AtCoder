{
  "nbformat": 4,
  "nbformat_minor": 0,
  "metadata": {
    "colab": {
      "name": "abc030_b.ipynb",
      "provenance": [],
      "authorship_tag": "ABX9TyPPu7LkZX8nWAPN1gH9aT2W"
    },
    "kernelspec": {
      "name": "python3",
      "display_name": "Python 3"
    },
    "language_info": {
      "name": "python"
    }
  },
  "cells": [
    {
      "cell_type": "code",
      "execution_count": 16,
      "metadata": {
        "colab": {
          "base_uri": "https://localhost:8080/"
        },
        "id": "M4DzO7IL0eoK",
        "outputId": "b9c16642-ebe2-409a-eefd-84784dfaa455"
      },
      "outputs": [
        {
          "output_type": "stream",
          "name": "stdout",
          "text": [
            "19 0\n",
            "150.0\n"
          ]
        }
      ],
      "source": [
        "n, m = map(int, input().split())\n",
        "angle = abs((n%12)*30 - m*6 + m*0.5)\n",
        "print(min(angle, 360-angle))"
      ]
    }
  ]
}