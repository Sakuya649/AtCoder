{
  "nbformat": 4,
  "nbformat_minor": 0,
  "metadata": {
    "colab": {
      "name": "abc025_b.ipynb",
      "provenance": [],
      "authorship_tag": "ABX9TyOSvc5zw8mnq1APMtchc8W0"
    },
    "kernelspec": {
      "name": "python3",
      "display_name": "Python 3"
    },
    "language_info": {
      "name": "python"
    }
  },
  "cells": [
    {
      "cell_type": "code",
      "execution_count": 6,
      "metadata": {
        "colab": {
          "base_uri": "https://localhost:8080/"
        },
        "id": "dMF0oH7oUNn-",
        "outputId": "dfc2334d-8404-4e31-ed06-a9281654c0bd"
      },
      "outputs": [
        {
          "output_type": "stream",
          "name": "stdout",
          "text": [
            "5 25 25\n",
            "East 1\n",
            "East 1\n",
            "West 1\n",
            "East 100\n",
            "West 1\n",
            "East 25\n"
          ]
        }
      ],
      "source": [
        "n, a, b = map(int, input().split())\n",
        "ans = 0\n",
        "for i in range(n):\n",
        "  si, di = input().split()\n",
        "  di = int(di)\n",
        "  if a > di: d = a\n",
        "  elif b < di: d = b\n",
        "  else: d = di\n",
        "  if si == \"East\": ans -= d\n",
        "  else: ans += d\n",
        "if ans < 0: print(\"East\", abs(ans))\n",
        "elif ans > 0: print(\"West\", abs(ans))\n",
        "else: print(0)"
      ]
    }
  ]
}