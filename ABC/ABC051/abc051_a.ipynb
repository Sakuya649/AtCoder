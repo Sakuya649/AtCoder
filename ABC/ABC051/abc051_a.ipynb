{
  "nbformat": 4,
  "nbformat_minor": 0,
  "metadata": {
    "colab": {
      "name": "abc051_a.ipynb",
      "provenance": [],
      "authorship_tag": "ABX9TyPH3Qm9hkf5RByaEG4jl3rX"
    },
    "kernelspec": {
      "name": "python3",
      "display_name": "Python 3"
    },
    "language_info": {
      "name": "python"
    }
  },
  "cells": [
    {
      "cell_type": "code",
      "execution_count": 1,
      "metadata": {
        "colab": {
          "base_uri": "https://localhost:8080/"
        },
        "id": "sNobaX_-whjj",
        "outputId": "53d86397-cd5a-44a7-d79b-c6ca61986f98"
      },
      "outputs": [
        {
          "output_type": "stream",
          "name": "stdout",
          "text": [
            "happy,newyear,enjoy\n",
            "happy newyear enjoy\n"
          ]
        }
      ],
      "source": [
        "s = input()\n",
        "print(s.replace(\",\", \" \"))"
      ]
    }
  ]
}