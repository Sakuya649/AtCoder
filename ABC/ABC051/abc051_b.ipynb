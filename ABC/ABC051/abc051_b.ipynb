{
  "nbformat": 4,
  "nbformat_minor": 0,
  "metadata": {
    "colab": {
      "name": "abc051_b.ipynb",
      "provenance": [],
      "authorship_tag": "ABX9TyNP1+KPNPsueNe6/Vx85Zox"
    },
    "kernelspec": {
      "name": "python3",
      "display_name": "Python 3"
    },
    "language_info": {
      "name": "python"
    }
  },
  "cells": [
    {
      "cell_type": "code",
      "execution_count": 8,
      "metadata": {
        "colab": {
          "base_uri": "https://localhost:8080/"
        },
        "id": "5B5hYJHdxkYf",
        "outputId": "eba0bb9e-f447-428a-c260-56154713faa8"
      },
      "outputs": [
        {
          "output_type": "stream",
          "name": "stdout",
          "text": [
            "2 2\n",
            "6\n"
          ]
        }
      ],
      "source": [
        "k, s = map(int, input().split())\n",
        "ans = 0\n",
        "for i in range(k+1):\n",
        "  for j in range(k+1):\n",
        "    if 0<=s-i-j<=k:\n",
        "      ans += 1\n",
        "print(ans)"
      ]
    }
  ]
}