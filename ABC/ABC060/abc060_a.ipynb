{
  "nbformat": 4,
  "nbformat_minor": 0,
  "metadata": {
    "colab": {
      "name": "abc060_a.ipynb",
      "provenance": [],
      "authorship_tag": "ABX9TyPY4BUB5FU39haNVMVe55x9"
    },
    "kernelspec": {
      "name": "python3",
      "display_name": "Python 3"
    },
    "language_info": {
      "name": "python"
    }
  },
  "cells": [
    {
      "cell_type": "code",
      "execution_count": 2,
      "metadata": {
        "colab": {
          "base_uri": "https://localhost:8080/"
        },
        "id": "14DSwtKybJnN",
        "outputId": "3cd41f05-a86c-4d6e-dbbb-d7fd5f2b10d1"
      },
      "outputs": [
        {
          "output_type": "stream",
          "name": "stdout",
          "text": [
            "aaaaaaaaab aaaaaaaaaa aaaaaaaaab\n",
            "NO\n"
          ]
        }
      ],
      "source": [
        "a, b, c = input().split()\n",
        "print([\"NO\", \"YES\"][a[-1]==b[0] and b[-1]==c[0]])"
      ]
    }
  ]
}