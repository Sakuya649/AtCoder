{
  "nbformat": 4,
  "nbformat_minor": 0,
  "metadata": {
    "colab": {
      "name": "abc060_c.ipynb",
      "provenance": [],
      "authorship_tag": "ABX9TyMNdoG0x+Wj2J3dDGmazk1v"
    },
    "kernelspec": {
      "name": "python3",
      "display_name": "Python 3"
    },
    "language_info": {
      "name": "python"
    }
  },
  "cells": [
    {
      "cell_type": "code",
      "execution_count": 7,
      "metadata": {
        "colab": {
          "base_uri": "https://localhost:8080/"
        },
        "id": "XyICYnY38hY6",
        "outputId": "665ccda0-607b-4ebb-cc7c-6bb6160e634f"
      },
      "outputs": [
        {
          "output_type": "stream",
          "name": "stdout",
          "text": [
            "9 10\n",
            "0 3 5 7 100 110 200 300 311\n",
            "67\n"
          ]
        }
      ],
      "source": [
        "n, t = map(int, input().split())\n",
        "t_list = list(map(int, input().split()))\n",
        "ans = 0\n",
        "for i in range(n-1):\n",
        "  if t_list[i+1] - t_list[i] <= t:\n",
        "    ans += t_list[i+1] - t_list[i]\n",
        "  else:\n",
        "    ans += t\n",
        "ans += t\n",
        "print(ans)  "
      ]
    }
  ]
}