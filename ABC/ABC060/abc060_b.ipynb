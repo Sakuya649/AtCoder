{
  "nbformat": 4,
  "nbformat_minor": 0,
  "metadata": {
    "colab": {
      "name": "abc060_b.ipynb",
      "provenance": [],
      "authorship_tag": "ABX9TyMEFTjpBEpDrybfWvtwZOcS"
    },
    "kernelspec": {
      "name": "python3",
      "display_name": "Python 3"
    },
    "language_info": {
      "name": "python"
    }
  },
  "cells": [
    {
      "cell_type": "code",
      "execution_count": 5,
      "metadata": {
        "colab": {
          "base_uri": "https://localhost:8080/"
        },
        "id": "PIPrlQ1u5mGI",
        "outputId": "2f62c6d9-8d22-4d7a-d6db-222eee951c52"
      },
      "outputs": [
        {
          "output_type": "stream",
          "name": "stdout",
          "text": [
            "77 42 36\n",
            "NO\n"
          ]
        }
      ],
      "source": [
        "a, b, c = map(int, input().split())\n",
        "c_list = []\n",
        "for i in range(1, b+1):\n",
        "  c_list.append(a*i % b)\n",
        "print([\"NO\", \"YES\"][c in c_list])"
      ]
    }
  ]
}