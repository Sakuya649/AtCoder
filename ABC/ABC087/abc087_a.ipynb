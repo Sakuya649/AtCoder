{
  "nbformat": 4,
  "nbformat_minor": 0,
  "metadata": {
    "colab": {
      "name": "abc087_a.ipynb",
      "provenance": [],
      "authorship_tag": "ABX9TyMoLgcpfjdnu+9QvBqM2sRX"
    },
    "kernelspec": {
      "name": "python3",
      "display_name": "Python 3"
    },
    "language_info": {
      "name": "python"
    }
  },
  "cells": [
    {
      "cell_type": "code",
      "execution_count": 5,
      "metadata": {
        "colab": {
          "base_uri": "https://localhost:8080/"
        },
        "id": "sKkid3bf-2wl",
        "outputId": "9ed39b56-5649-46da-9617-d100b40bdfd8"
      },
      "outputs": [
        {
          "output_type": "stream",
          "name": "stdout",
          "text": [
            "7477\n",
            "549\n",
            "593\n",
            "405\n"
          ]
        }
      ],
      "source": [
        "x = int(input())\n",
        "a = int(input())\n",
        "b = int(input())\n",
        "print(x - ((x-a) // b)*b - a)"
      ]
    }
  ]
}