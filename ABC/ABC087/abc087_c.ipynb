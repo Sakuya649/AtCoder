{
  "nbformat": 4,
  "nbformat_minor": 0,
  "metadata": {
    "colab": {
      "name": "abc087_c.ipynb",
      "provenance": [],
      "authorship_tag": "ABX9TyPAYYktSds5wcWu3P6ti/9I"
    },
    "kernelspec": {
      "name": "python3",
      "display_name": "Python 3"
    },
    "language_info": {
      "name": "python"
    }
  },
  "cells": [
    {
      "cell_type": "code",
      "execution_count": 1,
      "metadata": {
        "colab": {
          "base_uri": "https://localhost:8080/"
        },
        "id": "JR3CCbv3Sat7",
        "outputId": "58408b3b-46bb-4ad0-dcad-067b9933ffa2"
      },
      "outputs": [
        {
          "output_type": "stream",
          "name": "stdout",
          "text": [
            "5\n",
            "3 2 2 4 1\n",
            "1 2 2 2 1\n",
            "14\n"
          ]
        }
      ],
      "source": [
        "n = int(input())\n",
        "A1 = list(map(int, input().split()))\n",
        "A2 = list(map(int, input().split()))\n",
        "total = []\n",
        "for i in range(1, n):\n",
        "  total.append(sum(A1[:i]) + sum(A2[i-1:]))\n",
        "if n == 1:\n",
        "  total.append(A1[0]+A2[0])\n",
        "print(max(total))"
      ]
    }
  ]
}