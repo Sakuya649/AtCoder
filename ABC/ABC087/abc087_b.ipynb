{
  "nbformat": 4,
  "nbformat_minor": 0,
  "metadata": {
    "colab": {
      "name": "abc087_b.ipynb",
      "provenance": [],
      "authorship_tag": "ABX9TyP0RrH1EDG1vtxutQEAqv1N"
    },
    "kernelspec": {
      "name": "python3",
      "display_name": "Python 3"
    },
    "language_info": {
      "name": "python"
    }
  },
  "cells": [
    {
      "cell_type": "code",
      "execution_count": 8,
      "metadata": {
        "colab": {
          "base_uri": "https://localhost:8080/"
        },
        "id": "yh4ZRAoSj1xf",
        "outputId": "c5c3b1da-bb71-4351-a85e-ea3005b46fe4"
      },
      "outputs": [
        {
          "output_type": "stream",
          "name": "stdout",
          "text": [
            "30\n",
            "40\n",
            "50\n",
            "6000\n",
            "213\n"
          ]
        }
      ],
      "source": [
        "a, b, c, x = [int(input()) for _ in range(4)]\n",
        "count = 0\n",
        "for i in range(a+1):\n",
        "  for j in range(b+1):\n",
        "    for k in range(c+1):\n",
        "      if 500*i + 100*j + 50*k == x:\n",
        "        count += 1\n",
        "print(count)"
      ]
    }
  ]
}