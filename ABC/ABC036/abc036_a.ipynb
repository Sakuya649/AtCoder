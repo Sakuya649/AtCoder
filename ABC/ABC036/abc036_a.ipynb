{
  "nbformat": 4,
  "nbformat_minor": 0,
  "metadata": {
    "colab": {
      "name": "abc036_a.ipynb",
      "provenance": [],
      "authorship_tag": "ABX9TyOsh1rMMMb/tZ6G6pl59s4H"
    },
    "kernelspec": {
      "name": "python3",
      "display_name": "Python 3"
    },
    "language_info": {
      "name": "python"
    }
  },
  "cells": [
    {
      "cell_type": "code",
      "execution_count": 2,
      "metadata": {
        "colab": {
          "base_uri": "https://localhost:8080/"
        },
        "id": "Qx5kdK_mLPzR",
        "outputId": "3b5b8b78-3c15-436b-80ca-b0f2dd798942"
      },
      "outputs": [
        {
          "output_type": "stream",
          "name": "stdout",
          "text": [
            "12 100\n",
            "9\n"
          ]
        }
      ],
      "source": [
        "a, b = map(int, input().split())\n",
        "print([int(b/a), int(b/a)+1][b%a!=0])"
      ]
    }
  ]
}