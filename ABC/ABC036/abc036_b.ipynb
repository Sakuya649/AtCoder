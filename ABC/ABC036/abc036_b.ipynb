{
  "nbformat": 4,
  "nbformat_minor": 0,
  "metadata": {
    "colab": {
      "name": "abc036_b.ipynb",
      "provenance": [],
      "authorship_tag": "ABX9TyML2zsAhHRNkWtjPkiMj09t"
    },
    "kernelspec": {
      "name": "python3",
      "display_name": "Python 3"
    },
    "language_info": {
      "name": "python"
    }
  },
  "cells": [
    {
      "cell_type": "code",
      "execution_count": 16,
      "metadata": {
        "colab": {
          "base_uri": "https://localhost:8080/"
        },
        "id": "rYB2vXgYMo51",
        "outputId": "9961010c-9a27-476b-8747-b7aae8ee47bf"
      },
      "outputs": [
        {
          "output_type": "stream",
          "name": "stdout",
          "text": [
            "4\n",
            "ooxx\n",
            "xoox\n",
            "xxxx\n",
            "xxxx\n",
            "xxxo\n",
            "xxoo\n",
            "xxox\n",
            "xxxx\n"
          ]
        }
      ],
      "source": [
        "s_list = [list(input()) for _ in range(int(input()))]\n",
        "for i in zip(*s_list):\n",
        "  print(''.join(i[::-1]))"
      ]
    }
  ]
}