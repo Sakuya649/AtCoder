{
  "nbformat": 4,
  "nbformat_minor": 0,
  "metadata": {
    "colab": {
      "name": "abc084_b.ipynb",
      "provenance": [],
      "authorship_tag": "ABX9TyPfkzlzv02bwpp4b9xbPamd"
    },
    "kernelspec": {
      "name": "python3",
      "display_name": "Python 3"
    },
    "language_info": {
      "name": "python"
    }
  },
  "cells": [
    {
      "cell_type": "code",
      "execution_count": 10,
      "metadata": {
        "colab": {
          "base_uri": "https://localhost:8080/"
        },
        "id": "KdO-F58ryhyn",
        "outputId": "afe96501-9d13-4b12-a1e0-79a246da239c"
      },
      "outputs": [
        {
          "output_type": "stream",
          "name": "stdout",
          "text": [
            "1 2\n",
            "7444\n",
            "No\n"
          ]
        }
      ],
      "source": [
        "a, b = map(int, input().split())\n",
        "s = input()\n",
        "if s[a] == \"-\" and s.count('-') == 1:\n",
        "  print(\"Yes\")\n",
        "else:\n",
        "  print(\"No\")"
      ]
    }
  ]
}