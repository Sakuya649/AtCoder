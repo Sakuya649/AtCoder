{
  "nbformat": 4,
  "nbformat_minor": 0,
  "metadata": {
    "colab": {
      "name": "abc084_a.ipynb",
      "provenance": [],
      "authorship_tag": "ABX9TyMz2ItR8U5EsiyrBsV4xVgF"
    },
    "kernelspec": {
      "name": "python3",
      "display_name": "Python 3"
    },
    "language_info": {
      "name": "python"
    }
  },
  "cells": [
    {
      "cell_type": "code",
      "execution_count": 6,
      "metadata": {
        "colab": {
          "base_uri": "https://localhost:8080/"
        },
        "id": "fhTZ8zZJqgBA",
        "outputId": "1888555f-b11d-479d-a9b7-88a7848c3722"
      },
      "outputs": [
        {
          "output_type": "stream",
          "name": "stdout",
          "text": [
            "21\n",
            "27\n"
          ]
        }
      ],
      "source": [
        "m = int(input())\n",
        "print(48-m)"
      ]
    }
  ]
}