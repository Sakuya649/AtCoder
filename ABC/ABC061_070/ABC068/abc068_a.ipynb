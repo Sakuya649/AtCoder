{
  "nbformat": 4,
  "nbformat_minor": 0,
  "metadata": {
    "colab": {
      "name": "abc068_a.ipynb",
      "provenance": [],
      "authorship_tag": "ABX9TyPG2Eb2CuI4PWHyrDgzYXvH"
    },
    "kernelspec": {
      "name": "python3",
      "display_name": "Python 3"
    },
    "language_info": {
      "name": "python"
    }
  },
  "cells": [
    {
      "cell_type": "code",
      "execution_count": 2,
      "metadata": {
        "colab": {
          "base_uri": "https://localhost:8080/"
        },
        "id": "xITCAJXUzoJl",
        "outputId": "83d3c29b-6b9c-4308-d823-40d220f46e93"
      },
      "outputs": [
        {
          "output_type": "stream",
          "name": "stdout",
          "text": [
            "999\n",
            "ABC999\n"
          ]
        }
      ],
      "source": [
        "print(\"ABC\" + input())"
      ]
    }
  ]
}