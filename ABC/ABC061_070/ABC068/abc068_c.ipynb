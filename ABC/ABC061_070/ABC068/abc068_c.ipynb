{
  "nbformat": 4,
  "nbformat_minor": 0,
  "metadata": {
    "colab": {
      "name": "abc068_c.ipynb",
      "provenance": [],
      "authorship_tag": "ABX9TyNFWao9vCDqJDMkkomFrmcr"
    },
    "kernelspec": {
      "name": "python3",
      "display_name": "Python 3"
    },
    "language_info": {
      "name": "python"
    }
  },
  "cells": [
    {
      "cell_type": "code",
      "execution_count": 8,
      "metadata": {
        "colab": {
          "base_uri": "https://localhost:8080/"
        },
        "id": "fNN2FaHXefq5",
        "outputId": "46ab62b9-ada3-41f1-ad9b-de3ca3712c8a"
      },
      "outputs": [
        {
          "output_type": "stream",
          "name": "stdout",
          "text": [
            "5 5\n",
            "1 3\n",
            "4 5\n",
            "2 3\n",
            "2 4\n",
            "1 4\n",
            "POSSIBLE\n"
          ]
        }
      ],
      "source": [
        "n, m = map(int, input().split())\n",
        "A = set()\n",
        "B = set()\n",
        "for i in range(m):\n",
        "  a, b = map(int, input().split())\n",
        "  if a == 1:\n",
        "    B.add(b)\n",
        "  elif b == n:\n",
        "    A.add(a)\n",
        "print(\"POSSIBLE\" if len(A&B)!=0 else \"IMPOSSIBLE\") "
      ]
    }
  ]
}