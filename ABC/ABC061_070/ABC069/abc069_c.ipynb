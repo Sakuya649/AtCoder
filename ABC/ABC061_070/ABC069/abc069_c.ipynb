{
  "nbformat": 4,
  "nbformat_minor": 0,
  "metadata": {
    "colab": {
      "name": "abc069_c.ipynb",
      "provenance": [],
      "authorship_tag": "ABX9TyMW2uLWOSxwbgPKTwQnhSv4"
    },
    "kernelspec": {
      "name": "python3",
      "display_name": "Python 3"
    },
    "language_info": {
      "name": "python"
    }
  },
  "cells": [
    {
      "cell_type": "code",
      "execution_count": 2,
      "metadata": {
        "colab": {
          "base_uri": "https://localhost:8080/"
        },
        "id": "NhoWGqWbjysw",
        "outputId": "47286872-f877-4f7f-915d-ce375af9e33b"
      },
      "outputs": [
        {
          "output_type": "stream",
          "name": "stdout",
          "text": [
            "6\n",
            "2 7 1 8 2 8\n",
            "Yes\n"
          ]
        }
      ],
      "source": [
        "n = int(input())\n",
        "A = list(map(int, input().split()))\n",
        "c4, c2, c = 0, 0, 0\n",
        "for a in A:\n",
        "  if a % 4 == 0:\n",
        "    c4 += 1\n",
        "  elif a % 2 == 0:\n",
        "    c2 += 1\n",
        "  else:\n",
        "    c += 1\n",
        "if c4 + 1 == c and n == c4 + c:\n",
        "  print(\"Yes\")\n",
        "elif c4 < c:\n",
        "  print(\"No\")\n",
        "else:\n",
        "  print(\"Yes\")"
      ]
    }
  ]
}