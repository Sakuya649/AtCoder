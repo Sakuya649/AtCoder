{
  "nbformat": 4,
  "nbformat_minor": 0,
  "metadata": {
    "colab": {
      "name": "abc069_a.ipynb",
      "provenance": [],
      "authorship_tag": "ABX9TyN2HBZQGaoX49fwieFSGtQW"
    },
    "kernelspec": {
      "name": "python3",
      "display_name": "Python 3"
    },
    "language_info": {
      "name": "python"
    }
  },
  "cells": [
    {
      "cell_type": "code",
      "execution_count": 10,
      "metadata": {
        "colab": {
          "base_uri": "https://localhost:8080/"
        },
        "id": "e_UHUDUA4VAB",
        "outputId": "076e8ef4-8670-43e4-8f78-4ebfb93950e7"
      },
      "outputs": [
        {
          "output_type": "stream",
          "name": "stdout",
          "text": [
            "2 2\n",
            "1\n"
          ]
        }
      ],
      "source": [
        "n, m = map(int, input().split())\n",
        "print((n-1)*(m-1))"
      ]
    }
  ]
}