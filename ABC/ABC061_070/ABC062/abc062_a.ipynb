{
  "nbformat": 4,
  "nbformat_minor": 0,
  "metadata": {
    "colab": {
      "name": "abc062_a.ipynb",
      "provenance": [],
      "authorship_tag": "ABX9TyPTVg+YyimPugThQzAy7ICY"
    },
    "kernelspec": {
      "name": "python3",
      "display_name": "Python 3"
    },
    "language_info": {
      "name": "python"
    }
  },
  "cells": [
    {
      "cell_type": "code",
      "execution_count": 3,
      "metadata": {
        "colab": {
          "base_uri": "https://localhost:8080/"
        },
        "id": "lxzOi93-OWpF",
        "outputId": "1cb8bc88-cba4-4590-ea7d-3b8145765068"
      },
      "outputs": [
        {
          "output_type": "stream",
          "name": "stdout",
          "text": [
            "1 2\n",
            "No\n"
          ]
        }
      ],
      "source": [
        "g1 = [1, 3, 5, 7, 8, 10, 12]\n",
        "g2 = [ 4, 6, 9, 11]\n",
        "x, y = map(int, input().split())\n",
        "if (x in g1 and y in g1) or (x in g2 and y in g2):\n",
        "  print(\"Yes\")\n",
        "else:\n",
        "  print(\"No\")"
      ]
    }
  ]
}