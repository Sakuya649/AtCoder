{
  "nbformat": 4,
  "nbformat_minor": 0,
  "metadata": {
    "colab": {
      "name": "abc063_b.ipynb",
      "provenance": [],
      "authorship_tag": "ABX9TyOI9rRTTGJdX+lCYr173bR3"
    },
    "kernelspec": {
      "name": "python3",
      "display_name": "Python 3"
    },
    "language_info": {
      "name": "python"
    }
  },
  "cells": [
    {
      "cell_type": "code",
      "execution_count": 4,
      "metadata": {
        "colab": {
          "base_uri": "https://localhost:8080/"
        },
        "id": "E_7Vy61SZmqb",
        "outputId": "e1589714-ce10-4358-b8ba-c7a3fb680e35"
      },
      "outputs": [
        {
          "output_type": "stream",
          "name": "stdout",
          "text": [
            "different\n",
            "no\n"
          ]
        }
      ],
      "source": [
        "s = input()\n",
        "print([\"no\", \"yes\"][len(s) == len(set(s))])"
      ]
    }
  ]
}