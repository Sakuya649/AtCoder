{
  "nbformat": 4,
  "nbformat_minor": 0,
  "metadata": {
    "colab": {
      "name": "abc063_c.ipynb",
      "provenance": [],
      "authorship_tag": "ABX9TyMxQTOORxgXpNQs8HoJz5T3"
    },
    "kernelspec": {
      "name": "python3",
      "display_name": "Python 3"
    },
    "language_info": {
      "name": "python"
    }
  },
  "cells": [
    {
      "cell_type": "code",
      "execution_count": 21,
      "metadata": {
        "colab": {
          "base_uri": "https://localhost:8080/"
        },
        "id": "Of6wgsOskGqg",
        "outputId": "81f8ca5c-84ca-4bd8-cdf4-42f246c0b840"
      },
      "outputs": [
        {
          "output_type": "stream",
          "name": "stdout",
          "text": [
            "3\n",
            "10\n",
            "20\n",
            "30\n",
            "0\n"
          ]
        }
      ],
      "source": [
        "score_list = []\n",
        "for i in range(int(input())):\n",
        "  score_list.append(int(input()))\n",
        "score_list.sort()\n",
        "ans = sum(score_list)\n",
        "if ans % 10 == 0:\n",
        "  for score in score_list:\n",
        "    if score % 10 != 0:\n",
        "      ans -= score\n",
        "      break\n",
        "  else:\n",
        "    ans = 0\n",
        "print(ans)"
      ]
    }
  ]
}