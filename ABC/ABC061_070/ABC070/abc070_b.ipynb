{
  "nbformat": 4,
  "nbformat_minor": 0,
  "metadata": {
    "colab": {
      "name": "abc070_b.ipynb",
      "provenance": [],
      "authorship_tag": "ABX9TyMiG7IXldTywpws1uovnjxF"
    },
    "kernelspec": {
      "name": "python3",
      "display_name": "Python 3"
    },
    "language_info": {
      "name": "python"
    }
  },
  "cells": [
    {
      "cell_type": "code",
      "execution_count": 5,
      "metadata": {
        "id": "ro8RnzZmIJwH",
        "colab": {
          "base_uri": "https://localhost:8080/"
        },
        "outputId": "2e23313a-0186-48ef-eff8-f25c200afc47"
      },
      "outputs": [
        {
          "output_type": "stream",
          "name": "stdout",
          "text": [
            "10 90 20 80\n",
            "60\n"
          ]
        }
      ],
      "source": [
        "a, b, c, d = map(int, input().split())\n",
        "if max(a, c) <= min(b, d):\n",
        "  print(min(b, d) - max(a, c))\n",
        "else:\n",
        "  print(0)"
      ]
    }
  ]
}