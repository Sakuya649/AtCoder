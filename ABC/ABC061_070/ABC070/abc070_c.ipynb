{
  "nbformat": 4,
  "nbformat_minor": 0,
  "metadata": {
    "colab": {
      "name": "abc070_c.ipynb",
      "provenance": [],
      "authorship_tag": "ABX9TyMpw2H/RmJosO5W2mBswVmm"
    },
    "kernelspec": {
      "name": "python3",
      "display_name": "Python 3"
    },
    "language_info": {
      "name": "python"
    }
  },
  "cells": [
    {
      "cell_type": "code",
      "execution_count": 8,
      "metadata": {
        "colab": {
          "base_uri": "https://localhost:8080/"
        },
        "id": "CTrqlR-07x-z",
        "outputId": "827c004d-1665-4069-89eb-4d8f8d871248"
      },
      "outputs": [
        {
          "output_type": "stream",
          "name": "stdout",
          "text": [
            "2\n",
            "2\n",
            "3\n",
            "6\n"
          ]
        }
      ],
      "source": [
        "import math\n",
        "from functools import reduce\n",
        "def lcm(x, y):\n",
        "  return (x * y) // math.gcd(x, y)\n",
        "def lcm_list(numbers):\n",
        "  return reduce(lcm, numbers)\n",
        "n = int(input())\n",
        "T =  [int(input()) for i in range(n)]\n",
        "print(lcm_list(T))"
      ]
    }
  ]
}