{
  "nbformat": 4,
  "nbformat_minor": 0,
  "metadata": {
    "colab": {
      "name": "abc070_a.ipynb",
      "provenance": [],
      "authorship_tag": "ABX9TyPtv4NZJp/xxoEgKJUnzemt"
    },
    "kernelspec": {
      "name": "python3",
      "display_name": "Python 3"
    },
    "language_info": {
      "name": "python"
    }
  },
  "cells": [
    {
      "cell_type": "code",
      "execution_count": 3,
      "metadata": {
        "colab": {
          "base_uri": "https://localhost:8080/"
        },
        "id": "eXpy1ZYVlnrC",
        "outputId": "ef186e9e-eb6b-4989-a90e-9541041a6188"
      },
      "outputs": [
        {
          "output_type": "stream",
          "name": "stdout",
          "text": [
            "812\n",
            "No\n"
          ]
        }
      ],
      "source": [
        "n = input()\n",
        "if n == n[::-1]:\n",
        "  print(\"Yes\")\n",
        "else:\n",
        "  print(\"No\")"
      ]
    }
  ]
}