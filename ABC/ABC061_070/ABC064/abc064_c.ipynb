{
  "nbformat": 4,
  "nbformat_minor": 0,
  "metadata": {
    "colab": {
      "name": "abc064_c.ipynb",
      "provenance": [],
      "authorship_tag": "ABX9TyMpK+YtTc1boQmAaKvgYS7Q"
    },
    "kernelspec": {
      "name": "python3",
      "display_name": "Python 3"
    },
    "language_info": {
      "name": "python"
    }
  },
  "cells": [
    {
      "cell_type": "code",
      "execution_count": 22,
      "metadata": {
        "colab": {
          "base_uri": "https://localhost:8080/"
        },
        "id": "2ODROSLw5xp2",
        "outputId": "c495f8fe-6453-4dda-b346-09924ad8d204"
      },
      "outputs": [
        {
          "output_type": "stream",
          "name": "stdout",
          "text": [
            "20\n",
            "800 810 820 830 840 850 860 870 880 890 900 910 920 930 940 950 960 970 980 990\n",
            "1 1\n"
          ]
        }
      ],
      "source": [
        "n = int(input())\n",
        "A = list(map(int, input().split()))\n",
        "color = []\n",
        "num = 0\n",
        "for a in A:\n",
        "  if a < 3200:\n",
        "    color.append(a // 400)\n",
        "  else:\n",
        "    num += 1\n",
        "len_col = len(set(color))\n",
        "min_val = len_col\n",
        "if min_val == 0:\n",
        "  min_val = 1\n",
        "max_val = len_col + num\n",
        "print(min_val, max_val)"
      ]
    }
  ]
}