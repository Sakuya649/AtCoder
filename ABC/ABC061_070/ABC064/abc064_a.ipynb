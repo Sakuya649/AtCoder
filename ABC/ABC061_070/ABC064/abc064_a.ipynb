{
  "nbformat": 4,
  "nbformat_minor": 0,
  "metadata": {
    "colab": {
      "name": "abc064_a.ipynb",
      "provenance": [],
      "authorship_tag": "ABX9TyNaKsGs9fyvdrM5zN6j+zLD"
    },
    "kernelspec": {
      "name": "python3",
      "display_name": "Python 3"
    },
    "language_info": {
      "name": "python"
    }
  },
  "cells": [
    {
      "cell_type": "code",
      "execution_count": 3,
      "metadata": {
        "colab": {
          "base_uri": "https://localhost:8080/"
        },
        "id": "BapXbrMBrA2X",
        "outputId": "2ebf82c1-94c5-46c4-bdb9-1210228b6ee9"
      },
      "outputs": [
        {
          "output_type": "stream",
          "name": "stdout",
          "text": [
            "2 3 4\n",
            "NO\n"
          ]
        }
      ],
      "source": [
        "r, g, b = input().split()\n",
        "num = r+g+b\n",
        "print([\"NO\", \"YES\"][int(num)%4==0])"
      ]
    }
  ]
}