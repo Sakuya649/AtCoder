{
  "nbformat": 4,
  "nbformat_minor": 0,
  "metadata": {
    "colab": {
      "name": "abc061_a.ipynb",
      "provenance": [],
      "authorship_tag": "ABX9TyOeeAPHIs8c2zF7vw9dDZ+t"
    },
    "kernelspec": {
      "name": "python3",
      "display_name": "Python 3"
    },
    "language_info": {
      "name": "python"
    }
  },
  "cells": [
    {
      "cell_type": "code",
      "execution_count": 3,
      "metadata": {
        "colab": {
          "base_uri": "https://localhost:8080/"
        },
        "id": "eGJyBg0kFGxO",
        "outputId": "4f7a8cb3-c9e9-448e-b4fc-178399437edc"
      },
      "outputs": [
        {
          "output_type": "stream",
          "name": "stdout",
          "text": [
            "2 2 2\n",
            "Yes\n"
          ]
        }
      ],
      "source": [
        "a, b, c = map(int, input().split())\n",
        "print([\"No\", \"Yes\"][a<=c and c<=b])"
      ]
    }
  ]
}