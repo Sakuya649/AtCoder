{
  "nbformat": 4,
  "nbformat_minor": 0,
  "metadata": {
    "colab": {
      "name": "abc065_c.ipynb",
      "provenance": [],
      "authorship_tag": "ABX9TyPMp5XqWJYCVlFx7ZLKfSCD"
    },
    "kernelspec": {
      "name": "python3",
      "display_name": "Python 3"
    },
    "language_info": {
      "name": "python"
    }
  },
  "cells": [
    {
      "cell_type": "code",
      "execution_count": null,
      "metadata": {
        "colab": {
          "base_uri": "https://localhost:8080/"
        },
        "id": "E-3hQo9NhDRy",
        "outputId": "42abe0ff-501e-4ea2-9203-bd977530a7fa"
      },
      "outputs": [
        {
          "output_type": "stream",
          "name": "stdout",
          "text": [
            "100000 100000\n",
            "530123477\n"
          ]
        }
      ],
      "source": [
        "import math\n",
        "n, m = map(int, input().split())\n",
        "ans = 0\n",
        "if abs(n-m) < 2:\n",
        "  a = math.factorial(n) % (10**9+7)\n",
        "  b = math.factorial(m) % (10**9+7)\n",
        "  if n == m:\n",
        "    ans = 2*a*b % (10**9+7)\n",
        "  else:\n",
        "    ans = a*b % (10**9+7)\n",
        "print(ans)"
      ]
    }
  ]
}