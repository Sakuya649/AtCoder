{
  "nbformat": 4,
  "nbformat_minor": 0,
  "metadata": {
    "colab": {
      "name": "abc066_b.ipynb",
      "provenance": [],
      "authorship_tag": "ABX9TyPtU6tzxt5S9hk90M1lDECt"
    },
    "kernelspec": {
      "name": "python3",
      "display_name": "Python 3"
    },
    "language_info": {
      "name": "python"
    }
  },
  "cells": [
    {
      "cell_type": "code",
      "execution_count": 10,
      "metadata": {
        "colab": {
          "base_uri": "https://localhost:8080/"
        },
        "id": "QdYY722IjtHc",
        "outputId": "6f731736-d420-416d-ea6d-34671ca4acf4"
      },
      "outputs": [
        {
          "output_type": "stream",
          "name": "stdout",
          "text": [
            "akasakaakasakasakaakas\n",
            "14\n"
          ]
        }
      ],
      "source": [
        "s = input()\n",
        "for i in range(1, len(s)-1):\n",
        "  if s[0:(len(s)-i)//2] == s[(len(s)-i)//2:(len(s)-i)]:\n",
        "    print(len(s)-i)\n",
        "    break"
      ]
    }
  ]
}