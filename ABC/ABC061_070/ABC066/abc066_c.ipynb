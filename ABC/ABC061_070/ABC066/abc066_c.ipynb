{
  "nbformat": 4,
  "nbformat_minor": 0,
  "metadata": {
    "colab": {
      "name": "abc066_c.ipynb",
      "provenance": [],
      "toc_visible": true,
      "authorship_tag": "ABX9TyO6gJu5HRdM56Mscw9EA3FF"
    },
    "kernelspec": {
      "name": "python3",
      "display_name": "Python 3"
    },
    "language_info": {
      "name": "python"
    }
  },
  "cells": [
    {
      "cell_type": "code",
      "execution_count": 6,
      "metadata": {
        "colab": {
          "base_uri": "https://localhost:8080/"
        },
        "id": "HKB2DG9Dq9Ua",
        "outputId": "d4052f08-b67c-4694-bb2a-6ddf0b652caa"
      },
      "outputs": [
        {
          "output_type": "stream",
          "name": "stdout",
          "text": [
            "6\n",
            "0 6 7 6 7 0\n",
            "0 6 6 0 7 7\n"
          ]
        }
      ],
      "source": [
        "from collections import deque\n",
        "n = int(input())\n",
        "A = list(map(int, input().split()))\n",
        "ans = deque()\n",
        "if n%2 == 0:\n",
        "  for i in range(n):\n",
        "    if i%2 == 0:\n",
        "      ans.append(A[i])\n",
        "    else:\n",
        "      ans.appendleft(A[i])\n",
        "else:\n",
        "  for i in range(n):\n",
        "    if i%2 == 0:\n",
        "      ans.appendleft(A[i])\n",
        "    else:\n",
        "      ans.append(A[i])\n",
        "print(*ans)"
      ]
    }
  ]
}