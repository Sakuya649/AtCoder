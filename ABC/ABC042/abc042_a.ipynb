{
  "nbformat": 4,
  "nbformat_minor": 0,
  "metadata": {
    "colab": {
      "name": "abc042_a.ipynb",
      "provenance": [],
      "authorship_tag": "ABX9TyNYOvcBzqzp7GXo1bR3dsSw"
    },
    "kernelspec": {
      "name": "python3",
      "display_name": "Python 3"
    },
    "language_info": {
      "name": "python"
    }
  },
  "cells": [
    {
      "cell_type": "code",
      "execution_count": 2,
      "metadata": {
        "colab": {
          "base_uri": "https://localhost:8080/"
        },
        "id": "QX8d3KiqAl8_",
        "outputId": "4d6ea997-aad6-424a-c955-5d5b6cf8bbc9"
      },
      "outputs": [
        {
          "output_type": "stream",
          "name": "stdout",
          "text": [
            "7 7 5\n",
            "NO\n"
          ]
        }
      ],
      "source": [
        "a = sorted(list(map(int, input().split())))\n",
        "if a == [5, 5, 7]:\n",
        "  print(\"YES\")\n",
        "else:\n",
        "  print(\"NO\")"
      ]
    }
  ]
}