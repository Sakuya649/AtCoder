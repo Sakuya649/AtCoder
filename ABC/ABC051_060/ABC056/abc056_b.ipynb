{
  "nbformat": 4,
  "nbformat_minor": 0,
  "metadata": {
    "colab": {
      "name": "abc056_b.ipynb",
      "provenance": [],
      "authorship_tag": "ABX9TyMMtZJlqf/fJR/AG0hBHOm2"
    },
    "kernelspec": {
      "name": "python3",
      "display_name": "Python 3"
    },
    "language_info": {
      "name": "python"
    }
  },
  "cells": [
    {
      "cell_type": "code",
      "execution_count": 13,
      "metadata": {
        "colab": {
          "base_uri": "https://localhost:8080/"
        },
        "id": "GK0N7ICrcB4W",
        "outputId": "e59eccd6-7876-4dcb-8999-93880b44004d"
      },
      "outputs": [
        {
          "output_type": "stream",
          "name": "stdout",
          "text": [
            "3 2 6\n",
            "1\n"
          ]
        }
      ],
      "source": [
        "w, a, b = map(int, input().split())\n",
        "print([max(a,b)-min(a,b)-w, 0][min(a, b)+w >= max(a, b)])"
      ]
    }
  ]
}