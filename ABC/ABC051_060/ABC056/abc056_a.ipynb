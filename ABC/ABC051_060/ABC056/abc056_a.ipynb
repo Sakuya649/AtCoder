{
  "nbformat": 4,
  "nbformat_minor": 0,
  "metadata": {
    "colab": {
      "name": "abc056_a.ipynb",
      "provenance": [],
      "collapsed_sections": [],
      "authorship_tag": "ABX9TyMbxYfySoycqUlEwiSSFZl4"
    },
    "kernelspec": {
      "name": "python3",
      "display_name": "Python 3"
    },
    "language_info": {
      "name": "python"
    }
  },
  "cells": [
    {
      "cell_type": "code",
      "execution_count": 2,
      "metadata": {
        "colab": {
          "base_uri": "https://localhost:8080/"
        },
        "id": "GbVf6Bo5a8HE",
        "outputId": "72083d7d-dd85-4b2a-a53e-075354c7e0e0"
      },
      "outputs": [
        {
          "output_type": "stream",
          "name": "stdout",
          "text": [
            "D H\n",
            "D\n"
          ]
        }
      ],
      "source": [
        "a, b = input().split()\n",
        "print([\"H\", \"D\"][a != b])"
      ]
    }
  ]
}