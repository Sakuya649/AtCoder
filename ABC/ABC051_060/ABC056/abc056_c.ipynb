{
  "nbformat": 4,
  "nbformat_minor": 0,
  "metadata": {
    "colab": {
      "name": "abc056_c.ipynb",
      "provenance": [],
      "authorship_tag": "ABX9TyO1Ap1N0vn2h7t6ifIYK104"
    },
    "kernelspec": {
      "name": "python3",
      "display_name": "Python 3"
    },
    "language_info": {
      "name": "python"
    }
  },
  "cells": [
    {
      "cell_type": "code",
      "execution_count": 3,
      "metadata": {
        "colab": {
          "base_uri": "https://localhost:8080/"
        },
        "id": "TSBtNCI4oxqU",
        "outputId": "7210886f-e91b-47d5-9b74-4bd143607647"
      },
      "outputs": [
        {
          "output_type": "stream",
          "name": "stdout",
          "text": [
            "11\n",
            "5\n"
          ]
        }
      ],
      "source": [
        "x = int(input())\n",
        "i = 1\n",
        "while i*(i+1)//2 < x:\n",
        "  i += 1\n",
        "print(i)"
      ]
    }
  ]
}