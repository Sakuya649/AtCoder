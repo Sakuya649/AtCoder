{
  "nbformat": 4,
  "nbformat_minor": 0,
  "metadata": {
    "colab": {
      "name": "abc053_a.ipynb",
      "provenance": [],
      "authorship_tag": "ABX9TyM4MPBwDIuPiUa7Ty1czf7b"
    },
    "kernelspec": {
      "name": "python3",
      "display_name": "Python 3"
    },
    "language_info": {
      "name": "python"
    }
  },
  "cells": [
    {
      "cell_type": "code",
      "execution_count": 7,
      "metadata": {
        "colab": {
          "base_uri": "https://localhost:8080/"
        },
        "id": "xeBLnrelIyLA",
        "outputId": "4ce9b78a-0a64-41ce-85f0-1df93db5a6a0"
      },
      "outputs": [
        {
          "output_type": "stream",
          "name": "stdout",
          "text": [
            "2000\n",
            "ARC\n"
          ]
        }
      ],
      "source": [
        "x = int(input())\n",
        "print([\"ARC\", \"ABC\"][x < 1200])"
      ]
    }
  ]
}