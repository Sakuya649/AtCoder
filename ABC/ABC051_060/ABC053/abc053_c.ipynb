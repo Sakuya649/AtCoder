{
  "nbformat": 4,
  "nbformat_minor": 0,
  "metadata": {
    "colab": {
      "name": "abc053_c.ipynb",
      "provenance": [],
      "authorship_tag": "ABX9TyPH+r5kHj2YRg1IUyIJbZ7O"
    },
    "kernelspec": {
      "name": "python3",
      "display_name": "Python 3"
    },
    "language_info": {
      "name": "python"
    }
  },
  "cells": [
    {
      "cell_type": "code",
      "execution_count": 9,
      "metadata": {
        "colab": {
          "base_uri": "https://localhost:8080/"
        },
        "id": "ypPoY2U3Gv2f",
        "outputId": "c66faeca-8315-4948-c99c-748dde01f8db"
      },
      "outputs": [
        {
          "output_type": "stream",
          "name": "stdout",
          "text": [
            "149696127901\n",
            "27217477801\n"
          ]
        }
      ],
      "source": [
        "x = int(input())\n",
        "print((2*x+9)//11)"
      ]
    }
  ]
}