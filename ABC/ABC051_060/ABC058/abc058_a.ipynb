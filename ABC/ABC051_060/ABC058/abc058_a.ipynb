{
  "nbformat": 4,
  "nbformat_minor": 0,
  "metadata": {
    "colab": {
      "name": "abc058_a.ipynb",
      "provenance": [],
      "authorship_tag": "ABX9TyP5CWc1LxDkCXcaIV73v6HU"
    },
    "kernelspec": {
      "name": "python3",
      "display_name": "Python 3"
    },
    "language_info": {
      "name": "python"
    }
  },
  "cells": [
    {
      "cell_type": "code",
      "execution_count": 1,
      "metadata": {
        "colab": {
          "base_uri": "https://localhost:8080/"
        },
        "id": "K61nBhZaTA8t",
        "outputId": "38f86189-a88d-4da5-8fb6-753e97275f87"
      },
      "outputs": [
        {
          "output_type": "stream",
          "name": "stdout",
          "text": [
            "3 2 1\n",
            "YES\n"
          ]
        }
      ],
      "source": [
        "a, b, c = map(int, input().split())\n",
        "print([\"NO\", \"YES\"][b-a == c-b])"
      ]
    }
  ]
}