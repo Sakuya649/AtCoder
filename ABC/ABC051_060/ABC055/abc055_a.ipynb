{
  "nbformat": 4,
  "nbformat_minor": 0,
  "metadata": {
    "colab": {
      "name": "abc055_a.ipynb",
      "provenance": [],
      "authorship_tag": "ABX9TyNHwJxu2fKcCUW9FiBu528B"
    },
    "kernelspec": {
      "name": "python3",
      "display_name": "Python 3"
    },
    "language_info": {
      "name": "python"
    }
  },
  "cells": [
    {
      "cell_type": "code",
      "execution_count": 2,
      "metadata": {
        "colab": {
          "base_uri": "https://localhost:8080/"
        },
        "id": "LrQsE2jwdfcy",
        "outputId": "c8e93a15-2559-4caa-a231-4adcb6f2cbe2"
      },
      "outputs": [
        {
          "output_type": "stream",
          "name": "stdout",
          "text": [
            "60\n",
            "47200\n"
          ]
        }
      ],
      "source": [
        "n = int(input())\n",
        "print(n*800 - (n//15)*200)"
      ]
    }
  ]
}