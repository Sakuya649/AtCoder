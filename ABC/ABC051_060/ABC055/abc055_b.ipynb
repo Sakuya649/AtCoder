{
  "nbformat": 4,
  "nbformat_minor": 0,
  "metadata": {
    "colab": {
      "name": "abc055_b.ipynb",
      "provenance": [],
      "authorship_tag": "ABX9TyMa0SHKEkCOj8SFq847rgcA"
    },
    "kernelspec": {
      "name": "python3",
      "display_name": "Python 3"
    },
    "language_info": {
      "name": "python"
    }
  },
  "cells": [
    {
      "cell_type": "code",
      "execution_count": 7,
      "metadata": {
        "colab": {
          "base_uri": "https://localhost:8080/"
        },
        "id": "hdQt7iC2eLOU",
        "outputId": "be9a47be-d1a0-4eee-f7ea-962d142fb8d3"
      },
      "outputs": [
        {
          "output_type": "stream",
          "name": "stdout",
          "text": [
            "100000\n",
            "457992974\n"
          ]
        }
      ],
      "source": [
        "ans = 1\n",
        "for i in range(int(input())):\n",
        "  ans = ans*(i+1) % (10**9+7)\n",
        "print(ans)"
      ]
    }
  ]
}