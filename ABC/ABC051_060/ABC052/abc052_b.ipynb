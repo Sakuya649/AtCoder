{
  "nbformat": 4,
  "nbformat_minor": 0,
  "metadata": {
    "colab": {
      "name": "abc052_b.ipynb",
      "provenance": [],
      "authorship_tag": "ABX9TyOoEIVU9WdOMgM7LGHbtYa8"
    },
    "kernelspec": {
      "name": "python3",
      "display_name": "Python 3"
    },
    "language_info": {
      "name": "python"
    }
  },
  "cells": [
    {
      "cell_type": "code",
      "execution_count": 3,
      "metadata": {
        "colab": {
          "base_uri": "https://localhost:8080/"
        },
        "id": "UNegnZycBxco",
        "outputId": "4f8efe81-fa50-450b-f648-6bd079813cb8"
      },
      "outputs": [
        {
          "output_type": "stream",
          "name": "stdout",
          "text": [
            "7\n",
            "DDIDDII\n",
            "0\n"
          ]
        }
      ],
      "source": [
        "n = input()\n",
        "s = input()\n",
        "x = 0\n",
        "max = 0\n",
        "for si in s:\n",
        "  if si == \"I\": x += 1\n",
        "  else: x -= 1\n",
        "  if max < x: max = x\n",
        "print(max)"
      ]
    }
  ]
}