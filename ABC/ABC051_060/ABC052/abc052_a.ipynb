{
  "nbformat": 4,
  "nbformat_minor": 0,
  "metadata": {
    "colab": {
      "name": "abc052_a.ipynb",
      "provenance": [],
      "authorship_tag": "ABX9TyPsKWh/YysTCIYdZOlBWOT9"
    },
    "kernelspec": {
      "name": "python3",
      "display_name": "Python 3"
    },
    "language_info": {
      "name": "python"
    }
  },
  "cells": [
    {
      "cell_type": "code",
      "execution_count": 2,
      "metadata": {
        "colab": {
          "base_uri": "https://localhost:8080/"
        },
        "id": "ri1U3b-dA_-p",
        "outputId": "d8a7db3f-b27d-4bde-f63b-3bb8b1e63482"
      },
      "outputs": [
        {
          "output_type": "stream",
          "name": "stdout",
          "text": [
            "100 600 200 300\n",
            "60000\n"
          ]
        }
      ],
      "source": [
        "a, b, c, d = map(int, input().split())\n",
        "print([a*b, c*d][a*b <= c*d])"
      ]
    }
  ]
}