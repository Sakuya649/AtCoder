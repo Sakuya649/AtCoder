{
  "nbformat": 4,
  "nbformat_minor": 0,
  "metadata": {
    "colab": {
      "name": "abc054_a.ipynb",
      "provenance": [],
      "authorship_tag": "ABX9TyNeNz7nWoRalnEc6rQ6zvIH"
    },
    "kernelspec": {
      "name": "python3",
      "display_name": "Python 3"
    },
    "language_info": {
      "name": "python"
    }
  },
  "cells": [
    {
      "cell_type": "code",
      "execution_count": 3,
      "metadata": {
        "colab": {
          "base_uri": "https://localhost:8080/"
        },
        "id": "WxY2vtzSbvma",
        "outputId": "33419358-dcd4-41b3-ffda-44c52553f534"
      },
      "outputs": [
        {
          "output_type": "stream",
          "name": "stdout",
          "text": [
            "1 1\n",
            "Draw\n"
          ]
        }
      ],
      "source": [
        "a, b = map(int, input().split())\n",
        "if a == b:\n",
        "  print(\"Draw\")\n",
        "elif a == 1:\n",
        "  print(\"Alice\")\n",
        "elif b == 1:\n",
        "  print(\"Bob\")\n",
        "else:\n",
        "  print([\"Alice\", \"Bob\"][a < b])"
      ]
    }
  ]
}