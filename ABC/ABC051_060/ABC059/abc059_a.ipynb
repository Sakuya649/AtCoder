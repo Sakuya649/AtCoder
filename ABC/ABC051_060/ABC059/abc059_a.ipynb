{
  "nbformat": 4,
  "nbformat_minor": 0,
  "metadata": {
    "colab": {
      "name": "abc059_a.ipynb",
      "provenance": [],
      "authorship_tag": "ABX9TyMqElM0S3QedD0nb80M3hA7"
    },
    "kernelspec": {
      "name": "python3",
      "display_name": "Python 3"
    },
    "language_info": {
      "name": "python"
    }
  },
  "cells": [
    {
      "cell_type": "code",
      "execution_count": 3,
      "metadata": {
        "colab": {
          "base_uri": "https://localhost:8080/"
        },
        "id": "vY_H2iWImwHn",
        "outputId": "1a9415f7-351f-4787-8831-05010d303e1b"
      },
      "outputs": [
        {
          "output_type": "stream",
          "name": "stdout",
          "text": [
            "async layered coding\n",
            "ALC\n"
          ]
        }
      ],
      "source": [
        "s1, s2, s3 = input().split()\n",
        "print((s1[0]+s2[0]+s3[0]).upper())"
      ]
    }
  ]
}