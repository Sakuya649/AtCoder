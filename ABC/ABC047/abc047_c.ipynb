{
  "nbformat": 4,
  "nbformat_minor": 0,
  "metadata": {
    "colab": {
      "name": "abc047_c.ipynb",
      "provenance": [],
      "authorship_tag": "ABX9TyOTjhqT6GG/qWVebm9B1RFj"
    },
    "kernelspec": {
      "name": "python3",
      "display_name": "Python 3"
    },
    "language_info": {
      "name": "python"
    }
  },
  "cells": [
    {
      "cell_type": "code",
      "execution_count": 2,
      "metadata": {
        "colab": {
          "base_uri": "https://localhost:8080/"
        },
        "id": "BqdpM2tfM3dN",
        "outputId": "102cc2bf-f970-4ac4-b4ee-00d19485f989"
      },
      "outputs": [
        {
          "output_type": "stream",
          "name": "stdout",
          "text": [
            "WBWBWBWBWB\n",
            "9\n"
          ]
        }
      ],
      "source": [
        "s = input()\n",
        "cnt = 0\n",
        "for i in range(1,len(s)):\n",
        "  if s[i] != s[i-1]:\n",
        "    cnt += 1\n",
        "print(cnt)"
      ]
    }
  ]
}