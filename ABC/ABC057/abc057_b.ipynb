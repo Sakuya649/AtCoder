{
  "nbformat": 4,
  "nbformat_minor": 0,
  "metadata": {
    "colab": {
      "name": "abc057_b.ipynb",
      "provenance": [],
      "authorship_tag": "ABX9TyPJq/AS5Aoq/M2gMFbvy94+"
    },
    "kernelspec": {
      "name": "python3",
      "display_name": "Python 3"
    },
    "language_info": {
      "name": "python"
    }
  },
  "cells": [
    {
      "cell_type": "code",
      "execution_count": 25,
      "metadata": {
        "colab": {
          "base_uri": "https://localhost:8080/"
        },
        "id": "dV2sQIwz0vxk",
        "outputId": "2eb78b0c-002b-45f5-c389-725ba3469004"
      },
      "outputs": [
        {
          "output_type": "stream",
          "name": "stdout",
          "text": [
            "5 5\n",
            "-100000000 -100000000\n",
            "-100000000 100000000\n",
            "100000000 -100000000\n",
            "100000000 100000000\n",
            "0 0\n",
            "0 0\n",
            "100000000 100000000\n",
            "100000000 -100000000\n",
            "-100000000 100000000\n",
            "-100000000 -100000000\n",
            "5\n",
            "4\n",
            "3\n",
            "2\n",
            "1\n"
          ]
        }
      ],
      "source": [
        "n, m = map(int, input().split())\n",
        "x1, y1 = [], []\n",
        "x2, y2 = [], []\n",
        "for i in range(n):\n",
        "  x, y = map(int, input().split())\n",
        "  x1.append(x)\n",
        "  y1.append(y)\n",
        "for j in range(m):\n",
        "  x, y = map(int, input().split())\n",
        "  x2.append(x)\n",
        "  y2.append(y)\n",
        "for k in range(n):\n",
        "  pos = abs(x1[k]-x2[0]) + abs(y1[k]-y2[0])\n",
        "  ans = 1\n",
        "  for l in range(1, m):\n",
        "    temp = abs(x1[k]-x2[l]) + abs(y1[k]-y2[l])\n",
        "    if pos > temp:\n",
        "      pos = temp\n",
        "      ans = l + 1\n",
        "  print(ans)"
      ]
    }
  ]
}