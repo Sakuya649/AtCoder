{
  "nbformat": 4,
  "nbformat_minor": 0,
  "metadata": {
    "colab": {
      "name": "abc057_a.ipynb",
      "provenance": [],
      "authorship_tag": "ABX9TyP0+WcUlifzN6JX1+ThYpDp"
    },
    "kernelspec": {
      "name": "python3",
      "display_name": "Python 3"
    },
    "language_info": {
      "name": "python"
    }
  },
  "cells": [
    {
      "cell_type": "code",
      "execution_count": 4,
      "metadata": {
        "colab": {
          "base_uri": "https://localhost:8080/"
        },
        "id": "0TjVFFXwnoVI",
        "outputId": "e1e5e7b1-92d3-4987-945d-229c391ce226"
      },
      "outputs": [
        {
          "output_type": "stream",
          "name": "stdout",
          "text": [
            "23 2\n",
            "1\n"
          ]
        }
      ],
      "source": [
        "a, b = map(int, input().split())\n",
        "print([a+b, (a+b)-24][a+b >= 24])"
      ]
    }
  ]
}