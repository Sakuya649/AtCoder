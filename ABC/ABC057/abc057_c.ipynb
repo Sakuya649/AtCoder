{
  "nbformat": 4,
  "nbformat_minor": 0,
  "metadata": {
    "colab": {
      "name": "abc057_c.ipynb",
      "provenance": [],
      "authorship_tag": "ABX9TyOFB69Kjvy9es+D8a4QXJf6"
    },
    "kernelspec": {
      "name": "python3",
      "display_name": "Python 3"
    },
    "language_info": {
      "name": "python"
    }
  },
  "cells": [
    {
      "cell_type": "code",
      "execution_count": 4,
      "metadata": {
        "id": "nDmCPejaZvNG",
        "colab": {
          "base_uri": "https://localhost:8080/"
        },
        "outputId": "2dbc3b43-f455-4cc9-e621-52dfe215ed97"
      },
      "outputs": [
        {
          "output_type": "stream",
          "name": "stdout",
          "text": [
            "9876543210\n",
            "6\n"
          ]
        }
      ],
      "source": [
        "n = int(input())\n",
        "a = 1\n",
        "ans = 1\n",
        "while a*a <= n:\n",
        "  if n % a == 0:\n",
        "    ans = a\n",
        "  a += 1\n",
        "print(len(str(n//ans)))"
      ]
    }
  ]
}