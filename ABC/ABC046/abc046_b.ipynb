{
  "nbformat": 4,
  "nbformat_minor": 0,
  "metadata": {
    "colab": {
      "name": "abc046_b.ipynb",
      "provenance": [],
      "authorship_tag": "ABX9TyMrP7YmBcHiBYX6xNqFn9sq"
    },
    "kernelspec": {
      "name": "python3",
      "display_name": "Python 3"
    },
    "language_info": {
      "name": "python"
    }
  },
  "cells": [
    {
      "cell_type": "code",
      "execution_count": 6,
      "metadata": {
        "colab": {
          "base_uri": "https://localhost:8080/"
        },
        "id": "2RQt7VTlzozW",
        "outputId": "c3c54f32-243f-4c78-f8fa-c993ccea8111"
      },
      "outputs": [
        {
          "output_type": "stream",
          "name": "stdout",
          "text": [
            "2 2\n",
            "2\n"
          ]
        }
      ],
      "source": [
        "n, k = map(int, input().split())\n",
        "print(k * (k-1) ** (n-1))"
      ]
    }
  ]
}