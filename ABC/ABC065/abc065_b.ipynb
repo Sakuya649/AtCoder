{
  "nbformat": 4,
  "nbformat_minor": 0,
  "metadata": {
    "colab": {
      "name": "abc065_b.ipynb",
      "provenance": [],
      "authorship_tag": "ABX9TyOLc5SbMUB5LhmW7WkFR1Wv"
    },
    "kernelspec": {
      "name": "python3",
      "display_name": "Python 3"
    },
    "language_info": {
      "name": "python"
    }
  },
  "cells": [
    {
      "cell_type": "code",
      "execution_count": null,
      "metadata": {
        "colab": {
          "base_uri": "https://localhost:8080/"
        },
        "id": "iIT4GqUqC7km",
        "outputId": "465f42af-3752-452f-f9be-1b5dc47c6d91"
      },
      "outputs": [
        {
          "output_type": "stream",
          "name": "stdout",
          "text": [
            "5\n",
            "3\n",
            "3\n",
            "4\n",
            "2\n",
            "4\n",
            "3\n"
          ]
        }
      ],
      "source": [
        "n = int(input())\n",
        "A = [int(input()) for _ in range(n)]\n",
        "i, count = 0, 1\n",
        "while A[i] != 2:\n",
        "  i = A[i] - 1\n",
        "  count += 1\n",
        "  if count > n:\n",
        "    print(-1)\n",
        "    break\n",
        "else:\n",
        "  print(count)"
      ]
    }
  ]
}