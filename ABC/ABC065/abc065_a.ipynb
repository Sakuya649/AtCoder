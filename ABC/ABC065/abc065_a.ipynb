{
  "nbformat": 4,
  "nbformat_minor": 0,
  "metadata": {
    "colab": {
      "name": "abc065_a.ipynb",
      "provenance": [],
      "authorship_tag": "ABX9TyOCWJXnS9ex1D1zauB5ef83"
    },
    "kernelspec": {
      "name": "python3",
      "display_name": "Python 3"
    },
    "language_info": {
      "name": "python"
    }
  },
  "cells": [
    {
      "cell_type": "code",
      "execution_count": 4,
      "metadata": {
        "colab": {
          "base_uri": "https://localhost:8080/"
        },
        "id": "TpmdqYiZ_DGH",
        "outputId": "cc66e77d-558e-4beb-c50c-bc1b8b48d55c"
      },
      "outputs": [
        {
          "output_type": "stream",
          "name": "stdout",
          "text": [
            "3 7 12\n",
            "dangerous\n"
          ]
        }
      ],
      "source": [
        "x, a, b = map(int, input().split())\n",
        "if a >= b:\n",
        "  print(\"delicious\")\n",
        "else:\n",
        "  print([\"dangerous\", \"safe\"][x >= (b-a)])"
      ]
    }
  ]
}