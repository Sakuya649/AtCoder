{
  "nbformat": 4,
  "nbformat_minor": 0,
  "metadata": {
    "colab": {
      "name": "abc002_b.ipynb",
      "provenance": [],
      "authorship_tag": "ABX9TyMXAj7uBUvUGGI+jptZmm+s"
    },
    "kernelspec": {
      "name": "python3",
      "display_name": "Python 3"
    },
    "language_info": {
      "name": "python"
    }
  },
  "cells": [
    {
      "cell_type": "code",
      "execution_count": 2,
      "metadata": {
        "colab": {
          "base_uri": "https://localhost:8080/"
        },
        "id": "6_VzJr9G3Vk6",
        "outputId": "f68e9a3d-b23c-40fa-ee81-6df627bc6900"
      },
      "outputs": [
        {
          "output_type": "stream",
          "name": "stdout",
          "text": [
            "okanemochi\n",
            "knmch\n"
          ]
        }
      ],
      "source": [
        "w = input()\n",
        "vowel = ['a', 'i', 'u', 'e', 'o']\n",
        "for v in vowel:\n",
        "  w = w.replace(v, '')\n",
        "print(w)"
      ]
    }
  ]
}