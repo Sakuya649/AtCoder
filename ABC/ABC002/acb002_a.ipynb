{
  "nbformat": 4,
  "nbformat_minor": 0,
  "metadata": {
    "colab": {
      "name": "acb002_a.ipynb",
      "provenance": [],
      "authorship_tag": "ABX9TyOzcmZrkeNx//IQdAfOyn4e"
    },
    "kernelspec": {
      "name": "python3",
      "display_name": "Python 3"
    },
    "language_info": {
      "name": "python"
    }
  },
  "cells": [
    {
      "cell_type": "code",
      "execution_count": 1,
      "metadata": {
        "colab": {
          "base_uri": "https://localhost:8080/"
        },
        "id": "Tdwrmy-e3WBZ",
        "outputId": "dac58155-db82-409c-e4b2-f0f564fca840"
      },
      "outputs": [
        {
          "output_type": "stream",
          "name": "stdout",
          "text": [
            "10 11\n",
            "11\n"
          ]
        }
      ],
      "source": [
        "x, y = map(int,input().split())\n",
        "print(max(x, y))"
      ]
    }
  ]
}