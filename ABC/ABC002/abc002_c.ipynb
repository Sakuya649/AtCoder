{
  "nbformat": 4,
  "nbformat_minor": 0,
  "metadata": {
    "colab": {
      "name": "abc002_c.ipynb",
      "provenance": [],
      "authorship_tag": "ABX9TyMxAivqbEdOJADoBl7cfb5h"
    },
    "kernelspec": {
      "name": "python3",
      "display_name": "Python 3"
    },
    "language_info": {
      "name": "python"
    }
  },
  "cells": [
    {
      "cell_type": "code",
      "execution_count": 7,
      "metadata": {
        "colab": {
          "base_uri": "https://localhost:8080/"
        },
        "id": "5bqeROi44pMT",
        "outputId": "c2df0abc-06f0-4e3e-dd99-e55246c40a5f"
      },
      "outputs": [
        {
          "output_type": "stream",
          "name": "stdout",
          "text": [
            "298 520 903 520 4 663\n",
            "43257.5\n"
          ]
        }
      ],
      "source": [
        "xa, ya, xb, yb, xc, yc = map(int, input().split())\n",
        "print(abs((xb - xa) * (yc - ya) - (xc - xa) * (yb - ya)) / 2)"
      ]
    }
  ]
}