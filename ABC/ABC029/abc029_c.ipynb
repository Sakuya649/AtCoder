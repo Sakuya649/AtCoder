{
  "nbformat": 4,
  "nbformat_minor": 0,
  "metadata": {
    "colab": {
      "name": "abc029_c.ipynb",
      "provenance": [],
      "authorship_tag": "ABX9TyNlFNIXef6h93qXmuqL+L+I"
    },
    "kernelspec": {
      "name": "python3",
      "display_name": "Python 3"
    },
    "language_info": {
      "name": "python"
    }
  },
  "cells": [
    {
      "cell_type": "code",
      "execution_count": 3,
      "metadata": {
        "colab": {
          "base_uri": "https://localhost:8080/"
        },
        "id": "XCwIgq1Q7sPB",
        "outputId": "0379f014-a8e9-4879-a365-9aa651015487"
      },
      "outputs": [
        {
          "output_type": "stream",
          "name": "stdout",
          "text": [
            "2\n",
            "aa\n",
            "ab\n",
            "ac\n",
            "ba\n",
            "bb\n",
            "bc\n",
            "ca\n",
            "cb\n",
            "cc\n"
          ]
        }
      ],
      "source": [
        "import itertools\n",
        "all = itertools.product('abc', repeat=int(input()))\n",
        "for x in all:\n",
        "    print(''.join(x))"
      ]
    }
  ]
}