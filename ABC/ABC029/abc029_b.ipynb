{
  "nbformat": 4,
  "nbformat_minor": 0,
  "metadata": {
    "colab": {
      "name": "abc029_b.ipynb",
      "provenance": [],
      "authorship_tag": "ABX9TyO5QHNLC2uTk1rd8MlDaczN"
    },
    "kernelspec": {
      "name": "python3",
      "display_name": "Python 3"
    },
    "language_info": {
      "name": "python"
    }
  },
  "cells": [
    {
      "cell_type": "code",
      "execution_count": 4,
      "metadata": {
        "colab": {
          "base_uri": "https://localhost:8080/"
        },
        "id": "6_zeiVXmYoWZ",
        "outputId": "3fe0bdd7-c480-448b-9181-518fc56f3b93"
      },
      "outputs": [
        {
          "output_type": "stream",
          "name": "stdout",
          "text": [
            "january\n",
            "february\n",
            "march\n",
            "april\n",
            "may\n",
            "june\n",
            "july\n",
            "august\n",
            "september\n",
            "october\n",
            "november\n",
            "december\n",
            "8\n"
          ]
        }
      ],
      "source": [
        "s_list = [input() for _ in range(12)]\n",
        "ans = 0\n",
        "for s in s_list:\n",
        "  if \"r\" in s:\n",
        "    ans += 1\n",
        "print(ans)"
      ]
    }
  ]
}