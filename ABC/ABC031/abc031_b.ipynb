{
  "nbformat": 4,
  "nbformat_minor": 0,
  "metadata": {
    "colab": {
      "name": "abc031_b.ipynb",
      "provenance": [],
      "authorship_tag": "ABX9TyM4G1Btx6EJMVxKwafcDeC1"
    },
    "kernelspec": {
      "name": "python3",
      "display_name": "Python 3"
    },
    "language_info": {
      "name": "python"
    }
  },
  "cells": [
    {
      "cell_type": "code",
      "execution_count": 3,
      "metadata": {
        "colab": {
          "base_uri": "https://localhost:8080/"
        },
        "id": "SQj8-pLL5BR5",
        "outputId": "5307d12a-7fe0-4ed2-9939-b2b9f2115abd"
      },
      "outputs": [
        {
          "output_type": "stream",
          "name": "stdout",
          "text": [
            "50 80\n",
            "5\n",
            "10000\n",
            "-1\n",
            "50\n",
            "0\n",
            "81\n",
            "-1\n",
            "80\n",
            "0\n",
            "0\n",
            "50\n"
          ]
        }
      ],
      "source": [
        "l, h = map(int, input().split())\n",
        "for i in range(int(input())):\n",
        "  a = int(input())\n",
        "  if l <= a and a <= h: print(0)\n",
        "  elif l > a: print(l - a)\n",
        "  else: print(-1)"
      ]
    }
  ]
}