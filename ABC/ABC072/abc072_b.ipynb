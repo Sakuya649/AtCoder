{
  "nbformat": 4,
  "nbformat_minor": 0,
  "metadata": {
    "colab": {
      "name": "abc072_b.ipynb",
      "provenance": [],
      "authorship_tag": "ABX9TyOth56hUP4lkdkO6hc752fN"
    },
    "kernelspec": {
      "name": "python3",
      "display_name": "Python 3"
    },
    "language_info": {
      "name": "python"
    }
  },
  "cells": [
    {
      "cell_type": "code",
      "execution_count": 2,
      "metadata": {
        "colab": {
          "base_uri": "https://localhost:8080/"
        },
        "id": "asBUTEqPSxyb",
        "outputId": "0bb20dc4-5136-4f28-b75f-9d24d7f45b9b"
      },
      "outputs": [
        {
          "output_type": "stream",
          "name": "stdout",
          "text": [
            "fukuokayamaguchi\n",
            "fkoaaauh\n"
          ]
        }
      ],
      "source": [
        "s = input()\n",
        "print(s[::2])"
      ]
    }
  ]
}