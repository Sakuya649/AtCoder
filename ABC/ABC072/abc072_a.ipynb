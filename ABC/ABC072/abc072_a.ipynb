{
  "nbformat": 4,
  "nbformat_minor": 0,
  "metadata": {
    "colab": {
      "name": "abc072_a.ipynb",
      "provenance": [],
      "authorship_tag": "ABX9TyMqnBwXbjPLRyI1YK7JDvvw"
    },
    "kernelspec": {
      "name": "python3",
      "display_name": "Python 3"
    },
    "language_info": {
      "name": "python"
    }
  },
  "cells": [
    {
      "cell_type": "code",
      "execution_count": 3,
      "metadata": {
        "colab": {
          "base_uri": "https://localhost:8080/"
        },
        "id": "zck3Acw5jNFF",
        "outputId": "bc6bc22e-3968-4cb2-c2c0-8580642813cf"
      },
      "outputs": [
        {
          "output_type": "stream",
          "name": "stdout",
          "text": [
            "1000000000 1000000000\n",
            "0\n"
          ]
        }
      ],
      "source": [
        "x, t = map(int, input().split())\n",
        "print(max(0, x-t))"
      ]
    }
  ]
}