{
  "nbformat": 4,
  "nbformat_minor": 0,
  "metadata": {
    "colab": {
      "name": "abc072_d.ipynb",
      "provenance": [],
      "authorship_tag": "ABX9TyOB4cGQcOl08cNAzI0ef/5A"
    },
    "kernelspec": {
      "name": "python3",
      "display_name": "Python 3"
    },
    "language_info": {
      "name": "python"
    }
  },
  "cells": [
    {
      "cell_type": "code",
      "execution_count": 4,
      "metadata": {
        "colab": {
          "base_uri": "https://localhost:8080/"
        },
        "id": "mi_v3K-cplmZ",
        "outputId": "6502019b-3d6e-441d-a08b-a37b5c7bc4e2"
      },
      "outputs": [
        {
          "output_type": "stream",
          "name": "stdout",
          "text": [
            "9\n",
            "1 2 4 9 5 8 7 3 6\n",
            "3\n"
          ]
        }
      ],
      "source": [
        "n = int(input())\n",
        "P = list(map(int, input().split()))\n",
        "ans = 0\n",
        "for i in range(len(P)):\n",
        "  if P[i] == i+1:\n",
        "    P[i], P[i+1] = P[i+1], P[i]\n",
        "    ans += 1\n",
        "print(ans)"
      ]
    }
  ]
}