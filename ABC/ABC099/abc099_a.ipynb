{
  "nbformat": 4,
  "nbformat_minor": 0,
  "metadata": {
    "colab": {
      "name": "abc099_a.ipynb",
      "provenance": [],
      "authorship_tag": "ABX9TyMaA/obWJPd9n8bg34ABEwt"
    },
    "kernelspec": {
      "name": "python3",
      "display_name": "Python 3"
    },
    "language_info": {
      "name": "python"
    }
  },
  "cells": [
    {
      "cell_type": "code",
      "execution_count": 2,
      "metadata": {
        "colab": {
          "base_uri": "https://localhost:8080/"
        },
        "id": "i_R-tc0VdcAd",
        "outputId": "448c1564-32e9-4830-bca4-f91390051638"
      },
      "outputs": [
        {
          "output_type": "stream",
          "name": "stdout",
          "text": [
            "1000\n",
            "ABD\n"
          ]
        }
      ],
      "source": [
        "n = int(input())\n",
        "print([\"ABD\", \"ABC\"][n < 1000])"
      ]
    }
  ]
}