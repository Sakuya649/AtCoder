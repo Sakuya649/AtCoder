{
  "nbformat": 4,
  "nbformat_minor": 0,
  "metadata": {
    "colab": {
      "name": "abc074_b.ipynb",
      "provenance": [],
      "authorship_tag": "ABX9TyP9odsablQZ7i6CeG26pYhk"
    },
    "kernelspec": {
      "name": "python3",
      "display_name": "Python 3"
    },
    "language_info": {
      "name": "python"
    }
  },
  "cells": [
    {
      "cell_type": "code",
      "execution_count": 8,
      "metadata": {
        "colab": {
          "base_uri": "https://localhost:8080/"
        },
        "id": "3cRRGAnC7tDz",
        "outputId": "c08dc2ad-e693-4f6f-c93a-9a500bd4536f"
      },
      "outputs": [
        {
          "output_type": "stream",
          "name": "stdout",
          "text": [
            "5\n",
            "20\n",
            "11 12 9 17 12\n",
            "74\n"
          ]
        }
      ],
      "source": [
        "n = int(input())\n",
        "k = int(input())\n",
        "X = list(map(int, input().split()))\n",
        "ans = 0\n",
        "for x in X:\n",
        "  ans += min(x*2, abs(k-x)*2)\n",
        "print(ans)"
      ]
    }
  ]
}