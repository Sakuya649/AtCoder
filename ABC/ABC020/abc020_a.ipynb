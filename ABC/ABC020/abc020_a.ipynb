{
  "nbformat": 4,
  "nbformat_minor": 0,
  "metadata": {
    "colab": {
      "name": "abc020_a.ipynb",
      "provenance": [],
      "authorship_tag": "ABX9TyOjPHjhW3YT/m9rNiONW41z"
    },
    "kernelspec": {
      "name": "python3",
      "display_name": "Python 3"
    },
    "language_info": {
      "name": "python"
    }
  },
  "cells": [
    {
      "cell_type": "code",
      "execution_count": 1,
      "metadata": {
        "colab": {
          "base_uri": "https://localhost:8080/"
        },
        "id": "ycgDTFUMvVHQ",
        "outputId": "5d6a3a95-65d6-4166-a329-d0949b078fb3"
      },
      "outputs": [
        {
          "output_type": "stream",
          "name": "stdout",
          "text": [
            "2\n",
            "chokudai\n"
          ]
        }
      ],
      "source": [
        "q = int(input())\n",
        "if q == 1:\n",
        "  print(\"ABC\")\n",
        "else:\n",
        "  print(\"chokudai\")"
      ]
    }
  ]
}