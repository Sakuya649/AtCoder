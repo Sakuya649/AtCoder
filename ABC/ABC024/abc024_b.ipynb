{
  "nbformat": 4,
  "nbformat_minor": 0,
  "metadata": {
    "colab": {
      "name": "abc024_b.ipynb",
      "provenance": [],
      "authorship_tag": "ABX9TyP+v/4RVM2fGxz30qwxEojV"
    },
    "kernelspec": {
      "name": "python3",
      "display_name": "Python 3"
    },
    "language_info": {
      "name": "python"
    }
  },
  "cells": [
    {
      "cell_type": "code",
      "execution_count": 6,
      "metadata": {
        "id": "wQIWjVBpWxd7",
        "colab": {
          "base_uri": "https://localhost:8080/"
        },
        "outputId": "5cf1d0c2-ce71-46eb-f24c-af69dc19b19e"
      },
      "outputs": [
        {
          "output_type": "stream",
          "name": "stdout",
          "text": [
            "5 10\n",
            "20\n",
            "100\n",
            "105\n",
            "217\n",
            "314\n",
            "45\n"
          ]
        }
      ],
      "source": [
        "n, t = map(int, input().split())\n",
        "a = [int(input()) for _ in range(n)]\n",
        "ans = 0\n",
        "for i in range(1, len(a)):\n",
        "  ans += min(a[i]-a[i-1], t)\n",
        "print(ans+t)"
      ]
    }
  ]
}