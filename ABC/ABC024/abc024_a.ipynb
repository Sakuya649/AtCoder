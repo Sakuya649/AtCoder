{
  "nbformat": 4,
  "nbformat_minor": 0,
  "metadata": {
    "colab": {
      "name": "abc024_a.ipynb",
      "provenance": [],
      "authorship_tag": "ABX9TyONOxxouZIE0b3PfFy/brCE"
    },
    "kernelspec": {
      "name": "python3",
      "display_name": "Python 3"
    },
    "language_info": {
      "name": "python"
    }
  },
  "cells": [
    {
      "cell_type": "code",
      "execution_count": 5,
      "metadata": {
        "colab": {
          "base_uri": "https://localhost:8080/"
        },
        "id": "kqjqzOukSH3y",
        "outputId": "dfb59ba0-a9df-4682-e5cc-59c83ea0c0fd"
      },
      "outputs": [
        {
          "output_type": "stream",
          "name": "stdout",
          "text": [
            "400 1000 400 20\n",
            "10 10\n",
            "6000\n"
          ]
        }
      ],
      "source": [
        "a, b, c, k = map(int, input().split())\n",
        "s, t = map(int, input().split())\n",
        "if s+t >= k:\n",
        "  print(a*s + b*t - (s+t)*c)\n",
        "else:\n",
        "  print(a*s + b*t)"
      ]
    }
  ]
}