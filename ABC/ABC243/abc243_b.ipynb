{
  "nbformat": 4,
  "nbformat_minor": 0,
  "metadata": {
    "colab": {
      "name": "abc243_b.ipynb",
      "provenance": [],
      "authorship_tag": "ABX9TyOn3X4VPwtxc4BQa+pex3A4"
    },
    "kernelspec": {
      "name": "python3",
      "display_name": "Python 3"
    },
    "language_info": {
      "name": "python"
    }
  },
  "cells": [
    {
      "cell_type": "code",
      "execution_count": null,
      "metadata": {
        "id": "ZsJzJ4Gy931E",
        "colab": {
          "base_uri": "https://localhost:8080/"
        },
        "outputId": "742767b8-cebf-4ccc-e342-9c8e55a77921"
      },
      "outputs": [
        {
          "output_type": "stream",
          "name": "stdout",
          "text": [
            "7\n",
            "4 8 1 7 9 5 6\n",
            "3 5 1 7 8 2 6\n",
            "3\n",
            "2\n"
          ]
        }
      ],
      "source": [
        "n = int(input())\n",
        "A = list(map(int, input().split()))\n",
        "B = list(map(int, input().split()))\n",
        "hit = 0\n",
        "for i, j in zip(A, B):\n",
        "  if i == j:\n",
        "    hit += 1\n",
        "blow = len(set(A) & set(B)) - hit\n",
        "print(hit)\n",
        "print(blow)"
      ]
    }
  ]
}