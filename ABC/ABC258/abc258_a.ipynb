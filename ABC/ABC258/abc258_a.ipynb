{
  "nbformat": 4,
  "nbformat_minor": 0,
  "metadata": {
    "colab": {
      "name": "abc258_a.ipynb",
      "provenance": [],
      "authorship_tag": "ABX9TyMEdp14T7Si9qtNOMiqh8l9"
    },
    "kernelspec": {
      "name": "python3",
      "display_name": "Python 3"
    },
    "language_info": {
      "name": "python"
    }
  },
  "cells": [
    {
      "cell_type": "code",
      "execution_count": 4,
      "metadata": {
        "colab": {
          "base_uri": "https://localhost:8080/"
        },
        "id": "ueanPPSC3zKm",
        "outputId": "472dc3ef-e5fc-4b34-c2e3-14694cfc6d4d"
      },
      "outputs": [
        {
          "output_type": "stream",
          "name": "stdout",
          "text": [
            "100\n",
            "22:40\n"
          ]
        }
      ],
      "source": [
        "k = int(input())\n",
        "m = (k // 60) + 21\n",
        "s = k % 60\n",
        "print(str(m) + \":\" + str(s).zfill(2))"
      ]
    }
  ]
}