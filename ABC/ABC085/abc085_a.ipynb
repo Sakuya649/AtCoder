{
  "nbformat": 4,
  "nbformat_minor": 0,
  "metadata": {
    "colab": {
      "name": "abc085_a.ipynb",
      "provenance": [],
      "authorship_tag": "ABX9TyMZKiRsZAJuXR2LkENKwlWe"
    },
    "kernelspec": {
      "name": "python3",
      "display_name": "Python 3"
    },
    "language_info": {
      "name": "python"
    }
  },
  "cells": [
    {
      "cell_type": "code",
      "execution_count": 5,
      "metadata": {
        "colab": {
          "base_uri": "https://localhost:8080/"
        },
        "id": "3MHBjMGgRCQ4",
        "outputId": "586cf774-b36b-4046-ce72-ef048400ba70"
      },
      "outputs": [
        {
          "output_type": "stream",
          "name": "stdout",
          "text": [
            "2017/01/31\n",
            "2018/01/31\n"
          ]
        }
      ],
      "source": [
        "s = input()\n",
        "print(s[:3] + \"8\" + s[4:])"
      ]
    }
  ]
}