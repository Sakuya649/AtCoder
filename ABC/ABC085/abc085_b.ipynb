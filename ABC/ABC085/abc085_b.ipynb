{
  "nbformat": 4,
  "nbformat_minor": 0,
  "metadata": {
    "colab": {
      "name": "abc085_b.ipynb",
      "provenance": [],
      "authorship_tag": "ABX9TyOElnzLyNzxmpLeWmsCyF9P"
    },
    "kernelspec": {
      "name": "python3",
      "display_name": "Python 3"
    },
    "language_info": {
      "name": "python"
    }
  },
  "cells": [
    {
      "cell_type": "code",
      "execution_count": 5,
      "metadata": {
        "colab": {
          "base_uri": "https://localhost:8080/"
        },
        "id": "ldnhZKBSbiA8",
        "outputId": "65f92f4a-bfc6-4c08-e409-359dd493fb0c"
      },
      "outputs": [
        {
          "output_type": "stream",
          "name": "stdout",
          "text": [
            "7\n",
            "50\n",
            "30\n",
            "50\n",
            "100\n",
            "50\n",
            "80\n",
            "30\n",
            "4\n"
          ]
        }
      ],
      "source": [
        "n = int(input())\n",
        "D = [int(input()) for i in range(n)]\n",
        "print(len(set(D)))"
      ]
    }
  ]
}