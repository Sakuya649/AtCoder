{
  "nbformat": 4,
  "nbformat_minor": 0,
  "metadata": {
    "colab": {
      "name": "abc085_c.ipynb",
      "provenance": [],
      "authorship_tag": "ABX9TyMAEdCdOWCo8VJcoPUvsnoI"
    },
    "kernelspec": {
      "name": "python3",
      "display_name": "Python 3"
    },
    "language_info": {
      "name": "python"
    }
  },
  "cells": [
    {
      "cell_type": "code",
      "execution_count": 2,
      "metadata": {
        "colab": {
          "base_uri": "https://localhost:8080/"
        },
        "id": "eUrsUgSvdkgC",
        "outputId": "d11b437f-3cea-4cc0-a880-f5a09fe33925"
      },
      "outputs": [
        {
          "output_type": "stream",
          "name": "stdout",
          "text": [
            "20 196000\n",
            "-1 -1 -1\n"
          ]
        }
      ],
      "source": [
        "n, y = map(int, input().split())\n",
        "flag = False\n",
        "for i in range(n+1):\n",
        "  for j in range(n+1-i):\n",
        "    if 10000*i + 5000*j + 1000*(n-i-j) == y:\n",
        "      print(i, j, n-i-j)\n",
        "      exit()\n",
        "print(-1, -1, -1)"
      ]
    }
  ]
}