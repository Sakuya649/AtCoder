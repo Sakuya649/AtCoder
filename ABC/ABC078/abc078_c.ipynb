{
  "nbformat": 4,
  "nbformat_minor": 0,
  "metadata": {
    "colab": {
      "name": "abc078_c.ipynb",
      "provenance": [],
      "authorship_tag": "ABX9TyOWGy+i0acr3Ta2F31NAwr8"
    },
    "kernelspec": {
      "name": "python3",
      "display_name": "Python 3"
    },
    "language_info": {
      "name": "python"
    }
  },
  "cells": [
    {
      "cell_type": "code",
      "execution_count": 10,
      "metadata": {
        "colab": {
          "base_uri": "https://localhost:8080/"
        },
        "id": "v4X3A9rQuj8h",
        "outputId": "51f9f612-2ae9-4835-a51c-95dc627441ee"
      },
      "outputs": [
        {
          "output_type": "stream",
          "name": "stdout",
          "text": [
            "10 2\n",
            "18400\n"
          ]
        }
      ],
      "source": [
        "n, m = map(int, input().split())\n",
        "print((1900*m + 100*(n-m)) * 2**m)"
      ]
    }
  ]
}