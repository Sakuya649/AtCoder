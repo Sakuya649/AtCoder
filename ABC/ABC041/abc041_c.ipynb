{
  "nbformat": 4,
  "nbformat_minor": 0,
  "metadata": {
    "colab": {
      "name": "abc041_c.ipynb",
      "provenance": [],
      "authorship_tag": "ABX9TyPTRvDF2Z9TO8gkdO3tXRg0"
    },
    "kernelspec": {
      "name": "python3",
      "display_name": "Python 3"
    },
    "language_info": {
      "name": "python"
    }
  },
  "cells": [
    {
      "cell_type": "code",
      "execution_count": 15,
      "metadata": {
        "colab": {
          "base_uri": "https://localhost:8080/"
        },
        "id": "aSySGVCa5Dlz",
        "outputId": "2052d222-c387-4c09-db8c-23dfd22e3a5c"
      },
      "outputs": [
        {
          "output_type": "stream",
          "name": "stdout",
          "text": [
            "3\n",
            "140 180 160\n",
            "2\n",
            "3\n",
            "1\n"
          ]
        }
      ],
      "source": [
        "n = int(input())\n",
        "a = [(int(a), i) for i, a in enumerate(input().split(), 1)]\n",
        "for i in sorted(a, reverse=True):\n",
        "  print(i[1])"
      ]
    }
  ]
}