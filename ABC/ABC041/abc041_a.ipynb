{
  "nbformat": 4,
  "nbformat_minor": 0,
  "metadata": {
    "colab": {
      "name": "abc041_a.ipynb",
      "provenance": [],
      "mount_file_id": "12QT3pbiCmYrj-3Szfo9MVdFHdJvvf-U9",
      "authorship_tag": "ABX9TyM86YAigUvk0yKdff6a6lpN"
    },
    "kernelspec": {
      "name": "python3",
      "display_name": "Python 3"
    },
    "language_info": {
      "name": "python"
    }
  },
  "cells": [
    {
      "cell_type": "code",
      "execution_count": 1,
      "metadata": {
        "colab": {
          "base_uri": "https://localhost:8080/"
        },
        "id": "nM3khIPQCbo3",
        "outputId": "3c64f145-17d4-4590-e7e3-990cf6310459"
      },
      "outputs": [
        {
          "output_type": "stream",
          "name": "stdout",
          "text": [
            "atcoder\n",
            "3\n",
            "c\n"
          ]
        }
      ],
      "source": [
        "s = input()\n",
        "print(s[int(input())-1])"
      ]
    }
  ]
}