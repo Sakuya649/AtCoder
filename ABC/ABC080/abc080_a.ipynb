{
  "nbformat": 4,
  "nbformat_minor": 0,
  "metadata": {
    "colab": {
      "name": "abc080_a.ipynb",
      "provenance": [],
      "authorship_tag": "ABX9TyOkE3WQncSDe3iZ+o5rMCbR"
    },
    "kernelspec": {
      "name": "python3",
      "display_name": "Python 3"
    },
    "language_info": {
      "name": "python"
    }
  },
  "cells": [
    {
      "cell_type": "code",
      "execution_count": 3,
      "metadata": {
        "colab": {
          "base_uri": "https://localhost:8080/"
        },
        "id": "n15UfLY7Q49B",
        "outputId": "b40b259a-2cab-43e6-f7a3-2d3f7d798d56"
      },
      "outputs": [
        {
          "output_type": "stream",
          "name": "stdout",
          "text": [
            "6 18 100\n",
            "100\n"
          ]
        }
      ],
      "source": [
        "n, a, b = map(int, input().split())\n",
        "print(min(n*a, b))"
      ]
    }
  ]
}