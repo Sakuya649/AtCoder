{
  "nbformat": 4,
  "nbformat_minor": 0,
  "metadata": {
    "colab": {
      "name": "abc050_a.ipynb",
      "provenance": [],
      "authorship_tag": "ABX9TyNFQjSG24m3k9expuHkLXhi"
    },
    "kernelspec": {
      "name": "python3",
      "display_name": "Python 3"
    },
    "language_info": {
      "name": "python"
    }
  },
  "cells": [
    {
      "cell_type": "code",
      "execution_count": 2,
      "metadata": {
        "colab": {
          "base_uri": "https://localhost:8080/"
        },
        "id": "cOWqFrYdYE4H",
        "outputId": "d71bd1a0-2bea-4296-8247-c6ad1f89d7af"
      },
      "outputs": [
        {
          "output_type": "stream",
          "name": "stdout",
          "text": [
            "5 - 7\n",
            "-2\n"
          ]
        }
      ],
      "source": [
        "print(eval(input()))"
      ]
    }
  ]
}