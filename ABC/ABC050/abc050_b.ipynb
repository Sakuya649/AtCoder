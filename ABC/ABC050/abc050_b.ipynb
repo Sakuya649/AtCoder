{
  "nbformat": 4,
  "nbformat_minor": 0,
  "metadata": {
    "colab": {
      "name": "abc050_b.ipynb",
      "provenance": [],
      "authorship_tag": "ABX9TyPnbXsXCHegEMNAq8KIlGuH"
    },
    "kernelspec": {
      "name": "python3",
      "display_name": "Python 3"
    },
    "language_info": {
      "name": "python"
    }
  },
  "cells": [
    {
      "cell_type": "code",
      "execution_count": 7,
      "metadata": {
        "colab": {
          "base_uri": "https://localhost:8080/"
        },
        "id": "Mpito9uoY55X",
        "outputId": "eb648ebe-8519-4fad-b656-7cd3223de407"
      },
      "outputs": [
        {
          "output_type": "stream",
          "name": "stdout",
          "text": [
            "5\n",
            "7 2 3 8 5\n",
            "3\n",
            "4 2\n",
            "19\n",
            "1 7\n",
            "25\n",
            "4 13\n",
            "30\n"
          ]
        }
      ],
      "source": [
        "n = input()\n",
        "t_list = list(map(int, input().split()))\n",
        "for i in range(int(input())):\n",
        "  temp = t_list.copy()\n",
        "  p, x = map(int, input().split())\n",
        "  temp[p-1] = x\n",
        "  print(sum(temp))"
      ]
    }
  ]
}