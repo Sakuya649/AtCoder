{
  "nbformat": 4,
  "nbformat_minor": 0,
  "metadata": {
    "colab": {
      "name": "abc066_a.ipynb",
      "provenance": [],
      "authorship_tag": "ABX9TyODUca/a859Jm21GbNXh2Tx"
    },
    "kernelspec": {
      "name": "python3",
      "display_name": "Python 3"
    },
    "language_info": {
      "name": "python"
    }
  },
  "cells": [
    {
      "cell_type": "code",
      "execution_count": 2,
      "metadata": {
        "colab": {
          "base_uri": "https://localhost:8080/"
        },
        "id": "Yf9A_9OeGUTh",
        "outputId": "497c51ff-264f-4d96-b6c8-9f4d06eb1b26"
      },
      "outputs": [
        {
          "output_type": "stream",
          "name": "stdout",
          "text": [
            "10000 10000 10000\n",
            "20000\n"
          ]
        }
      ],
      "source": [
        "a, b, c = map(int, input().split())\n",
        "print(min(a+b, b+c, a+c))"
      ]
    }
  ]
}