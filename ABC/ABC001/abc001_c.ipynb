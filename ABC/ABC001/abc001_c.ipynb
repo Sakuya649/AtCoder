{
  "nbformat": 4,
  "nbformat_minor": 0,
  "metadata": {
    "colab": {
      "name": "abc001_c.ipynb",
      "provenance": [],
      "authorship_tag": "ABX9TyPNSoLEDIN6xciLQa7ukytb"
    },
    "kernelspec": {
      "name": "python3",
      "display_name": "Python 3"
    },
    "language_info": {
      "name": "python"
    }
  },
  "cells": [
    {
      "cell_type": "code",
      "execution_count": 2,
      "metadata": {
        "colab": {
          "base_uri": "https://localhost:8080/"
        },
        "id": "nME7Q_J_0df7",
        "outputId": "b0eab2fb-dbe9-4206-e54c-f74a94838901"
      },
      "outputs": [
        {
          "output_type": "stream",
          "name": "stdout",
          "text": [
            "2750 628\n",
            "W 5\n"
          ]
        }
      ],
      "source": [
        "deg, dis = map(int,input().split())\n",
        "dir = [\"N\", \"NNE\", \"NE\", \"ENE\", \"E\", \"ESE\", \"SE\", \"SSE\", \"S\", \"SSW\", \"SW\", \"WSW\", \"W\", \"WNW\", \"NW\", \"NNW\", \"N\"]\n",
        "wind = [25, 155, 335, 545, 795, 1075, 1385, 1715, 2075, 2445, 2845, 3265, 99999]\n",
        "i, j = 0, 0\n",
        "while dis * 10 >= wind[j]*6:\n",
        "    j += 1\n",
        "if j == 0:\n",
        "    print('C', j)\n",
        "else:\n",
        "    while deg * 10 >= 1125 + 2250 * i:\n",
        "        i += 1\n",
        "    print(dir[i], j)"
      ]
    }
  ]
}