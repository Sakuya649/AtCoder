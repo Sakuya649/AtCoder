{
  "nbformat": 4,
  "nbformat_minor": 0,
  "metadata": {
    "colab": {
      "name": "abc062_b.ipynb",
      "provenance": [],
      "authorship_tag": "ABX9TyMwhoErzaMlmnuPfFwfrtTm"
    },
    "kernelspec": {
      "name": "python3",
      "display_name": "Python 3"
    },
    "language_info": {
      "name": "python"
    }
  },
  "cells": [
    {
      "cell_type": "code",
      "execution_count": 9,
      "metadata": {
        "colab": {
          "base_uri": "https://localhost:8080/"
        },
        "id": "1I40J1UGIsoR",
        "outputId": "eb85942e-f0b6-492d-c95d-439d99628d58"
      },
      "outputs": [
        {
          "output_type": "stream",
          "name": "stdout",
          "text": [
            "1 1\n",
            "2\n",
            "###\n",
            "#2#\n",
            "###\n"
          ]
        }
      ],
      "source": [
        "h, w = map(int, input().split())\n",
        "a = [input() for _ in range(h)]\n",
        "for i in range(h+2):\n",
        "  if i == 0 or i == h+1:\n",
        "    print(\"#\"*(w+2))\n",
        "  else:\n",
        "    print(\"#\" + a[i-1] + \"#\")"
      ]
    }
  ]
}