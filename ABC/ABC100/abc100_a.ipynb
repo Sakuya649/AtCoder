{
  "nbformat": 4,
  "nbformat_minor": 0,
  "metadata": {
    "colab": {
      "name": "abc100_a.ipynb",
      "provenance": [],
      "authorship_tag": "ABX9TyNFiDWulic+LW8qYj9if4xJ"
    },
    "kernelspec": {
      "name": "python3",
      "display_name": "Python 3"
    },
    "language_info": {
      "name": "python"
    }
  },
  "cells": [
    {
      "cell_type": "code",
      "execution_count": 4,
      "metadata": {
        "colab": {
          "base_uri": "https://localhost:8080/"
        },
        "id": "CwhYOx2dyXMt",
        "outputId": "95b1ba98-be16-4dec-eb04-ddf6bb2a3a3e"
      },
      "outputs": [
        {
          "output_type": "stream",
          "name": "stdout",
          "text": [
            "11 4\n",
            ":( \n"
          ]
        }
      ],
      "source": [
        "a, b = sorted(map(int, input().split()))\n",
        "print([\":( \", \"Yay!\"][b < 9])"
      ]
    }
  ]
}