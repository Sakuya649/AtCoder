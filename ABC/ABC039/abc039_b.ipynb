{
  "nbformat": 4,
  "nbformat_minor": 0,
  "metadata": {
    "colab": {
      "name": "abc039_b.ipynb",
      "provenance": [],
      "authorship_tag": "ABX9TyMQXNYgtS/OxGaWKYvjf9ja"
    },
    "kernelspec": {
      "name": "python3",
      "display_name": "Python 3"
    },
    "language_info": {
      "name": "python"
    }
  },
  "cells": [
    {
      "cell_type": "code",
      "execution_count": 5,
      "metadata": {
        "colab": {
          "base_uri": "https://localhost:8080/"
        },
        "id": "aLkysNWk4EAD",
        "outputId": "62971fa2-6f01-4a7a-c3c8-f87399367d8d"
      },
      "outputs": [
        {
          "output_type": "stream",
          "name": "stdout",
          "text": [
            "390625\n",
            "25\n"
          ]
        }
      ],
      "source": [
        "x = int(input())\n",
        "print(int(x ** (1/4)))"
      ]
    }
  ]
}