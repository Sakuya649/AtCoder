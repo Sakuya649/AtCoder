{
  "nbformat": 4,
  "nbformat_minor": 0,
  "metadata": {
    "colab": {
      "name": "abc039_c.ipynb",
      "provenance": [],
      "authorship_tag": "ABX9TyN6TQ9MDU2ARVD79fO/aDp2"
    },
    "kernelspec": {
      "name": "python3",
      "display_name": "Python 3"
    },
    "language_info": {
      "name": "python"
    }
  },
  "cells": [
    {
      "cell_type": "code",
      "execution_count": 16,
      "metadata": {
        "colab": {
          "base_uri": "https://localhost:8080/"
        },
        "id": "2YRLBWtX5FD_",
        "outputId": "157e68c2-4d75-41ca-a2f1-f4ccf44bd623"
      },
      "outputs": [
        {
          "output_type": "stream",
          "name": "stdout",
          "text": [
            "WBWBWWBWBWBWWBWBWWBW\n",
            "Do\n"
          ]
        }
      ],
      "source": [
        "kb_dict = {5:\"Do\", 3:\"Re\", 1:\"Mi\", 0:\"Fa\", 6:\"Si\", 8:\"La\", 10:\"So\"}\n",
        "print(kb_dict[input().find(\"WBWBWBW\")])"
      ]
    }
  ]
}