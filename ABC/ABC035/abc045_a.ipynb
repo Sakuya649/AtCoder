{
  "nbformat": 4,
  "nbformat_minor": 0,
  "metadata": {
    "colab": {
      "name": "abc045_a.ipynb",
      "provenance": [],
      "authorship_tag": "ABX9TyPegPecdFW6rZxmTtnJLXrq"
    },
    "kernelspec": {
      "name": "python3",
      "display_name": "Python 3"
    },
    "language_info": {
      "name": "python"
    }
  },
  "cells": [
    {
      "cell_type": "code",
      "execution_count": 2,
      "metadata": {
        "colab": {
          "base_uri": "https://localhost:8080/"
        },
        "id": "y38bS7LLK56R",
        "outputId": "4533d9e2-cdb0-494d-a512-1835f4733f1e"
      },
      "outputs": [
        {
          "output_type": "stream",
          "name": "stdout",
          "text": [
            "4\n",
            "4\n",
            "4\n",
            "16\n"
          ]
        }
      ],
      "source": [
        "a = int(input())\n",
        "b = int(input())\n",
        "h = int(input())\n",
        "print(int((a+b)*h/2))"
      ]
    }
  ]
}