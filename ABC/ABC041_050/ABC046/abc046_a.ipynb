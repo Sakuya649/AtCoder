{
  "nbformat": 4,
  "nbformat_minor": 0,
  "metadata": {
    "colab": {
      "name": "abc046_a.ipynb",
      "provenance": [],
      "authorship_tag": "ABX9TyM0+GoWf0vBLJtd5YYBwI2+"
    },
    "kernelspec": {
      "name": "python3",
      "display_name": "Python 3"
    },
    "language_info": {
      "name": "python"
    }
  },
  "cells": [
    {
      "cell_type": "code",
      "execution_count": 2,
      "metadata": {
        "colab": {
          "base_uri": "https://localhost:8080/"
        },
        "id": "uBQGKG1dyE8f",
        "outputId": "b676e616-664e-49c8-c361-840d4142b14b"
      },
      "outputs": [
        {
          "output_type": "stream",
          "name": "stdout",
          "text": [
            "3 3 33\n",
            "2\n"
          ]
        }
      ],
      "source": [
        "x = set(map(int, input().split()))\n",
        "print(len(x))"
      ]
    }
  ]
}