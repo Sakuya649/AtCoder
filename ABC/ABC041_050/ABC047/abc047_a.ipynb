{
  "nbformat": 4,
  "nbformat_minor": 0,
  "metadata": {
    "colab": {
      "name": "abc047_a.ipynb",
      "provenance": [],
      "authorship_tag": "ABX9TyNJI3vzs2gRkH8b6MtzOc0k"
    },
    "kernelspec": {
      "name": "python3",
      "display_name": "Python 3"
    },
    "language_info": {
      "name": "python"
    }
  },
  "cells": [
    {
      "cell_type": "code",
      "execution_count": 2,
      "metadata": {
        "colab": {
          "base_uri": "https://localhost:8080/"
        },
        "id": "SuXSPfbsQPjn",
        "outputId": "7b1436a0-e487-430e-8071-b8cb7ca361ed"
      },
      "outputs": [
        {
          "output_type": "stream",
          "name": "stdout",
          "text": [
            "30 30 100\n",
            "No\n"
          ]
        }
      ],
      "source": [
        "a, b, c = map(int, input().split())\n",
        "if a == b+c or b == a+c or c == a+b:\n",
        "  print(\"Yes\")\n",
        "else:\n",
        "  print(\"No\")"
      ]
    }
  ]
}