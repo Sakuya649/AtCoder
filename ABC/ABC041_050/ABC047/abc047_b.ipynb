{
  "nbformat": 4,
  "nbformat_minor": 0,
  "metadata": {
    "colab": {
      "name": "abc047_b.ipynb",
      "provenance": [],
      "authorship_tag": "ABX9TyPeOnOaihU9UlGV1NjyjfCI"
    },
    "kernelspec": {
      "name": "python3",
      "display_name": "Python 3"
    },
    "language_info": {
      "name": "python"
    }
  },
  "cells": [
    {
      "cell_type": "code",
      "execution_count": 6,
      "metadata": {
        "colab": {
          "base_uri": "https://localhost:8080/"
        },
        "id": "sY6EqqF7Ta7C",
        "outputId": "7aaa5144-f64b-4eb1-ef66-d1ca703b07cf"
      },
      "outputs": [
        {
          "output_type": "stream",
          "name": "stdout",
          "text": [
            "5 4 2\n",
            "2 1 1\n",
            "3 3 4\n",
            "9\n"
          ]
        }
      ],
      "source": [
        "w, h, n = map(int, input().split())\n",
        "x0, y0 = 0, 0\n",
        "for i in range(n):\n",
        "  x, y, a = map(int, input().split())\n",
        "  if a == 1:\n",
        "    x0 = max(x0, x)\n",
        "  elif a == 2:\n",
        "    w = min(w, x)\n",
        "  elif a == 3:\n",
        "    y0 = max(y0, y)\n",
        "  else:\n",
        "    h = min(h, y)\n",
        "print(max(w-x0, 0) * max(h-y0, 0))"
      ]
    }
  ]
}