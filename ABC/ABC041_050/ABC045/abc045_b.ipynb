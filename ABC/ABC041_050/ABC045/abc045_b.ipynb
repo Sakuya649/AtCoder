{
  "nbformat": 4,
  "nbformat_minor": 0,
  "metadata": {
    "colab": {
      "name": "abc045_b.ipynb",
      "provenance": [],
      "authorship_tag": "ABX9TyPVMirkBgVatyspkbIGGuFQ"
    },
    "kernelspec": {
      "name": "python3",
      "display_name": "Python 3"
    },
    "language_info": {
      "name": "python"
    }
  },
  "cells": [
    {
      "cell_type": "code",
      "execution_count": 16,
      "metadata": {
        "colab": {
          "base_uri": "https://localhost:8080/"
        },
        "id": "E2nCWMV0MSo-",
        "outputId": "f2e20c30-d962-421c-ba6a-a0906081809e"
      },
      "outputs": [
        {
          "output_type": "stream",
          "name": "stdout",
          "text": [
            "aca\n",
            "acca\n",
            "ca\n",
            "A\n"
          ]
        }
      ],
      "source": [
        "#他回答を参考．dictの中にリストを入れる\n",
        "d = {c:[*input()] for c in \"abc\"}\n",
        "i = \"a\"\n",
        "while d[i]:\n",
        "  i = d[i].pop(0)\n",
        "print(i.upper())"
      ]
    }
  ]
}