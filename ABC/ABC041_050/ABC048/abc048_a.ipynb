{
  "nbformat": 4,
  "nbformat_minor": 0,
  "metadata": {
    "colab": {
      "name": "abc048_a.ipynb",
      "provenance": [],
      "authorship_tag": "ABX9TyP8BxMHIEZVSqxad8En19Rb"
    },
    "kernelspec": {
      "name": "python3",
      "display_name": "Python 3"
    },
    "language_info": {
      "name": "python"
    }
  },
  "cells": [
    {
      "cell_type": "code",
      "execution_count": 4,
      "metadata": {
        "colab": {
          "base_uri": "https://localhost:8080/"
        },
        "id": "zI8N3Q4x6rgP",
        "outputId": "682bb5c7-48a6-44a8-f857-939651c0a9e7"
      },
      "outputs": [
        {
          "output_type": "stream",
          "name": "stdout",
          "text": [
            "AtCoder Beginner Contest\n",
            "ABC\n"
          ]
        }
      ],
      "source": [
        "a, b, c = input().split()\n",
        "print(a[0], b[0], c[0], sep=\"\")"
      ]
    }
  ]
}