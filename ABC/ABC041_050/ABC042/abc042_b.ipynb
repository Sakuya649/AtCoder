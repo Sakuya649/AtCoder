{
  "nbformat": 4,
  "nbformat_minor": 0,
  "metadata": {
    "colab": {
      "name": "abc042_b.ipynb",
      "provenance": [],
      "authorship_tag": "ABX9TyNgbJk8DPE+rnfvKdZ5EDNd"
    },
    "kernelspec": {
      "name": "python3",
      "display_name": "Python 3"
    },
    "language_info": {
      "name": "python"
    }
  },
  "cells": [
    {
      "cell_type": "code",
      "execution_count": 2,
      "metadata": {
        "colab": {
          "base_uri": "https://localhost:8080/"
        },
        "id": "c9oSy3TECpS3",
        "outputId": "959c6036-79b8-4051-ac7b-d88f111bda5c"
      },
      "outputs": [
        {
          "output_type": "stream",
          "name": "stdout",
          "text": [
            "3 3\n",
            "dxx\n",
            "axx\n",
            "cxx\n",
            "axxcxxdxx\n"
          ]
        }
      ],
      "source": [
        "n, l = map(int, input().split())\n",
        "s = sorted([input() for i in range(n)])\n",
        "print(*s, sep=\"\")"
      ]
    }
  ]
}