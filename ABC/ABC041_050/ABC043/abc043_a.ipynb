{
  "nbformat": 4,
  "nbformat_minor": 0,
  "metadata": {
    "colab": {
      "name": "abc043_a.ipynb",
      "provenance": [],
      "authorship_tag": "ABX9TyPdUi1R4bxEZGKlaQJM3jUT"
    },
    "kernelspec": {
      "name": "python3",
      "display_name": "Python 3"
    },
    "language_info": {
      "name": "python"
    }
  },
  "cells": [
    {
      "cell_type": "code",
      "execution_count": 2,
      "metadata": {
        "colab": {
          "base_uri": "https://localhost:8080/"
        },
        "id": "XmbGqxM22L2X",
        "outputId": "3d96daf6-7252-4bbd-fbcf-a4fdf0878e28"
      },
      "outputs": [
        {
          "output_type": "stream",
          "name": "stdout",
          "text": [
            "10\n",
            "55\n"
          ]
        }
      ],
      "source": [
        "n = int(input())\n",
        "print(int(n*(n+1) / 2))"
      ]
    }
  ]
}