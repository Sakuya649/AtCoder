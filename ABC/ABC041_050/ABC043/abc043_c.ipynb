{
  "nbformat": 4,
  "nbformat_minor": 0,
  "metadata": {
    "colab": {
      "name": "abc043_c.ipynb",
      "provenance": [],
      "authorship_tag": "ABX9TyMSUehosoFn9fYzo5mUOIHF"
    },
    "kernelspec": {
      "name": "python3",
      "display_name": "Python 3"
    },
    "language_info": {
      "name": "python"
    }
  },
  "cells": [
    {
      "cell_type": "code",
      "execution_count": 3,
      "metadata": {
        "colab": {
          "base_uri": "https://localhost:8080/"
        },
        "id": "fsolyG5fD3pv",
        "outputId": "76490b7b-87b2-47f9-85a6-801ac667be49"
      },
      "outputs": [
        {
          "output_type": "stream",
          "name": "stdout",
          "text": [
            "3\n",
            "4 2 5\n",
            "5\n"
          ]
        }
      ],
      "source": [
        "n = int(input())\n",
        "a = list(map(int, input().split()))\n",
        "x = round(sum(a)/n)\n",
        "print(sum((x-i) ** 2 for i in a))"
      ]
    }
  ]
}