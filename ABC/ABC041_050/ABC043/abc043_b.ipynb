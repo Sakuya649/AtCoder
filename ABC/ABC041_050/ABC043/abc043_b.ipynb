{
  "nbformat": 4,
  "nbformat_minor": 0,
  "metadata": {
    "colab": {
      "name": "abc043_b.ipynb",
      "provenance": [],
      "authorship_tag": "ABX9TyPDZ7wK7zrGRnKlaPreTWVK"
    },
    "kernelspec": {
      "name": "python3",
      "display_name": "Python 3"
    },
    "language_info": {
      "name": "python"
    }
  },
  "cells": [
    {
      "cell_type": "code",
      "execution_count": 4,
      "metadata": {
        "colab": {
          "base_uri": "https://localhost:8080/"
        },
        "id": "nY52FkpW26JA",
        "outputId": "a24ef714-95e5-4244-86a5-7cf8c778eb59"
      },
      "outputs": [
        {
          "output_type": "stream",
          "name": "stdout",
          "text": [
            "0BB1\n",
            "1\n"
          ]
        }
      ],
      "source": [
        "s_in = input()\n",
        "ans = \"\"\n",
        "for s in s_in:\n",
        "  if s == \"B\": ans = ans[:-1]\n",
        "  else: ans += s\n",
        "print(ans)"
      ]
    }
  ]
}