{
  "nbformat": 4,
  "nbformat_minor": 0,
  "metadata": {
    "colab": {
      "name": "abc041_b.ipynb",
      "provenance": [],
      "authorship_tag": "ABX9TyN8CBq35C0p3M8S6ab+nK64"
    },
    "kernelspec": {
      "name": "python3",
      "display_name": "Python 3"
    },
    "language_info": {
      "name": "python"
    }
  },
  "cells": [
    {
      "cell_type": "code",
      "execution_count": 1,
      "metadata": {
        "colab": {
          "base_uri": "https://localhost:8080/"
        },
        "id": "qcTL4APSjZoF",
        "outputId": "fcdec10b-bf51-45af-a34f-7fb99a407450"
      },
      "outputs": [
        {
          "output_type": "stream",
          "name": "stdout",
          "text": [
            "100000 1 100000\n",
            "999999937\n"
          ]
        }
      ],
      "source": [
        "x = 10 ** 9 + 7\n",
        "a, b, c = map(int, input().split())\n",
        "print(a*b*c % x)"
      ]
    }
  ]
}