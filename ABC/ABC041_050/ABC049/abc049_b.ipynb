{
  "nbformat": 4,
  "nbformat_minor": 0,
  "metadata": {
    "colab": {
      "name": "abc049_b.ipynb",
      "provenance": [],
      "authorship_tag": "ABX9TyMthqRnIzTx6c0HdEF78nMC"
    },
    "kernelspec": {
      "name": "python3",
      "display_name": "Python 3"
    },
    "language_info": {
      "name": "python"
    }
  },
  "cells": [
    {
      "cell_type": "code",
      "execution_count": 6,
      "metadata": {
        "colab": {
          "base_uri": "https://localhost:8080/"
        },
        "id": "-955eQifYTbG",
        "outputId": "dc614d23-73ba-4f31-eca5-298288dc445f"
      },
      "outputs": [
        {
          "output_type": "stream",
          "name": "stdout",
          "text": [
            "2 2\n",
            "aa\n",
            "vv\n",
            "aa\n",
            "aa\n",
            "vv\n",
            "vv\n",
            "\n"
          ]
        }
      ],
      "source": [
        "h, w = map(int, input().split())\n",
        "ans = \"\"\n",
        "for i in range(h):\n",
        " c = input()\n",
        " ans += (c + \"\\n\") * 2\n",
        "print(ans)"
      ]
    },
    {
      "cell_type": "code",
      "source": [
        ""
      ],
      "metadata": {
        "id": "BTua-lTTaQQC"
      },
      "execution_count": null,
      "outputs": []
    }
  ]
}