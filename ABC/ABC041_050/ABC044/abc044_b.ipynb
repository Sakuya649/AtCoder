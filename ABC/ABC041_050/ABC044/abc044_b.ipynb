{
  "nbformat": 4,
  "nbformat_minor": 0,
  "metadata": {
    "colab": {
      "name": "abc044_b.ipynb",
      "provenance": [],
      "collapsed_sections": [],
      "authorship_tag": "ABX9TyPIQ/bKsfODCe3hINogSMeV"
    },
    "kernelspec": {
      "name": "python3",
      "display_name": "Python 3"
    },
    "language_info": {
      "name": "python"
    }
  },
  "cells": [
    {
      "cell_type": "code",
      "execution_count": 14,
      "metadata": {
        "colab": {
          "base_uri": "https://localhost:8080/"
        },
        "id": "z6o4TntxOOh0",
        "outputId": "1c0cf04a-c746-474f-e27d-5438bbfbb983"
      },
      "outputs": [
        {
          "output_type": "stream",
          "name": "stdout",
          "text": [
            "hthth\n",
            "No\n"
          ]
        }
      ],
      "source": [
        "w = input()\n",
        "if all(w.count(s) % 2 == 0 for s in set(w)): print(\"Yes\")\n",
        "else: print(\"No\")"
      ]
    }
  ]
}