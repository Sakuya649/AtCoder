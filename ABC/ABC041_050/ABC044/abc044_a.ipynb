{
  "nbformat": 4,
  "nbformat_minor": 0,
  "metadata": {
    "colab": {
      "name": "abc044_a.ipynb",
      "provenance": [],
      "authorship_tag": "ABX9TyP8hXhxqqBqHXWX/pLU9cXw"
    },
    "kernelspec": {
      "name": "python3",
      "display_name": "Python 3"
    },
    "language_info": {
      "name": "python"
    }
  },
  "cells": [
    {
      "cell_type": "code",
      "execution_count": 1,
      "metadata": {
        "colab": {
          "base_uri": "https://localhost:8080/"
        },
        "id": "X-9Pu5RuMpzA",
        "outputId": "47b53931-1998-4950-b1a5-38bcbbbf9586"
      },
      "outputs": [
        {
          "output_type": "stream",
          "name": "stdout",
          "text": [
            "5\n",
            "3\n",
            "10000\n",
            "9000\n",
            "48000\n"
          ]
        }
      ],
      "source": [
        "n = int(input())\n",
        "k = int(input())\n",
        "x = int(input())\n",
        "y = int(input())\n",
        "print([k*x + (n-k)*y, n*x][n <= k])"
      ]
    }
  ]
}