{
  "nbformat": 4,
  "nbformat_minor": 0,
  "metadata": {
    "colab": {
      "name": "abc081_b.ipynb",
      "provenance": [],
      "authorship_tag": "ABX9TyO5wq/OvVtoGYQZSMuNlLqK"
    },
    "kernelspec": {
      "name": "python3",
      "display_name": "Python 3"
    },
    "language_info": {
      "name": "python"
    }
  },
  "cells": [
    {
      "cell_type": "code",
      "execution_count": 9,
      "metadata": {
        "colab": {
          "base_uri": "https://localhost:8080/"
        },
        "id": "N9VUsPY7VZQn",
        "outputId": "7db59a06-32bb-4b44-bed3-adb88c1a1a15"
      },
      "outputs": [
        {
          "output_type": "stream",
          "name": "stdout",
          "text": [
            "6\n",
            "382253568 723152896 37802240 379425024 404894720 471526144\n",
            "8\n"
          ]
        }
      ],
      "source": [
        "n =int(input())\n",
        "A = list(map(int, input().split()))\n",
        "ans = 0\n",
        "while all([a%2==0 for a in A]):\n",
        "  A = [a//2 for a in A]\n",
        "  ans += 1\n",
        "print(ans)"
      ]
    }
  ]
}