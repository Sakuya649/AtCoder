{
  "nbformat": 4,
  "nbformat_minor": 0,
  "metadata": {
    "colab": {
      "name": "abc081_a.ipynb",
      "provenance": [],
      "authorship_tag": "ABX9TyOLbwbylt+x+ilJH8c793OR"
    },
    "kernelspec": {
      "name": "python3",
      "display_name": "Python 3"
    },
    "language_info": {
      "name": "python"
    }
  },
  "cells": [
    {
      "cell_type": "code",
      "execution_count": 2,
      "metadata": {
        "colab": {
          "base_uri": "https://localhost:8080/"
        },
        "id": "Hj2x4NvxFF-f",
        "outputId": "afeea4a0-79d3-4ef5-8a27-7aeb29bff635"
      },
      "outputs": [
        {
          "output_type": "stream",
          "name": "stdout",
          "text": [
            "000\n",
            "0\n"
          ]
        }
      ],
      "source": [
        "s = input()\n",
        "print(s.count(\"1\"))"
      ]
    }
  ]
}