{
  "nbformat": 4,
  "nbformat_minor": 0,
  "metadata": {
    "colab": {
      "name": "abc081_c.ipynb",
      "provenance": [],
      "authorship_tag": "ABX9TyOheWqLDhq439+StCgdA1XV"
    },
    "kernelspec": {
      "name": "python3",
      "display_name": "Python 3"
    },
    "language_info": {
      "name": "python"
    }
  },
  "cells": [
    {
      "cell_type": "code",
      "execution_count": 12,
      "metadata": {
        "colab": {
          "base_uri": "https://localhost:8080/"
        },
        "id": "YS9ZHFzMtD09",
        "outputId": "59d1cf6d-43a5-49b6-dd9d-e3fc1b5b445b"
      },
      "outputs": [
        {
          "output_type": "stream",
          "name": "stdout",
          "text": [
            "10 3\n",
            "5 1 3 2 4 1 1 2 3 4\n",
            "3\n"
          ]
        }
      ],
      "source": [
        "from collections import Counter\n",
        "n, k = map(int, input().split())\n",
        "print(sum(sorted(Counter(map(int,input().split())).values())[:-k]))"
      ]
    }
  ]
}