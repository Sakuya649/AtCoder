{
  "nbformat": 4,
  "nbformat_minor": 0,
  "metadata": {
    "colab": {
      "name": "abc049_a.ipynb",
      "provenance": [],
      "authorship_tag": "ABX9TyP4JjMdX52AQnSTM6qt4USo"
    },
    "kernelspec": {
      "name": "python3",
      "display_name": "Python 3"
    },
    "language_info": {
      "name": "python"
    }
  },
  "cells": [
    {
      "cell_type": "code",
      "execution_count": 2,
      "metadata": {
        "colab": {
          "base_uri": "https://localhost:8080/"
        },
        "id": "BoK-XRVLW8b6",
        "outputId": "20f64090-abda-4dbc-9396-16c9bcf8bbe6"
      },
      "outputs": [
        {
          "output_type": "stream",
          "name": "stdout",
          "text": [
            "z\n",
            "consonant\n"
          ]
        }
      ],
      "source": [
        "s = input()\n",
        "print([\"consonant\", \"vowel\"][s in \"aiueo\"])"
      ]
    }
  ]
}