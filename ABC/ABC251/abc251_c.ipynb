{
  "nbformat": 4,
  "nbformat_minor": 0,
  "metadata": {
    "colab": {
      "name": "abc251_c.ipynb",
      "provenance": [],
      "authorship_tag": "ABX9TyOj8/Fvuhju1uUKpBTWfSYW"
    },
    "kernelspec": {
      "name": "python3",
      "display_name": "Python 3"
    },
    "language_info": {
      "name": "python"
    }
  },
  "cells": [
    {
      "cell_type": "code",
      "execution_count": 20,
      "metadata": {
        "colab": {
          "base_uri": "https://localhost:8080/"
        },
        "id": "5UCddECOc7zy",
        "outputId": "1082ad7b-eff1-4c3d-d0f5-a1aa0c86fc89"
      },
      "outputs": [
        {
          "output_type": "stream",
          "name": "stdout",
          "text": [
            "10\n",
            "bb 3\n",
            "ba 1\n",
            "aa 4\n",
            "bb 1\n",
            "ba 5\n",
            "aa 9\n",
            "aa 2\n",
            "ab 6\n",
            "bb 5\n",
            "ab 3\n",
            "8\n"
          ]
        }
      ],
      "source": [
        "n = int(input())\n",
        "poem = {}\n",
        "P = []\n",
        "for i in range(n):\n",
        "  s, t = input().split()\n",
        "  P.append(s)\n",
        "  if s not in poem:\n",
        "    poem[s] = int(t)\n",
        "max_score = 0\n",
        "max_poem = \"\"\n",
        "for k, v in poem.items():\n",
        "  if max_score < v:\n",
        "    max_poem = k\n",
        "    max_score = v\n",
        "print(P.index(max_poem) + 1)"
      ]
    }
  ]
}