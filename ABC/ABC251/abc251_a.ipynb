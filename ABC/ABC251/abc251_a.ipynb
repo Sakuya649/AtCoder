{
  "nbformat": 4,
  "nbformat_minor": 0,
  "metadata": {
    "colab": {
      "name": "abc251_a.ipynb",
      "provenance": [],
      "authorship_tag": "ABX9TyNzDRbhQXh1YPI0G9g/jNeK"
    },
    "kernelspec": {
      "name": "python3",
      "display_name": "Python 3"
    },
    "language_info": {
      "name": "python"
    }
  },
  "cells": [
    {
      "cell_type": "code",
      "execution_count": null,
      "metadata": {
        "colab": {
          "base_uri": "https://localhost:8080/"
        },
        "id": "o0bETFVgcOjb",
        "outputId": "03bc54c6-dce7-43ed-dacc-0a655db8f22f"
      },
      "outputs": [
        {
          "output_type": "stream",
          "name": "stdout",
          "text": [
            "zz\n",
            "zzzzzz\n"
          ]
        }
      ],
      "source": [
        "s = input()\n",
        "s = s*6\n",
        "print(s[0:6])"
      ]
    }
  ]
}