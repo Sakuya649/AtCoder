{
  "nbformat": 4,
  "nbformat_minor": 0,
  "metadata": {
    "colab": {
      "name": "abc073_b.ipynb",
      "provenance": [],
      "authorship_tag": "ABX9TyMyZgkMQ2LbVUN2j6X+964h"
    },
    "kernelspec": {
      "name": "python3",
      "display_name": "Python 3"
    },
    "language_info": {
      "name": "python"
    }
  },
  "cells": [
    {
      "cell_type": "code",
      "execution_count": 2,
      "metadata": {
        "colab": {
          "base_uri": "https://localhost:8080/"
        },
        "id": "O5ddwqqqwH0F",
        "outputId": "68507663-3ea2-44d0-b187-590ea0b2d3de"
      },
      "outputs": [
        {
          "output_type": "stream",
          "name": "stdout",
          "text": [
            "2\n",
            "6 8\n",
            "3 3\n",
            "4\n"
          ]
        }
      ],
      "source": [
        "n = int(input())\n",
        "ans = 0\n",
        "for i in range(n):\n",
        "  l, r = map(int, input().split())\n",
        "  ans += (r-l) + 1\n",
        "print(ans)"
      ]
    }
  ]
}