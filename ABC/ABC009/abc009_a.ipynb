{
  "nbformat": 4,
  "nbformat_minor": 0,
  "metadata": {
    "colab": {
      "name": "abc009_a.ipynb",
      "provenance": [],
      "authorship_tag": "ABX9TyMRkPlg1z9SQf4RN/witHYw"
    },
    "kernelspec": {
      "name": "python3",
      "display_name": "Python 3"
    },
    "language_info": {
      "name": "python"
    }
  },
  "cells": [
    {
      "cell_type": "code",
      "execution_count": 9,
      "metadata": {
        "colab": {
          "base_uri": "https://localhost:8080/"
        },
        "id": "ZPCGludR-ngX",
        "outputId": "dc0f015a-7741-48cd-ac9a-449fe56b11e4"
      },
      "outputs": [
        {
          "output_type": "stream",
          "name": "stdout",
          "text": [
            "5\n",
            "3\n"
          ]
        }
      ],
      "source": [
        "n = int(input())\n",
        "print(int((n+1)//2))"
      ]
    }
  ]
}