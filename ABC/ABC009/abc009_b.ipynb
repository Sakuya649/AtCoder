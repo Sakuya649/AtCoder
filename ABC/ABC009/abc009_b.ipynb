{
  "nbformat": 4,
  "nbformat_minor": 0,
  "metadata": {
    "colab": {
      "name": "abc009_b.ipynb",
      "provenance": [],
      "authorship_tag": "ABX9TyN1D2NEEJ+xZ6oQ5frg6VOd"
    },
    "kernelspec": {
      "name": "python3",
      "display_name": "Python 3"
    },
    "language_info": {
      "name": "python"
    }
  },
  "cells": [
    {
      "cell_type": "code",
      "execution_count": 12,
      "metadata": {
        "colab": {
          "base_uri": "https://localhost:8080/"
        },
        "id": "NgruiYaY_wue",
        "outputId": "f2c667c3-80a6-4f41-f7e9-b6f01c8e0c2a"
      },
      "outputs": [
        {
          "output_type": "stream",
          "name": "stdout",
          "text": [
            "6\n",
            "100\n",
            "100\n",
            "100\n",
            "200\n",
            "200\n",
            "200\n",
            "100\n"
          ]
        }
      ],
      "source": [
        "a=[int(input()) for i in range(int(input()))]\n",
        "print(sorted(set(a))[-2])"
      ]
    }
  ]
}