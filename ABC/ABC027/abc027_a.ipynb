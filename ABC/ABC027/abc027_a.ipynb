{
  "nbformat": 4,
  "nbformat_minor": 0,
  "metadata": {
    "colab": {
      "name": "abc027_a.ipynb",
      "provenance": [],
      "authorship_tag": "ABX9TyMh1v9QuwkDH7vtRQCX491S"
    },
    "kernelspec": {
      "name": "python3",
      "display_name": "Python 3"
    },
    "language_info": {
      "name": "python"
    }
  },
  "cells": [
    {
      "cell_type": "code",
      "execution_count": 12,
      "metadata": {
        "colab": {
          "base_uri": "https://localhost:8080/"
        },
        "id": "TqFJEvrq5Bvl",
        "outputId": "d20864e2-7e10-47fc-b960-14d44abddfd8"
      },
      "outputs": [
        {
          "output_type": "stream",
          "name": "stdout",
          "text": [
            "3 4 3\n",
            "4\n"
          ]
        }
      ],
      "source": [
        "l = list(map(int, input().split()))\n",
        "print(l[0] ^ l[1] ^ l[2])"
      ]
    }
  ]
}