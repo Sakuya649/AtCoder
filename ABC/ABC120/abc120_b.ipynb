{
  "nbformat": 4,
  "nbformat_minor": 0,
  "metadata": {
    "colab": {
      "name": "abc120_b.ipynb",
      "provenance": [],
      "authorship_tag": "ABX9TyN+SjqSogek8cKhjcR99BJB"
    },
    "kernelspec": {
      "name": "python3",
      "display_name": "Python 3"
    },
    "language_info": {
      "name": "python"
    }
  },
  "cells": [
    {
      "cell_type": "code",
      "execution_count": null,
      "metadata": {
        "colab": {
          "base_uri": "https://localhost:8080/"
        },
        "id": "H7Sn1mfYSxI9",
        "outputId": "eeb760f4-4477-4a64-fe80-0fab788ad6dc"
      },
      "outputs": [
        {
          "output_type": "stream",
          "name": "stdout",
          "text": [
            "8 12 2\n",
            "2\n"
          ]
        }
      ],
      "source": [
        "a, b, k = map(int, input().split())\n",
        "n = max(a, b)\n",
        "for i in range(n, 0, -1):\n",
        "  if a % i == 0 and b % i == 0:\n",
        "    k -= 1\n",
        "    if k == 0:\n",
        "      print(i)\n",
        "      break"
      ]
    }
  ]
}