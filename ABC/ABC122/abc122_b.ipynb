{
  "nbformat": 4,
  "nbformat_minor": 0,
  "metadata": {
    "colab": {
      "name": "abc122_b.ipynb",
      "provenance": [],
      "collapsed_sections": [],
      "authorship_tag": "ABX9TyM4KsrS4pq4KkuhUDQodX54"
    },
    "kernelspec": {
      "name": "python3",
      "display_name": "Python 3"
    },
    "language_info": {
      "name": "python"
    }
  },
  "cells": [
    {
      "cell_type": "code",
      "source": [
        "S = input()\n",
        "ACGT = \"ACGT\"\n",
        "ans, cnt = 0, 0\n",
        "for s in S:\n",
        "  if s in ACGT:\n",
        "    cnt += 1\n",
        "    ans = max(cnt, ans)\n",
        "  else:\n",
        "    cnt = 0\n",
        "print(ans)"
      ],
      "metadata": {
        "colab": {
          "base_uri": "https://localhost:8080/"
        },
        "id": "EC7l-D6yYYYH",
        "outputId": "8994711c-580c-4614-c22b-a724406faf53"
      },
      "execution_count": 19,
      "outputs": [
        {
          "output_type": "stream",
          "name": "stdout",
          "text": [
            "ATCODER\n",
            "3\n"
          ]
        }
      ]
    }
  ]
}