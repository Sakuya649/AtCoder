{
  "nbformat": 4,
  "nbformat_minor": 0,
  "metadata": {
    "colab": {
      "name": "abc095_b.ipynb",
      "provenance": [],
      "authorship_tag": "ABX9TyM7i73Eke6CyWVqB0AYGPiJ"
    },
    "kernelspec": {
      "name": "python3",
      "display_name": "Python 3"
    },
    "language_info": {
      "name": "python"
    }
  },
  "cells": [
    {
      "cell_type": "code",
      "execution_count": 4,
      "metadata": {
        "colab": {
          "base_uri": "https://localhost:8080/"
        },
        "id": "Ukz8p5BG9CPt",
        "outputId": "87e805dd-4e95-43f5-de44-63a903fdcd13"
      },
      "outputs": [
        {
          "output_type": "stream",
          "name": "stdout",
          "text": [
            "5 3000\n",
            "150\n",
            "130\n",
            "150\n",
            "130\n",
            "110\n",
            "26\n"
          ]
        }
      ],
      "source": [
        "n, x = map(int, input().split())\n",
        "doughnut_list = [int(input()) for i in range(n)]\n",
        "ans = n\n",
        "x = x - sum(doughnut_list)\n",
        "ans += x // min(doughnut_list)\n",
        "print(ans)"
      ]
    }
  ]
}