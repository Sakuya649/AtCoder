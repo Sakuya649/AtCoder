{
  "nbformat": 4,
  "nbformat_minor": 0,
  "metadata": {
    "colab": {
      "name": "abc095_a.ipynb",
      "provenance": [],
      "authorship_tag": "ABX9TyNs4cMFyX70rQU4dLDdy6s2"
    },
    "kernelspec": {
      "name": "python3",
      "display_name": "Python 3"
    },
    "language_info": {
      "name": "python"
    }
  },
  "cells": [
    {
      "cell_type": "code",
      "execution_count": 5,
      "metadata": {
        "colab": {
          "base_uri": "https://localhost:8080/"
        },
        "id": "VbfvbsCF7rvl",
        "outputId": "4bf5ade1-e873-4501-94ec-e18fa4c4402a"
      },
      "outputs": [
        {
          "output_type": "stream",
          "name": "stdout",
          "text": [
            "xxx\n",
            "700\n"
          ]
        }
      ],
      "source": [
        "s = input()\n",
        "print(700+(s.count(\"o\")*100))"
      ]
    }
  ]
}