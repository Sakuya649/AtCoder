{
  "nbformat": 4,
  "nbformat_minor": 0,
  "metadata": {
    "colab": {
      "name": "abc096_b.ipynb",
      "provenance": [],
      "authorship_tag": "ABX9TyOz2R1zZ5kZgHd/HrUoVk12"
    },
    "kernelspec": {
      "name": "python3",
      "display_name": "Python 3"
    },
    "language_info": {
      "name": "python"
    }
  },
  "cells": [
    {
      "cell_type": "code",
      "execution_count": 2,
      "metadata": {
        "colab": {
          "base_uri": "https://localhost:8080/"
        },
        "id": "R5zzgRk9T57u",
        "outputId": "0b771f10-1873-4ac4-d2be-246b9f65e55b"
      },
      "outputs": [
        {
          "output_type": "stream",
          "name": "stdout",
          "text": [
            "3 3 4\n",
            "2\n",
            "22\n"
          ]
        }
      ],
      "source": [
        "a, b, c = sorted(map(int, input().split()))\n",
        "k = int(input())\n",
        "print(a+b+c*2**k)"
      ]
    }
  ]
}