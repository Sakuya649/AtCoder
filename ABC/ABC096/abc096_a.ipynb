{
  "nbformat": 4,
  "nbformat_minor": 0,
  "metadata": {
    "colab": {
      "name": "abc096_a.ipynb",
      "provenance": [],
      "authorship_tag": "ABX9TyNekEE1MnbTxKfw/4jPq6R/"
    },
    "kernelspec": {
      "name": "python3",
      "display_name": "Python 3"
    },
    "language_info": {
      "name": "python"
    }
  },
  "cells": [
    {
      "cell_type": "code",
      "execution_count": 5,
      "metadata": {
        "colab": {
          "base_uri": "https://localhost:8080/"
        },
        "id": "HniXV8l4ZKLe",
        "outputId": "39712269-125e-4f3b-9ba0-bdc299038ac6"
      },
      "outputs": [
        {
          "output_type": "stream",
          "name": "stdout",
          "text": [
            "11 30\n",
            "11\n"
          ]
        }
      ],
      "source": [
        "a, b = map(int, input().split())\n",
        "if b >= a:\n",
        "  print(a)\n",
        "else:\n",
        "  print(a-1)"
      ]
    }
  ]
}