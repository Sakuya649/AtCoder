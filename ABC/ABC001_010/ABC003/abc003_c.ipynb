{
  "nbformat": 4,
  "nbformat_minor": 0,
  "metadata": {
    "colab": {
      "name": "abc003_c.ipynb",
      "provenance": [],
      "authorship_tag": "ABX9TyM6T8Eg5U/FZhNwMhSdaOVl"
    },
    "kernelspec": {
      "name": "python3",
      "display_name": "Python 3"
    },
    "language_info": {
      "name": "python"
    }
  },
  "cells": [
    {
      "cell_type": "code",
      "execution_count": 7,
      "metadata": {
        "colab": {
          "base_uri": "https://localhost:8080/"
        },
        "id": "ikFBTNsWRhGF",
        "outputId": "1e41bf45-f156-41ad-c10a-7ed9b728cc70"
      },
      "outputs": [
        {
          "output_type": "stream",
          "name": "stdout",
          "text": [
            "10 5\n",
            "2604 2281 3204 2264 2200 2650 2229 2461 2439 2211\n",
            "2820.03125\n"
          ]
        }
      ],
      "source": [
        "n, k = map(int, input().split())\n",
        "r_list = sorted(map(int, input().split()))[-k:]\n",
        "ans = 0\n",
        "for i in range(k):\n",
        "  ans = (ans + r_list[i]) / 2\n",
        "print(ans)"
      ]
    }
  ]
}