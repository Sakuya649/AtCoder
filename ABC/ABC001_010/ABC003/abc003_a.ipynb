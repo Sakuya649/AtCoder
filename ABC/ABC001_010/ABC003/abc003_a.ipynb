{
  "nbformat": 4,
  "nbformat_minor": 0,
  "metadata": {
    "colab": {
      "name": "abc003_a.ipynb",
      "provenance": [],
      "mount_file_id": "1ZKChw6VnU86Z7c5BhpPX3qIajp0ghU5T",
      "authorship_tag": "ABX9TyMefMezlePdd6fLTXHXnXj3"
    },
    "kernelspec": {
      "name": "python3",
      "display_name": "Python 3"
    },
    "language_info": {
      "name": "python"
    }
  },
  "cells": [
    {
      "cell_type": "code",
      "execution_count": 4,
      "metadata": {
        "colab": {
          "base_uri": "https://localhost:8080/"
        },
        "id": "SHV5-rD5JKY1",
        "outputId": "5361a658-2c37-4c82-9bf7-c62e1fa35055"
      },
      "outputs": [
        {
          "output_type": "stream",
          "name": "stdout",
          "text": [
            "91\n",
            "460000\n"
          ]
        }
      ],
      "source": [
        "n = int(input())\n",
        "print(int((sum(range(1, n+1))/n) * 10000))"
      ]
    }
  ]
}