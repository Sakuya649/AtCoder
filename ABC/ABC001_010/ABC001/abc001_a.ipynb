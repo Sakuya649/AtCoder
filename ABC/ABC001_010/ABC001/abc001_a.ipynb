{
  "nbformat": 4,
  "nbformat_minor": 0,
  "metadata": {
    "colab": {
      "name": "abc001_a.ipynb",
      "provenance": [],
      "authorship_tag": "ABX9TyMfqvQEZVUcfqzf0qKAcyos"
    },
    "kernelspec": {
      "name": "python3",
      "display_name": "Python 3"
    },
    "language_info": {
      "name": "python"
    }
  },
  "cells": [
    {
      "cell_type": "code",
      "execution_count": 3,
      "metadata": {
        "colab": {
          "base_uri": "https://localhost:8080/"
        },
        "id": "L3cRxX3UwoV2",
        "outputId": "fff71c6e-4898-4c43-e5a8-b3489d3a1fcd"
      },
      "outputs": [
        {
          "output_type": "stream",
          "name": "stdout",
          "text": [
            "0\n",
            "0\n",
            "0\n"
          ]
        }
      ],
      "source": [
        "h1 = int(input())\n",
        "h2 = int(input())\n",
        "print(h1-h2)"
      ]
    }
  ]
}