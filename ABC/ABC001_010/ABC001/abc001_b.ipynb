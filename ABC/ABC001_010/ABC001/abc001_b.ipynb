{
  "nbformat": 4,
  "nbformat_minor": 0,
  "metadata": {
    "colab": {
      "name": "abc001_b.ipynb",
      "provenance": [],
      "authorship_tag": "ABX9TyP3LRB15d6WiQh/fgkGS+eO"
    },
    "kernelspec": {
      "name": "python3",
      "display_name": "Python 3"
    },
    "language_info": {
      "name": "python"
    }
  },
  "cells": [
    {
      "cell_type": "code",
      "execution_count": 6,
      "metadata": {
        "colab": {
          "base_uri": "https://localhost:8080/"
        },
        "id": "_lh_YDrOxRBo",
        "outputId": "a7b9f909-5b6a-4c2b-9631-48be797cbd03"
      },
      "outputs": [
        {
          "output_type": "stream",
          "name": "stdout",
          "text": [
            "15000\n",
            "65\n"
          ]
        }
      ],
      "source": [
        "m = int(input())\n",
        "km = m / 1000\n",
        " \n",
        "if km < 0.1:\n",
        "    vv = \"00\"\n",
        "elif 0.1 <= km and km <= 5:\n",
        "    if len(str(int(km))) == 1:\n",
        "        vv = str(int(km * 10)).zfill(2)\n",
        "    else:\n",
        "        vv = str(int(km * 10))\n",
        "elif 6 <= km and km <= 30:\n",
        "    vv = str(int(km + 50))\n",
        "elif 35 <= km and km <= 70:\n",
        "    vv = str(int(((km - 30) / 5) + 80))\n",
        "else:\n",
        "    vv = \"89\"\n",
        " \n",
        "print(vv)"
      ]
    }
  ]
}