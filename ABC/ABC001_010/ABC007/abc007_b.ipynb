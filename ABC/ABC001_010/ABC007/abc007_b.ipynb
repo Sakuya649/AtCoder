{
  "nbformat": 4,
  "nbformat_minor": 0,
  "metadata": {
    "colab": {
      "name": "abc007_b.ipynb",
      "provenance": [],
      "authorship_tag": "ABX9TyPVo56hbF0XEtCWn/CNlEgR"
    },
    "kernelspec": {
      "name": "python3",
      "display_name": "Python 3"
    },
    "language_info": {
      "name": "python"
    }
  },
  "cells": [
    {
      "cell_type": "code",
      "execution_count": 3,
      "metadata": {
        "colab": {
          "base_uri": "https://localhost:8080/"
        },
        "id": "gho73x1iwFnV",
        "outputId": "f4a113d5-8308-405b-aace-3428fbbd9fab"
      },
      "outputs": [
        {
          "output_type": "stream",
          "name": "stdout",
          "text": [
            "b\n",
            "a\n"
          ]
        }
      ],
      "source": [
        "a = input()\n",
        "if a == \"a\":\n",
        "  print(-1)\n",
        "else:\n",
        "  print(\"a\")"
      ]
    }
  ]
}