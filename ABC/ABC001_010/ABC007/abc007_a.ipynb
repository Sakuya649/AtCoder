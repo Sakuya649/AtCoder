{
  "nbformat": 4,
  "nbformat_minor": 0,
  "metadata": {
    "colab": {
      "name": "abc007_a.ipynb",
      "provenance": [],
      "authorship_tag": "ABX9TyM0JF2k+/+xqvwqb/Rn++BG"
    },
    "kernelspec": {
      "name": "python3",
      "display_name": "Python 3"
    },
    "language_info": {
      "name": "python"
    }
  },
  "cells": [
    {
      "cell_type": "code",
      "execution_count": 1,
      "metadata": {
        "colab": {
          "base_uri": "https://localhost:8080/"
        },
        "id": "w8KeyepDvOtP",
        "outputId": "3ba0d631-ad89-4d7a-bbeb-043a04116984"
      },
      "outputs": [
        {
          "output_type": "stream",
          "name": "stdout",
          "text": [
            "100\n",
            "99\n"
          ]
        }
      ],
      "source": [
        "n = int(input())\n",
        "print(n-1)"
      ]
    }
  ]
}