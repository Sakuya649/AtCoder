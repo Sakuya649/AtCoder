{
  "nbformat": 4,
  "nbformat_minor": 0,
  "metadata": {
    "colab": {
      "name": "abc006_a.ipynb",
      "provenance": [],
      "authorship_tag": "ABX9TyMapEqHeBZrhU68lthpji1S"
    },
    "kernelspec": {
      "name": "python3",
      "display_name": "Python 3"
    },
    "language_info": {
      "name": "python"
    }
  },
  "cells": [
    {
      "cell_type": "code",
      "execution_count": 1,
      "metadata": {
        "colab": {
          "base_uri": "https://localhost:8080/"
        },
        "id": "qdqmH5wllah8",
        "outputId": "ace4dcc0-07c5-4a90-eaea-10fef0e2b4ba"
      },
      "outputs": [
        {
          "output_type": "stream",
          "name": "stdout",
          "text": [
            "3\n",
            "YES\n"
          ]
        }
      ],
      "source": [
        "n = int(input())\n",
        "if n % 3 == 0:\n",
        "  print(\"YES\")\n",
        "else:\n",
        "  print(\"NO\")"
      ]
    }
  ]
}