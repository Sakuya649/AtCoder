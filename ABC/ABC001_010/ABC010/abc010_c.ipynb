{
  "nbformat": 4,
  "nbformat_minor": 0,
  "metadata": {
    "colab": {
      "name": "abc010_c.ipynb",
      "provenance": [],
      "authorship_tag": "ABX9TyMRUcik6fsf5gJwEMaGC3yP"
    },
    "kernelspec": {
      "name": "python3",
      "display_name": "Python 3"
    },
    "language_info": {
      "name": "python"
    }
  },
  "cells": [
    {
      "cell_type": "code",
      "execution_count": 5,
      "metadata": {
        "colab": {
          "base_uri": "https://localhost:8080/"
        },
        "id": "Om6Zyxocrv_F",
        "outputId": "cb17f970-044d-4c27-d01e-4cbe7404a88c"
      },
      "outputs": [
        {
          "output_type": "stream",
          "name": "stdout",
          "text": [
            "1 1 8 2 2 4\n",
            "1\n",
            "4 5\n",
            "NO\n"
          ]
        }
      ],
      "source": [
        "tx_a, ty_a, tx_b, ty_b, t, v = map(int, input().split())\n",
        "for i in range(int(input())):\n",
        "  x, y = map(int, input().split())\n",
        "  if (((tx_a - x)**2 + (ty_a - y)**2)**0.5) + (((tx_b - x)**2 + (ty_b - y)**2)**0.5) <= t*v:\n",
        "    print(\"YES\")\n",
        "    exit()\n",
        "print(\"NO\")"
      ]
    }
  ]
}