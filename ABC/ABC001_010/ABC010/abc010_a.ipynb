{
  "nbformat": 4,
  "nbformat_minor": 0,
  "metadata": {
    "colab": {
      "name": "abc010_a.ipynb",
      "provenance": [],
      "authorship_tag": "ABX9TyPH4YLITpJ921GTHy+QOPsa"
    },
    "kernelspec": {
      "name": "python3",
      "display_name": "Python 3"
    },
    "language_info": {
      "name": "python"
    }
  },
  "cells": [
    {
      "cell_type": "code",
      "execution_count": 1,
      "metadata": {
        "colab": {
          "base_uri": "https://localhost:8080/"
        },
        "id": "9A-esIPGk07W",
        "outputId": "46faad36-986d-4229-933c-8409fd6d4756"
      },
      "outputs": [
        {
          "output_type": "stream",
          "name": "stdout",
          "text": [
            "chokudai\n",
            "chokudaipp\n"
          ]
        }
      ],
      "source": [
        "print(input()+\"pp\")"
      ]
    }
  ]
}