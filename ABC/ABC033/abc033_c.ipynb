{
  "nbformat": 4,
  "nbformat_minor": 0,
  "metadata": {
    "colab": {
      "name": "abc033_c.ipynb",
      "provenance": [],
      "authorship_tag": "ABX9TyN10QLNZ45temvscpAa4Ntp"
    },
    "kernelspec": {
      "name": "python3",
      "display_name": "Python 3"
    },
    "language_info": {
      "name": "python"
    }
  },
  "cells": [
    {
      "cell_type": "code",
      "execution_count": 1,
      "metadata": {
        "colab": {
          "base_uri": "https://localhost:8080/"
        },
        "id": "k8YMqSn-Aj3R",
        "outputId": "70952abc-abb3-4b21-dc28-a796de693984"
      },
      "outputs": [
        {
          "output_type": "stream",
          "name": "stdout",
          "text": [
            "3*1+1*2\n",
            "2\n"
          ]
        }
      ],
      "source": [
        "s = input().split(\"+\")\n",
        "print(sum('0' not in i for i in s))"
      ]
    }
  ]
}