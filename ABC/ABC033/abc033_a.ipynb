{
  "nbformat": 4,
  "nbformat_minor": 0,
  "metadata": {
    "colab": {
      "name": "abc033_a.ipynb",
      "provenance": [],
      "authorship_tag": "ABX9TyMsVR1aZa356MHFUAtGPlMk"
    },
    "kernelspec": {
      "name": "python3",
      "display_name": "Python 3"
    },
    "language_info": {
      "name": "python"
    }
  },
  "cells": [
    {
      "cell_type": "code",
      "execution_count": 4,
      "metadata": {
        "colab": {
          "base_uri": "https://localhost:8080/"
        },
        "id": "zVQ2H7IC8YVc",
        "outputId": "e0c3f2e3-84d9-43ce-e9fc-841b8f0a009e"
      },
      "outputs": [
        {
          "output_type": "stream",
          "name": "stdout",
          "text": [
            "0000\n",
            "SAME\n"
          ]
        }
      ],
      "source": [
        "if len(set(input())) == 1:\n",
        "  print(\"SAME\")\n",
        "else:\n",
        "  print(\"DIFFERENT\")"
      ]
    }
  ]
}