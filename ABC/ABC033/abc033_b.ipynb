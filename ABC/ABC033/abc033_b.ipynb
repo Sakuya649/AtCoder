{
  "nbformat": 4,
  "nbformat_minor": 0,
  "metadata": {
    "colab": {
      "name": "abc033_b.ipynb",
      "provenance": [],
      "authorship_tag": "ABX9TyO5k1e4yNbouPnzFdUm7TWZ"
    },
    "kernelspec": {
      "name": "python3",
      "display_name": "Python 3"
    },
    "language_info": {
      "name": "python"
    }
  },
  "cells": [
    {
      "cell_type": "code",
      "execution_count": 8,
      "metadata": {
        "colab": {
          "base_uri": "https://localhost:8080/"
        },
        "id": "6Pslf2Oh9ZCy",
        "outputId": "afd81f26-7a24-426c-8f11-934da5964155"
      },
      "outputs": [
        {
          "output_type": "stream",
          "name": "stdout",
          "text": [
            "4\n",
            "Unagi 20\n",
            "Usagi 13\n",
            "Snake 42\n",
            "Smeek 7\n",
            "Snake\n"
          ]
        }
      ],
      "source": [
        "s_dict = {}\n",
        "for i in range(int(input())):\n",
        "  s, p = input().split()\n",
        "  p = int(p)\n",
        "  s_dict[s] = p\n",
        "if max(s_dict.values()) > sum(s_dict.values()) / 2:\n",
        "  print(max(s_dict, key=s_dict.get))\n",
        "else:\n",
        "  print(\"atcoder\")"
      ]
    }
  ]
}