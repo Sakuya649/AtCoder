{
  "nbformat": 4,
  "nbformat_minor": 0,
  "metadata": {
    "colab": {
      "name": "abc005_a.ipynb",
      "provenance": [],
      "authorship_tag": "ABX9TyPq9Lbev4KSIkNI0HXMpl1O"
    },
    "kernelspec": {
      "name": "python3",
      "display_name": "Python 3"
    },
    "language_info": {
      "name": "python"
    }
  },
  "cells": [
    {
      "cell_type": "code",
      "execution_count": 3,
      "metadata": {
        "colab": {
          "base_uri": "https://localhost:8080/"
        },
        "id": "wFopsxIYeJc_",
        "outputId": "c37627c4-4a6b-4b9c-dddf-ab6a7848a374"
      },
      "outputs": [
        {
          "output_type": "stream",
          "name": "stdout",
          "text": [
            "4 3\n",
            "0\n"
          ]
        }
      ],
      "source": [
        "x, y = map(int, input().split())\n",
        "print(int(y/x))"
      ]
    }
  ]
}