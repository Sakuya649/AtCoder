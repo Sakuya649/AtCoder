{
  "nbformat": 4,
  "nbformat_minor": 0,
  "metadata": {
    "colab": {
      "name": "abc253_a.ipynb",
      "provenance": [],
      "authorship_tag": "ABX9TyMFy0TF60ricGtZpLojejdp"
    },
    "kernelspec": {
      "name": "python3",
      "display_name": "Python 3"
    },
    "language_info": {
      "name": "python"
    }
  },
  "cells": [
    {
      "cell_type": "code",
      "execution_count": 4,
      "metadata": {
        "colab": {
          "base_uri": "https://localhost:8080/"
        },
        "id": "GgtPML-mJHON",
        "outputId": "4e57ec55-06b3-4105-b56b-91cd5fb70089"
      },
      "outputs": [
        {
          "output_type": "stream",
          "name": "stdout",
          "text": [
            "5 3 2\n",
            "Yes\n"
          ]
        }
      ],
      "source": [
        "a, b, c = map(int, input().split())\n",
        "print([\"No\", \"Yes\"][(a <= b and b <= c) or (c <= b and b <= a)])"
      ]
    }
  ]
}