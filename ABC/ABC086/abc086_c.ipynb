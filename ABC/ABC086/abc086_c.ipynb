{
  "nbformat": 4,
  "nbformat_minor": 0,
  "metadata": {
    "colab": {
      "name": "abc086_c.ipynb",
      "provenance": [],
      "authorship_tag": "ABX9TyODkJHdDEyRlUcYf4fIooTP"
    },
    "kernelspec": {
      "name": "python3",
      "display_name": "Python 3"
    },
    "language_info": {
      "name": "python"
    }
  },
  "cells": [
    {
      "cell_type": "code",
      "execution_count": 4,
      "metadata": {
        "colab": {
          "base_uri": "https://localhost:8080/"
        },
        "id": "4PGADgGTeO2i",
        "outputId": "3344b0bd-f82b-44b8-c487-a7c9ad1ea970"
      },
      "outputs": [
        {
          "output_type": "stream",
          "name": "stdout",
          "text": [
            "2\n",
            "5 1 1\n",
            "100 1 1\n",
            "No\n"
          ]
        }
      ],
      "source": [
        "n = int(input())\n",
        "now, x, y = 0, 0, 0\n",
        "for i in range(n):\n",
        "  t, x1, y1 = map(int, input().split())\n",
        "  t2 = t-now\n",
        "  x2 = abs(x-x1)\n",
        "  y2 = abs(y-y1)\n",
        "  if (x2+y2) > t2 or (x+y+t) % 2 != t2 % 2:\n",
        "    print(\"No\")\n",
        "    break\n",
        "  now = t\n",
        "  x = x1\n",
        "  y = y1\n",
        "else:\n",
        "  print(\"Yes\")"
      ]
    }
  ]
}