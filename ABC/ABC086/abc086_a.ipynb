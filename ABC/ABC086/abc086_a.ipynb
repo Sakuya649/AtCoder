{
  "nbformat": 4,
  "nbformat_minor": 0,
  "metadata": {
    "colab": {
      "name": "abc086_a.ipynb",
      "provenance": [],
      "authorship_tag": "ABX9TyNFgWbY+kdOz5W9LtPOI+A9"
    },
    "kernelspec": {
      "name": "python3",
      "display_name": "Python 3"
    },
    "language_info": {
      "name": "python"
    }
  },
  "cells": [
    {
      "cell_type": "code",
      "execution_count": 2,
      "metadata": {
        "colab": {
          "base_uri": "https://localhost:8080/"
        },
        "id": "hFul4vkGfrg7",
        "outputId": "4f9364d2-7a08-4e66-f76e-c12062210fc4"
      },
      "outputs": [
        {
          "output_type": "stream",
          "name": "stdout",
          "text": [
            "1 21\n",
            "Odd\n"
          ]
        }
      ],
      "source": [
        "a, b = map(int, input().split())\n",
        "print([\"Even\", \"Odd\"][a*b % 2 == 1])"
      ]
    }
  ]
}