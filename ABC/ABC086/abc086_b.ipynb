{
  "nbformat": 4,
  "nbformat_minor": 0,
  "metadata": {
    "colab": {
      "name": "abc086_b.ipynb",
      "provenance": [],
      "authorship_tag": "ABX9TyMm9crl8DJcPldZZsKT3pK9"
    },
    "kernelspec": {
      "name": "python3",
      "display_name": "Python 3"
    },
    "language_info": {
      "name": "python"
    }
  },
  "cells": [
    {
      "cell_type": "code",
      "execution_count": 8,
      "metadata": {
        "colab": {
          "base_uri": "https://localhost:8080/"
        },
        "id": "j3onxZK7vBbE",
        "outputId": "06e9e6dc-3ecf-425f-8910-f3d989e40f9f"
      },
      "outputs": [
        {
          "output_type": "stream",
          "name": "stdout",
          "text": [
            "12 10\n",
            "No\n"
          ]
        }
      ],
      "source": [
        "a, b = input().split()\n",
        "num = int(a+b)\n",
        "yakusu = [i for i in range(1, int(num)+1) if num % i ==0]\n",
        "print([\"Yes\", \"No\"][len(yakusu) % 2 == 0])"
      ]
    }
  ]
}