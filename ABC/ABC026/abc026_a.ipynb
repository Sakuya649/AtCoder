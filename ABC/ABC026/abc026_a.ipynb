{
  "nbformat": 4,
  "nbformat_minor": 0,
  "metadata": {
    "colab": {
      "name": "abc026_a.ipynb",
      "provenance": [],
      "authorship_tag": "ABX9TyNFMwhfVmp/M3FSoTLDsrrO"
    },
    "kernelspec": {
      "name": "python3",
      "display_name": "Python 3"
    },
    "language_info": {
      "name": "python"
    }
  },
  "cells": [
    {
      "cell_type": "code",
      "execution_count": 8,
      "metadata": {
        "colab": {
          "base_uri": "https://localhost:8080/"
        },
        "id": "XSM9tyWkbGvo",
        "outputId": "f778bfcd-d3df-45ca-e7d0-3a6c723ebb94"
      },
      "outputs": [
        {
          "output_type": "stream",
          "name": "stdout",
          "text": [
            "60\n",
            "900\n"
          ]
        }
      ],
      "source": [
        "#input()**2//4で計算できる\n",
        "a = int(input())\n",
        "ans = 0\n",
        "for i in range(1, a+1):\n",
        "  xy = i * (a-i)\n",
        "  if ans <= xy:\n",
        "    ans = xy\n",
        "print(ans)"
      ]
    }
  ]
}