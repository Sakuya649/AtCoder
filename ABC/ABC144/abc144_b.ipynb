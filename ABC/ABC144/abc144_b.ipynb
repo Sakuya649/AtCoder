{
  "nbformat": 4,
  "nbformat_minor": 0,
  "metadata": {
    "colab": {
      "name": "abc144_b.ipynb",
      "provenance": [],
      "authorship_tag": "ABX9TyMZASMz71PRmq8xngcFzH15"
    },
    "kernelspec": {
      "name": "python3",
      "display_name": "Python 3"
    },
    "language_info": {
      "name": "python"
    }
  },
  "cells": [
    {
      "cell_type": "code",
      "execution_count": 6,
      "metadata": {
        "id": "y4NBFT2EDmUB",
        "colab": {
          "base_uri": "https://localhost:8080/"
        },
        "outputId": "70831cf3-622e-48db-a000-b9b8c1d61909"
      },
      "outputs": [
        {
          "output_type": "stream",
          "name": "stdout",
          "text": [
            "18\n",
            "Yes\n"
          ]
        }
      ],
      "source": [
        "n = int(input())\n",
        "for i in range(1, 10):\n",
        "  for j in range(1, 10):\n",
        "    if i*j == n:\n",
        "      print(\"Yes\")\n",
        "      break\n",
        "  else:\n",
        "    continue\n",
        "  break\n",
        "else:\n",
        "  print(\"No\")"
      ]
    }
  ]
}