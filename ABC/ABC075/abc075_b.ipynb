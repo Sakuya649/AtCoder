{
  "nbformat": 4,
  "nbformat_minor": 0,
  "metadata": {
    "colab": {
      "name": "abc075_b.ipynb",
      "provenance": [],
      "authorship_tag": "ABX9TyN+qYngrxYRGf/ekQmW/a8U"
    },
    "kernelspec": {
      "name": "python3",
      "display_name": "Python 3"
    },
    "language_info": {
      "name": "python"
    }
  },
  "cells": [
    {
      "cell_type": "code",
      "execution_count": 1,
      "metadata": {
        "id": "YEOewvU5TkSL",
        "colab": {
          "base_uri": "https://localhost:8080/"
        },
        "outputId": "ffac8a9c-8e00-4f75-aec7-672002bde6d9"
      },
      "outputs": [
        {
          "output_type": "stream",
          "name": "stdout",
          "text": [
            "3 5\n",
            ".....\n",
            ".#.#.\n",
            ".....\n",
            "11211\n",
            "1#2#1\n",
            "11211\n"
          ]
        }
      ],
      "source": [
        "h, w = map(int, input().split())\n",
        "S = [input() for i in range(h)]\n",
        "for i in range(h):\n",
        "  l = \"\"\n",
        "  for j in range(w):\n",
        "    if S[i][j] == \"#\":\n",
        "      l += \"#\"\n",
        "    else:\n",
        "      l+=str(sum([t[max(0,j-1):min(w,j+2)].count(\"#\") for t in S[max(0,i-1):min(h,i+2)]]))\n",
        "  print(l)      "
      ]
    }
  ]
}