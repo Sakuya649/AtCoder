{
  "nbformat": 4,
  "nbformat_minor": 0,
  "metadata": {
    "colab": {
      "name": "abc075_a.ipynb",
      "provenance": [],
      "authorship_tag": "ABX9TyPJwuHjj0sDXvSL4vjb9Mqp"
    },
    "kernelspec": {
      "name": "python3",
      "display_name": "Python 3"
    },
    "language_info": {
      "name": "python"
    }
  },
  "cells": [
    {
      "cell_type": "code",
      "execution_count": 4,
      "metadata": {
        "colab": {
          "base_uri": "https://localhost:8080/"
        },
        "id": "MJIS92OmKsCT",
        "outputId": "a325dc14-2dc5-42ba-9127-15cd4ed08c4a"
      },
      "outputs": [
        {
          "output_type": "stream",
          "name": "stdout",
          "text": [
            "-100 100 100\n",
            "-100\n"
          ]
        }
      ],
      "source": [
        "a, b, c = map(int, input().split())\n",
        "if a == b: print(c)\n",
        "elif a == c: print(b)\n",
        "else: print(a)"
      ]
    }
  ]
}