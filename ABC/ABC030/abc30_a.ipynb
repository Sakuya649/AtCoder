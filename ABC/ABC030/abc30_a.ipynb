{
  "nbformat": 4,
  "nbformat_minor": 0,
  "metadata": {
    "colab": {
      "name": "abc30_a.ipynb",
      "provenance": [],
      "authorship_tag": "ABX9TyP5XPiCd5CN7x3Kpg7ZELIB"
    },
    "kernelspec": {
      "name": "python3",
      "display_name": "Python 3"
    },
    "language_info": {
      "name": "python"
    }
  },
  "cells": [
    {
      "cell_type": "code",
      "execution_count": 3,
      "metadata": {
        "colab": {
          "base_uri": "https://localhost:8080/"
        },
        "id": "irbzdpsX9FcC",
        "outputId": "aee24b98-5d0a-4091-c738-f54389dd3442"
      },
      "outputs": [
        {
          "output_type": "stream",
          "name": "stdout",
          "text": [
            "66 30 55 25\n",
            "DRAW\n"
          ]
        }
      ],
      "source": [
        "a, b, c, d = map(int, input().split())\n",
        "if b/a > d/c: print(\"TAKAHASHI\")\n",
        "elif b/a < d/c: print(\"AOKI\")\n",
        "else: print(\"DRAW\")"
      ]
    }
  ]
}